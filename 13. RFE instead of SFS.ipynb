{
 "cells": [
  {
   "cell_type": "code",
   "execution_count": 1,
   "id": "6fd60258-b88d-42bc-adc8-7d760c50cb58",
   "metadata": {
    "execution": {
     "iopub.execute_input": "2024-03-05T14:26:26.377564Z",
     "iopub.status.busy": "2024-03-05T14:26:26.376775Z",
     "iopub.status.idle": "2024-03-05T14:26:27.376051Z",
     "shell.execute_reply": "2024-03-05T14:26:27.375654Z",
     "shell.execute_reply.started": "2024-03-05T14:26:26.377523Z"
    },
    "jupyter": {
     "source_hidden": true
    }
   },
   "outputs": [],
   "source": [
    "import numpy as np\n",
    "import pandas as pd\n",
    "from tqdm.auto import tqdm\n",
    "import matplotlib.pyplot as plt\n",
    "import seaborn as sns\n",
    "from mlxtend.feature_selection import (\n",
    "    SequentialFeatureSelector,\n",
    ")\n",
    "from mlxtend.evaluate import feature_importance_permutation\n",
    "from mlxtend.plotting import plot_sequential_feature_selection as plot_sfs\n",
    "from sklearn.utils.estimator_checks import check_estimator\n",
    "from sklearn.model_selection import cross_val_predict, train_test_split\n",
    "from sklearn.metrics import accuracy_score, f1_score, matthews_corrcoef\n",
    "import matplotlib.ticker as ticker\n",
    "import os\n",
    "from pathlib import Path\n",
    "import json\n",
    "\n",
    "import sys\n",
    "\n",
    "sys.path.append(\"scripts\")\n",
    "\n",
    "import utils\n",
    "import distclassipy as dcpy\n",
    "\n",
    "cd = dcpy.Distance()"
   ]
  },
  {
   "cell_type": "code",
   "execution_count": 2,
   "id": "6a6ba512-bafa-481b-8bb5-5e6971dd8f2a",
   "metadata": {
    "execution": {
     "iopub.execute_input": "2024-03-05T14:26:27.376711Z",
     "iopub.status.busy": "2024-03-05T14:26:27.376558Z",
     "iopub.status.idle": "2024-03-05T14:26:27.379579Z",
     "shell.execute_reply": "2024-03-05T14:26:27.379304Z",
     "shell.execute_reply.started": "2024-03-05T14:26:27.376700Z"
    },
    "jupyter": {
     "source_hidden": true
    }
   },
   "outputs": [],
   "source": [
    "with open(\"settings.txt\") as f:\n",
    "    settings_dict = json.load(f)\n",
    "np.random.seed(settings_dict[\"seed_choice\"])\n",
    "\n",
    "classification_letter = \"c\"\n",
    "classification_problem = settings_dict[\"classification_problem\"][classification_letter]\n",
    "classes_to_keep = settings_dict[\"classes_to_keep\"][classification_letter]\n",
    "results_subfolder = f\"{classification_letter}. {classification_problem}\"\n",
    "sns_dict = settings_dict[\"sns_dict\"]\n",
    "\n",
    "sns.set_theme(**sns_dict)"
   ]
  },
  {
   "cell_type": "code",
   "execution_count": 3,
   "id": "b275eea2-c714-46b2-bf9b-00817164bf7a",
   "metadata": {
    "execution": {
     "iopub.execute_input": "2024-03-05T14:26:27.379975Z",
     "iopub.status.busy": "2024-03-05T14:26:27.379895Z",
     "iopub.status.idle": "2024-03-05T14:26:27.541172Z",
     "shell.execute_reply": "2024-03-05T14:26:27.540923Z",
     "shell.execute_reply.started": "2024-03-05T14:26:27.379963Z"
    },
    "jupyter": {
     "source_hidden": true
    }
   },
   "outputs": [],
   "source": [
    "check_estimator(dcpy.DistanceMetricClassifier())  # passes"
   ]
  },
  {
   "cell_type": "code",
   "execution_count": 4,
   "id": "65a31dae-a482-479c-bcdf-1ca4d95badfc",
   "metadata": {
    "execution": {
     "iopub.execute_input": "2024-03-05T14:26:27.541756Z",
     "iopub.status.busy": "2024-03-05T14:26:27.541654Z",
     "iopub.status.idle": "2024-03-05T14:26:27.610997Z",
     "shell.execute_reply": "2024-03-05T14:26:27.610597Z",
     "shell.execute_reply.started": "2024-03-05T14:26:27.541748Z"
    },
    "jupyter": {
     "source_hidden": true
    }
   },
   "outputs": [],
   "source": [
    "# Load Data\n",
    "X_df_FULL = pd.read_csv(\"data/X_df.csv\", index_col=0)\n",
    "y_df_FULL = pd.read_csv(\"data/y_df.csv\", index_col=0)"
   ]
  },
  {
   "cell_type": "code",
   "execution_count": 5,
   "id": "f67c5d91-5e1b-4d79-aa35-49b58f7d1db9",
   "metadata": {
    "execution": {
     "iopub.execute_input": "2024-03-05T14:26:27.611584Z",
     "iopub.status.busy": "2024-03-05T14:26:27.611495Z",
     "iopub.status.idle": "2024-03-05T14:26:27.619247Z",
     "shell.execute_reply": "2024-03-05T14:26:27.616348Z",
     "shell.execute_reply.started": "2024-03-05T14:26:27.611575Z"
    },
    "jupyter": {
     "source_hidden": true
    }
   },
   "outputs": [
    {
     "name": "stdout",
     "output_type": "stream",
     "text": [
      "31\n"
     ]
    }
   ],
   "source": [
    "# Remove manually selected 'bad' features\n",
    "with open(os.path.join(\"results\", results_subfolder, \"drop_features.txt\")) as f:\n",
    "    bad_features = json.load(f)  # manually selected\n",
    "\n",
    "X_df_FULL = X_df_FULL.drop(bad_features, axis=1)\n",
    "\n",
    "print(X_df_FULL.shape[1])"
   ]
  },
  {
   "cell_type": "code",
   "execution_count": 6,
   "id": "fa5d12e6-d9a6-49fc-824e-99211c3476e8",
   "metadata": {
    "execution": {
     "iopub.execute_input": "2024-03-05T14:26:27.624541Z",
     "iopub.status.busy": "2024-03-05T14:26:27.623840Z",
     "iopub.status.idle": "2024-03-05T14:26:27.630520Z",
     "shell.execute_reply": "2024-03-05T14:26:27.629792Z",
     "shell.execute_reply.started": "2024-03-05T14:26:27.624529Z"
    },
    "jupyter": {
     "source_hidden": true
    }
   },
   "outputs": [],
   "source": [
    "# Keep only current classes\n",
    "cl_keep_str = \"_\".join(classes_to_keep)\n",
    "\n",
    "y_df = y_df_FULL[y_df_FULL[\"class\"].isin(classes_to_keep)]\n",
    "X_df = X_df_FULL.loc[y_df.index]\n",
    "X = X_df.to_numpy()\n",
    "y = y_df.to_numpy().ravel()"
   ]
  },
  {
   "cell_type": "code",
   "execution_count": 7,
   "id": "3c663feb-b106-498d-b118-09752e7ce818",
   "metadata": {
    "execution": {
     "iopub.execute_input": "2024-03-05T14:26:27.632153Z",
     "iopub.status.busy": "2024-03-05T14:26:27.632009Z",
     "iopub.status.idle": "2024-03-05T14:26:27.635466Z",
     "shell.execute_reply": "2024-03-05T14:26:27.634334Z",
     "shell.execute_reply.started": "2024-03-05T14:26:27.632143Z"
    },
    "jupyter": {
     "source_hidden": true
    }
   },
   "outputs": [],
   "source": [
    "feats_top_plot = 15\n",
    "### For plotting only - how many features to plot in relative importance"
   ]
  },
  {
   "cell_type": "markdown",
   "id": "2d8f111e-0df8-4fa3-a52f-5c6d40514794",
   "metadata": {},
   "source": [
    "### Distance Based"
   ]
  },
  {
   "cell_type": "markdown",
   "id": "e7e309ba-84b0-457a-a9a8-07cc1936c2e1",
   "metadata": {},
   "source": [
    "---\n",
    "# TEMP"
   ]
  },
  {
   "cell_type": "code",
   "execution_count": 8,
   "id": "b37a3fcf",
   "metadata": {
    "execution": {
     "iopub.execute_input": "2024-03-05T14:26:27.636754Z",
     "iopub.status.busy": "2024-03-05T14:26:27.636432Z",
     "iopub.status.idle": "2024-03-05T14:26:27.644441Z",
     "shell.execute_reply": "2024-03-05T14:26:27.643819Z",
     "shell.execute_reply.started": "2024-03-05T14:26:27.636737Z"
    }
   },
   "outputs": [],
   "source": [
    "metric = \"canberra\""
   ]
  },
  {
   "cell_type": "code",
   "execution_count": 9,
   "id": "ca7f8270-6f43-4cc8-b0ad-c145300f5dd8",
   "metadata": {
    "execution": {
     "iopub.execute_input": "2024-03-05T14:26:27.646212Z",
     "iopub.status.busy": "2024-03-05T14:26:27.645995Z",
     "iopub.status.idle": "2024-03-05T14:26:27.656440Z",
     "shell.execute_reply": "2024-03-05T14:26:27.655778Z",
     "shell.execute_reply.started": "2024-03-05T14:26:27.646195Z"
    }
   },
   "outputs": [],
   "source": [
    "metric_str = utils.get_metric_name(metric)\n",
    "\n",
    "# Feature Importance via Feature Permutation\n",
    "\n",
    "X_train, X_test, y_train, y_test = train_test_split(\n",
    "    X, y, test_size=0.33, stratify=y, random_state=settings_dict[\"seed_choice\"]\n",
    ")"
   ]
  },
  {
   "cell_type": "code",
   "execution_count": 18,
   "id": "bc706adb-6b9e-49ef-9a96-82324429d93b",
   "metadata": {
    "execution": {
     "iopub.execute_input": "2024-03-05T14:27:07.059104Z",
     "iopub.status.busy": "2024-03-05T14:27:07.058134Z",
     "iopub.status.idle": "2024-03-05T14:27:07.069883Z",
     "shell.execute_reply": "2024-03-05T14:27:07.068754Z",
     "shell.execute_reply.started": "2024-03-05T14:27:07.059050Z"
    }
   },
   "outputs": [],
   "source": [
    "from sklearn.feature_selection import RFE\n",
    "\n",
    "def custom_importance_getter(lcdc):\n",
    "\n",
    "    imp_vals, imp_all = feature_importance_permutation(\n",
    "        predict_method=lcdc.predict,\n",
    "        X=X_test,\n",
    "        y=y_test,\n",
    "        metric=\"accuracy\",\n",
    "        num_rounds=10,\n",
    "        seed=settings_dict[\"seed_choice\"]\n",
    "    )\n",
    "\n",
    "    return imp_vals"
   ]
  },
  {
   "cell_type": "code",
   "execution_count": 22,
   "id": "8668a289-afec-4f8c-8d26-1e3ffcdfbc5b",
   "metadata": {
    "execution": {
     "iopub.execute_input": "2024-03-05T14:27:36.829211Z",
     "iopub.status.busy": "2024-03-05T14:27:36.828428Z",
     "iopub.status.idle": "2024-03-05T14:27:37.099766Z",
     "shell.execute_reply": "2024-03-05T14:27:37.099174Z",
     "shell.execute_reply.started": "2024-03-05T14:27:36.829173Z"
    }
   },
   "outputs": [
    {
     "name": "stdout",
     "output_type": "stream",
     "text": [
      "Fitting estimator with 31 features.\n",
      "Fitting estimator with 30 features.\n"
     ]
    },
    {
     "ename": "ValueError",
     "evalue": "XA and XB must have the same number of columns (i.e. feature dimension.)",
     "output_type": "error",
     "traceback": [
      "\u001b[0;31m---------------------------------------------------------------------------\u001b[0m",
      "\u001b[0;31mValueError\u001b[0m                                Traceback (most recent call last)",
      "Cell \u001b[0;32mIn[22], line 10\u001b[0m\n\u001b[1;32m      6\u001b[0m lcdc\u001b[38;5;241m.\u001b[39mfit(X_train, y_train)\n\u001b[1;32m      8\u001b[0m rfe \u001b[38;5;241m=\u001b[39m RFE(estimator\u001b[38;5;241m=\u001b[39mlcdc, n_features_to_select\u001b[38;5;241m=\u001b[39m\u001b[38;5;241m1\u001b[39m, step\u001b[38;5;241m=\u001b[39m\u001b[38;5;241m1\u001b[39m, importance_getter\u001b[38;5;241m=\u001b[39mcustom_importance_getter,verbose\u001b[38;5;241m=\u001b[39m\u001b[38;5;241m1\u001b[39m)\n\u001b[0;32m---> 10\u001b[0m \u001b[43mrfe\u001b[49m\u001b[38;5;241;43m.\u001b[39;49m\u001b[43mfit\u001b[49m\u001b[43m(\u001b[49m\u001b[43mX_train\u001b[49m\u001b[43m,\u001b[49m\u001b[43m \u001b[49m\u001b[43my_train\u001b[49m\u001b[43m)\u001b[49m\n\u001b[1;32m     12\u001b[0m ranking \u001b[38;5;241m=\u001b[39m rfe\u001b[38;5;241m.\u001b[39mranking_\n\u001b[1;32m     13\u001b[0m \u001b[38;5;28mprint\u001b[39m(\u001b[38;5;124m\"\u001b[39m\u001b[38;5;124mRanking of features:\u001b[39m\u001b[38;5;124m\"\u001b[39m, ranking)\n",
      "File \u001b[0;32m~/miniconda3/lib/python3.12/site-packages/sklearn/base.py:1474\u001b[0m, in \u001b[0;36m_fit_context.<locals>.decorator.<locals>.wrapper\u001b[0;34m(estimator, *args, **kwargs)\u001b[0m\n\u001b[1;32m   1467\u001b[0m     estimator\u001b[38;5;241m.\u001b[39m_validate_params()\n\u001b[1;32m   1469\u001b[0m \u001b[38;5;28;01mwith\u001b[39;00m config_context(\n\u001b[1;32m   1470\u001b[0m     skip_parameter_validation\u001b[38;5;241m=\u001b[39m(\n\u001b[1;32m   1471\u001b[0m         prefer_skip_nested_validation \u001b[38;5;129;01mor\u001b[39;00m global_skip_validation\n\u001b[1;32m   1472\u001b[0m     )\n\u001b[1;32m   1473\u001b[0m ):\n\u001b[0;32m-> 1474\u001b[0m     \u001b[38;5;28;01mreturn\u001b[39;00m \u001b[43mfit_method\u001b[49m\u001b[43m(\u001b[49m\u001b[43mestimator\u001b[49m\u001b[43m,\u001b[49m\u001b[43m \u001b[49m\u001b[38;5;241;43m*\u001b[39;49m\u001b[43margs\u001b[49m\u001b[43m,\u001b[49m\u001b[43m \u001b[49m\u001b[38;5;241;43m*\u001b[39;49m\u001b[38;5;241;43m*\u001b[39;49m\u001b[43mkwargs\u001b[49m\u001b[43m)\u001b[49m\n",
      "File \u001b[0;32m~/miniconda3/lib/python3.12/site-packages/sklearn/feature_selection/_rfe.py:264\u001b[0m, in \u001b[0;36mRFE.fit\u001b[0;34m(self, X, y, **fit_params)\u001b[0m\n\u001b[1;32m    244\u001b[0m \u001b[38;5;250m\u001b[39m\u001b[38;5;124;03m\"\"\"Fit the RFE model and then the underlying estimator on the selected features.\u001b[39;00m\n\u001b[1;32m    245\u001b[0m \n\u001b[1;32m    246\u001b[0m \u001b[38;5;124;03mParameters\u001b[39;00m\n\u001b[0;32m   (...)\u001b[0m\n\u001b[1;32m    261\u001b[0m \u001b[38;5;124;03m    Fitted estimator.\u001b[39;00m\n\u001b[1;32m    262\u001b[0m \u001b[38;5;124;03m\"\"\"\u001b[39;00m\n\u001b[1;32m    263\u001b[0m _raise_for_unsupported_routing(\u001b[38;5;28mself\u001b[39m, \u001b[38;5;124m\"\u001b[39m\u001b[38;5;124mfit\u001b[39m\u001b[38;5;124m\"\u001b[39m, \u001b[38;5;241m*\u001b[39m\u001b[38;5;241m*\u001b[39mfit_params)\n\u001b[0;32m--> 264\u001b[0m \u001b[38;5;28;01mreturn\u001b[39;00m \u001b[38;5;28;43mself\u001b[39;49m\u001b[38;5;241;43m.\u001b[39;49m\u001b[43m_fit\u001b[49m\u001b[43m(\u001b[49m\u001b[43mX\u001b[49m\u001b[43m,\u001b[49m\u001b[43m \u001b[49m\u001b[43my\u001b[49m\u001b[43m,\u001b[49m\u001b[43m \u001b[49m\u001b[38;5;241;43m*\u001b[39;49m\u001b[38;5;241;43m*\u001b[39;49m\u001b[43mfit_params\u001b[49m\u001b[43m)\u001b[49m\n",
      "File \u001b[0;32m~/miniconda3/lib/python3.12/site-packages/sklearn/feature_selection/_rfe.py:314\u001b[0m, in \u001b[0;36mRFE._fit\u001b[0;34m(self, X, y, step_score, **fit_params)\u001b[0m\n\u001b[1;32m    311\u001b[0m estimator\u001b[38;5;241m.\u001b[39mfit(X[:, features], y, \u001b[38;5;241m*\u001b[39m\u001b[38;5;241m*\u001b[39mfit_params)\n\u001b[1;32m    313\u001b[0m \u001b[38;5;66;03m# Get importance and rank them\u001b[39;00m\n\u001b[0;32m--> 314\u001b[0m importances \u001b[38;5;241m=\u001b[39m \u001b[43m_get_feature_importances\u001b[49m\u001b[43m(\u001b[49m\n\u001b[1;32m    315\u001b[0m \u001b[43m    \u001b[49m\u001b[43mestimator\u001b[49m\u001b[43m,\u001b[49m\n\u001b[1;32m    316\u001b[0m \u001b[43m    \u001b[49m\u001b[38;5;28;43mself\u001b[39;49m\u001b[38;5;241;43m.\u001b[39;49m\u001b[43mimportance_getter\u001b[49m\u001b[43m,\u001b[49m\n\u001b[1;32m    317\u001b[0m \u001b[43m    \u001b[49m\u001b[43mtransform_func\u001b[49m\u001b[38;5;241;43m=\u001b[39;49m\u001b[38;5;124;43m\"\u001b[39;49m\u001b[38;5;124;43msquare\u001b[39;49m\u001b[38;5;124;43m\"\u001b[39;49m\u001b[43m,\u001b[49m\n\u001b[1;32m    318\u001b[0m \u001b[43m\u001b[49m\u001b[43m)\u001b[49m\n\u001b[1;32m    319\u001b[0m ranks \u001b[38;5;241m=\u001b[39m np\u001b[38;5;241m.\u001b[39margsort(importances)\n\u001b[1;32m    321\u001b[0m \u001b[38;5;66;03m# for sparse case ranks is matrix\u001b[39;00m\n",
      "File \u001b[0;32m~/miniconda3/lib/python3.12/site-packages/sklearn/feature_selection/_base.py:245\u001b[0m, in \u001b[0;36m_get_feature_importances\u001b[0;34m(estimator, getter, transform_func, norm_order)\u001b[0m\n\u001b[1;32m    242\u001b[0m \u001b[38;5;28;01melif\u001b[39;00m \u001b[38;5;129;01mnot\u001b[39;00m \u001b[38;5;28mcallable\u001b[39m(getter):\n\u001b[1;32m    243\u001b[0m     \u001b[38;5;28;01mraise\u001b[39;00m \u001b[38;5;167;01mValueError\u001b[39;00m(\u001b[38;5;124m\"\u001b[39m\u001b[38;5;124m`importance_getter` has to be a string or `callable`\u001b[39m\u001b[38;5;124m\"\u001b[39m)\n\u001b[0;32m--> 245\u001b[0m importances \u001b[38;5;241m=\u001b[39m \u001b[43mgetter\u001b[49m\u001b[43m(\u001b[49m\u001b[43mestimator\u001b[49m\u001b[43m)\u001b[49m\n\u001b[1;32m    247\u001b[0m \u001b[38;5;28;01mif\u001b[39;00m transform_func \u001b[38;5;129;01mis\u001b[39;00m \u001b[38;5;28;01mNone\u001b[39;00m:\n\u001b[1;32m    248\u001b[0m     \u001b[38;5;28;01mreturn\u001b[39;00m importances\n",
      "Cell \u001b[0;32mIn[18], line 5\u001b[0m, in \u001b[0;36mcustom_importance_getter\u001b[0;34m(lcdc)\u001b[0m\n\u001b[1;32m      3\u001b[0m \u001b[38;5;28;01mdef\u001b[39;00m \u001b[38;5;21mcustom_importance_getter\u001b[39m(lcdc):\n\u001b[0;32m----> 5\u001b[0m     imp_vals, imp_all \u001b[38;5;241m=\u001b[39m \u001b[43mfeature_importance_permutation\u001b[49m\u001b[43m(\u001b[49m\n\u001b[1;32m      6\u001b[0m \u001b[43m        \u001b[49m\u001b[43mpredict_method\u001b[49m\u001b[38;5;241;43m=\u001b[39;49m\u001b[43mlcdc\u001b[49m\u001b[38;5;241;43m.\u001b[39;49m\u001b[43mpredict\u001b[49m\u001b[43m,\u001b[49m\n\u001b[1;32m      7\u001b[0m \u001b[43m        \u001b[49m\u001b[43mX\u001b[49m\u001b[38;5;241;43m=\u001b[39;49m\u001b[43mX_test\u001b[49m\u001b[43m,\u001b[49m\n\u001b[1;32m      8\u001b[0m \u001b[43m        \u001b[49m\u001b[43my\u001b[49m\u001b[38;5;241;43m=\u001b[39;49m\u001b[43my_test\u001b[49m\u001b[43m,\u001b[49m\n\u001b[1;32m      9\u001b[0m \u001b[43m        \u001b[49m\u001b[43mmetric\u001b[49m\u001b[38;5;241;43m=\u001b[39;49m\u001b[38;5;124;43m\"\u001b[39;49m\u001b[38;5;124;43maccuracy\u001b[39;49m\u001b[38;5;124;43m\"\u001b[39;49m\u001b[43m,\u001b[49m\n\u001b[1;32m     10\u001b[0m \u001b[43m        \u001b[49m\u001b[43mnum_rounds\u001b[49m\u001b[38;5;241;43m=\u001b[39;49m\u001b[38;5;241;43m10\u001b[39;49m\u001b[43m,\u001b[49m\n\u001b[1;32m     11\u001b[0m \u001b[43m        \u001b[49m\u001b[43mseed\u001b[49m\u001b[38;5;241;43m=\u001b[39;49m\u001b[43msettings_dict\u001b[49m\u001b[43m[\u001b[49m\u001b[38;5;124;43m\"\u001b[39;49m\u001b[38;5;124;43mseed_choice\u001b[39;49m\u001b[38;5;124;43m\"\u001b[39;49m\u001b[43m]\u001b[49m\n\u001b[1;32m     12\u001b[0m \u001b[43m    \u001b[49m\u001b[43m)\u001b[49m\n\u001b[1;32m     14\u001b[0m     \u001b[38;5;28;01mreturn\u001b[39;00m imp_vals\n",
      "File \u001b[0;32m~/miniconda3/lib/python3.12/site-packages/mlxtend/evaluate/feature_importance.py:99\u001b[0m, in \u001b[0;36mfeature_importance_permutation\u001b[0;34m(X, y, predict_method, metric, num_rounds, feature_groups, seed)\u001b[0m\n\u001b[1;32m     95\u001b[0m     score_func \u001b[38;5;241m=\u001b[39m metric\n\u001b[1;32m     97\u001b[0m rng \u001b[38;5;241m=\u001b[39m np\u001b[38;5;241m.\u001b[39mrandom\u001b[38;5;241m.\u001b[39mRandomState(seed)\n\u001b[0;32m---> 99\u001b[0m baseline \u001b[38;5;241m=\u001b[39m score_func(y, \u001b[43mpredict_method\u001b[49m\u001b[43m(\u001b[49m\u001b[43mX\u001b[49m\u001b[43m)\u001b[49m)\n\u001b[1;32m    101\u001b[0m \u001b[38;5;28;01mif\u001b[39;00m feature_groups \u001b[38;5;129;01mis\u001b[39;00m \u001b[38;5;28;01mNone\u001b[39;00m:\n\u001b[1;32m    102\u001b[0m     mean_importance_vals \u001b[38;5;241m=\u001b[39m np\u001b[38;5;241m.\u001b[39mzeros(X\u001b[38;5;241m.\u001b[39mshape[\u001b[38;5;241m1\u001b[39m])\n",
      "File \u001b[0;32m~/Research/DistClassiPy/distclassipy/classifier.py:149\u001b[0m, in \u001b[0;36mDistanceMetricClassifier.predict\u001b[0;34m(self, X)\u001b[0m\n\u001b[1;32m    146\u001b[0m X \u001b[38;5;241m=\u001b[39m check_array(X)\n\u001b[1;32m    148\u001b[0m \u001b[38;5;28;01mif\u001b[39;00m \u001b[38;5;129;01mnot\u001b[39;00m \u001b[38;5;28mself\u001b[39m\u001b[38;5;241m.\u001b[39mscale:\n\u001b[0;32m--> 149\u001b[0m     dist_arr \u001b[38;5;241m=\u001b[39m \u001b[43mdistance\u001b[49m\u001b[38;5;241;43m.\u001b[39;49m\u001b[43mcdist\u001b[49m\u001b[43m(\u001b[49m\n\u001b[1;32m    150\u001b[0m \u001b[43m        \u001b[49m\u001b[43mXA\u001b[49m\u001b[38;5;241;43m=\u001b[39;49m\u001b[43mX\u001b[49m\u001b[43m,\u001b[49m\u001b[43m \u001b[49m\u001b[43mXB\u001b[49m\u001b[38;5;241;43m=\u001b[39;49m\u001b[38;5;28;43mself\u001b[39;49m\u001b[38;5;241;43m.\u001b[39;49m\u001b[43mdf_centroid_\u001b[49m\u001b[38;5;241;43m.\u001b[39;49m\u001b[43mto_numpy\u001b[49m\u001b[43m(\u001b[49m\u001b[43m)\u001b[49m\u001b[43m,\u001b[49m\u001b[43m \u001b[49m\u001b[43mmetric\u001b[49m\u001b[38;5;241;43m=\u001b[39;49m\u001b[38;5;28;43mself\u001b[39;49m\u001b[38;5;241;43m.\u001b[39;49m\u001b[43mmetric\u001b[49m\n\u001b[1;32m    151\u001b[0m \u001b[43m    \u001b[49m\u001b[43m)\u001b[49m\n\u001b[1;32m    153\u001b[0m \u001b[38;5;28;01melse\u001b[39;00m:\n\u001b[1;32m    154\u001b[0m     dist_arr_list \u001b[38;5;241m=\u001b[39m []\n",
      "File \u001b[0;32m~/miniconda3/lib/python3.12/site-packages/scipy/spatial/distance.py:3013\u001b[0m, in \u001b[0;36mcdist\u001b[0;34m(XA, XB, metric, out, **kwargs)\u001b[0m\n\u001b[1;32m   3011\u001b[0m     \u001b[38;5;28;01mraise\u001b[39;00m \u001b[38;5;167;01mValueError\u001b[39;00m(\u001b[38;5;124m'\u001b[39m\u001b[38;5;124mXB must be a 2-dimensional array.\u001b[39m\u001b[38;5;124m'\u001b[39m)\n\u001b[1;32m   3012\u001b[0m \u001b[38;5;28;01mif\u001b[39;00m s[\u001b[38;5;241m1\u001b[39m] \u001b[38;5;241m!=\u001b[39m sB[\u001b[38;5;241m1\u001b[39m]:\n\u001b[0;32m-> 3013\u001b[0m     \u001b[38;5;28;01mraise\u001b[39;00m \u001b[38;5;167;01mValueError\u001b[39;00m(\u001b[38;5;124m'\u001b[39m\u001b[38;5;124mXA and XB must have the same number of columns \u001b[39m\u001b[38;5;124m'\u001b[39m\n\u001b[1;32m   3014\u001b[0m                      \u001b[38;5;124m'\u001b[39m\u001b[38;5;124m(i.e. feature dimension.)\u001b[39m\u001b[38;5;124m'\u001b[39m)\n\u001b[1;32m   3016\u001b[0m mA \u001b[38;5;241m=\u001b[39m s[\u001b[38;5;241m0\u001b[39m]\n\u001b[1;32m   3017\u001b[0m mB \u001b[38;5;241m=\u001b[39m sB[\u001b[38;5;241m0\u001b[39m]\n",
      "\u001b[0;31mValueError\u001b[0m: XA and XB must have the same number of columns (i.e. feature dimension.)"
     ]
    }
   ],
   "source": [
    "lcdc = dcpy.DistanceMetricClassifier(\n",
    "    metric=metric,\n",
    "    scale=False,\n",
    ")\n",
    "\n",
    "lcdc.fit(X_train, y_train)\n",
    "\n",
    "rfe = RFE(estimator=lcdc, n_features_to_select=1, step=1, importance_getter=custom_importance_getter,verbose=1)\n",
    "\n",
    "rfe.fit(X_train, y_train)\n",
    "\n",
    "ranking = rfe.ranking_\n",
    "print(\"Ranking of features:\", ranking)"
   ]
  },
  {
   "cell_type": "code",
   "execution_count": 23,
   "id": "42ede341-12cf-47a0-80a5-6542c6165f93",
   "metadata": {
    "execution": {
     "iopub.execute_input": "2024-03-05T14:27:40.884991Z",
     "iopub.status.busy": "2024-03-05T14:27:40.884288Z",
     "iopub.status.idle": "2024-03-05T14:27:41.288513Z",
     "shell.execute_reply": "2024-03-05T14:27:41.288081Z",
     "shell.execute_reply.started": "2024-03-05T14:27:40.884945Z"
    }
   },
   "outputs": [
    {
     "name": "stdout",
     "output_type": "stream",
     "text": [
      "Fitting estimator with 31 features.\n",
      "Fitting estimator with 30 features.\n"
     ]
    },
    {
     "ename": "ValueError",
     "evalue": "operands could not be broadcast together with shapes (737,31) (30,) ",
     "output_type": "error",
     "traceback": [
      "\u001b[0;31m---------------------------------------------------------------------------\u001b[0m",
      "\u001b[0;31mValueError\u001b[0m                                Traceback (most recent call last)",
      "Cell \u001b[0;32mIn[23], line 10\u001b[0m\n\u001b[1;32m      6\u001b[0m lcdc\u001b[38;5;241m.\u001b[39mfit(X_train, y_train)\n\u001b[1;32m      8\u001b[0m rfe \u001b[38;5;241m=\u001b[39m RFE(estimator\u001b[38;5;241m=\u001b[39mlcdc, n_features_to_select\u001b[38;5;241m=\u001b[39m\u001b[38;5;241m1\u001b[39m, step\u001b[38;5;241m=\u001b[39m\u001b[38;5;241m1\u001b[39m, importance_getter\u001b[38;5;241m=\u001b[39mcustom_importance_getter,verbose\u001b[38;5;241m=\u001b[39m\u001b[38;5;241m1\u001b[39m)\n\u001b[0;32m---> 10\u001b[0m \u001b[43mrfe\u001b[49m\u001b[38;5;241;43m.\u001b[39;49m\u001b[43mfit\u001b[49m\u001b[43m(\u001b[49m\u001b[43mX_train\u001b[49m\u001b[43m,\u001b[49m\u001b[43m \u001b[49m\u001b[43my_train\u001b[49m\u001b[43m)\u001b[49m\n\u001b[1;32m     12\u001b[0m ranking \u001b[38;5;241m=\u001b[39m rfe\u001b[38;5;241m.\u001b[39mranking_\n\u001b[1;32m     13\u001b[0m \u001b[38;5;28mprint\u001b[39m(\u001b[38;5;124m\"\u001b[39m\u001b[38;5;124mRanking of features:\u001b[39m\u001b[38;5;124m\"\u001b[39m, ranking)\n",
      "File \u001b[0;32m~/miniconda3/lib/python3.12/site-packages/sklearn/base.py:1474\u001b[0m, in \u001b[0;36m_fit_context.<locals>.decorator.<locals>.wrapper\u001b[0;34m(estimator, *args, **kwargs)\u001b[0m\n\u001b[1;32m   1467\u001b[0m     estimator\u001b[38;5;241m.\u001b[39m_validate_params()\n\u001b[1;32m   1469\u001b[0m \u001b[38;5;28;01mwith\u001b[39;00m config_context(\n\u001b[1;32m   1470\u001b[0m     skip_parameter_validation\u001b[38;5;241m=\u001b[39m(\n\u001b[1;32m   1471\u001b[0m         prefer_skip_nested_validation \u001b[38;5;129;01mor\u001b[39;00m global_skip_validation\n\u001b[1;32m   1472\u001b[0m     )\n\u001b[1;32m   1473\u001b[0m ):\n\u001b[0;32m-> 1474\u001b[0m     \u001b[38;5;28;01mreturn\u001b[39;00m \u001b[43mfit_method\u001b[49m\u001b[43m(\u001b[49m\u001b[43mestimator\u001b[49m\u001b[43m,\u001b[49m\u001b[43m \u001b[49m\u001b[38;5;241;43m*\u001b[39;49m\u001b[43margs\u001b[49m\u001b[43m,\u001b[49m\u001b[43m \u001b[49m\u001b[38;5;241;43m*\u001b[39;49m\u001b[38;5;241;43m*\u001b[39;49m\u001b[43mkwargs\u001b[49m\u001b[43m)\u001b[49m\n",
      "File \u001b[0;32m~/miniconda3/lib/python3.12/site-packages/sklearn/feature_selection/_rfe.py:264\u001b[0m, in \u001b[0;36mRFE.fit\u001b[0;34m(self, X, y, **fit_params)\u001b[0m\n\u001b[1;32m    244\u001b[0m \u001b[38;5;250m\u001b[39m\u001b[38;5;124;03m\"\"\"Fit the RFE model and then the underlying estimator on the selected features.\u001b[39;00m\n\u001b[1;32m    245\u001b[0m \n\u001b[1;32m    246\u001b[0m \u001b[38;5;124;03mParameters\u001b[39;00m\n\u001b[0;32m   (...)\u001b[0m\n\u001b[1;32m    261\u001b[0m \u001b[38;5;124;03m    Fitted estimator.\u001b[39;00m\n\u001b[1;32m    262\u001b[0m \u001b[38;5;124;03m\"\"\"\u001b[39;00m\n\u001b[1;32m    263\u001b[0m _raise_for_unsupported_routing(\u001b[38;5;28mself\u001b[39m, \u001b[38;5;124m\"\u001b[39m\u001b[38;5;124mfit\u001b[39m\u001b[38;5;124m\"\u001b[39m, \u001b[38;5;241m*\u001b[39m\u001b[38;5;241m*\u001b[39mfit_params)\n\u001b[0;32m--> 264\u001b[0m \u001b[38;5;28;01mreturn\u001b[39;00m \u001b[38;5;28;43mself\u001b[39;49m\u001b[38;5;241;43m.\u001b[39;49m\u001b[43m_fit\u001b[49m\u001b[43m(\u001b[49m\u001b[43mX\u001b[49m\u001b[43m,\u001b[49m\u001b[43m \u001b[49m\u001b[43my\u001b[49m\u001b[43m,\u001b[49m\u001b[43m \u001b[49m\u001b[38;5;241;43m*\u001b[39;49m\u001b[38;5;241;43m*\u001b[39;49m\u001b[43mfit_params\u001b[49m\u001b[43m)\u001b[49m\n",
      "File \u001b[0;32m~/miniconda3/lib/python3.12/site-packages/sklearn/feature_selection/_rfe.py:314\u001b[0m, in \u001b[0;36mRFE._fit\u001b[0;34m(self, X, y, step_score, **fit_params)\u001b[0m\n\u001b[1;32m    311\u001b[0m estimator\u001b[38;5;241m.\u001b[39mfit(X[:, features], y, \u001b[38;5;241m*\u001b[39m\u001b[38;5;241m*\u001b[39mfit_params)\n\u001b[1;32m    313\u001b[0m \u001b[38;5;66;03m# Get importance and rank them\u001b[39;00m\n\u001b[0;32m--> 314\u001b[0m importances \u001b[38;5;241m=\u001b[39m \u001b[43m_get_feature_importances\u001b[49m\u001b[43m(\u001b[49m\n\u001b[1;32m    315\u001b[0m \u001b[43m    \u001b[49m\u001b[43mestimator\u001b[49m\u001b[43m,\u001b[49m\n\u001b[1;32m    316\u001b[0m \u001b[43m    \u001b[49m\u001b[38;5;28;43mself\u001b[39;49m\u001b[38;5;241;43m.\u001b[39;49m\u001b[43mimportance_getter\u001b[49m\u001b[43m,\u001b[49m\n\u001b[1;32m    317\u001b[0m \u001b[43m    \u001b[49m\u001b[43mtransform_func\u001b[49m\u001b[38;5;241;43m=\u001b[39;49m\u001b[38;5;124;43m\"\u001b[39;49m\u001b[38;5;124;43msquare\u001b[39;49m\u001b[38;5;124;43m\"\u001b[39;49m\u001b[43m,\u001b[49m\n\u001b[1;32m    318\u001b[0m \u001b[43m\u001b[49m\u001b[43m)\u001b[49m\n\u001b[1;32m    319\u001b[0m ranks \u001b[38;5;241m=\u001b[39m np\u001b[38;5;241m.\u001b[39margsort(importances)\n\u001b[1;32m    321\u001b[0m \u001b[38;5;66;03m# for sparse case ranks is matrix\u001b[39;00m\n",
      "File \u001b[0;32m~/miniconda3/lib/python3.12/site-packages/sklearn/feature_selection/_base.py:245\u001b[0m, in \u001b[0;36m_get_feature_importances\u001b[0;34m(estimator, getter, transform_func, norm_order)\u001b[0m\n\u001b[1;32m    242\u001b[0m \u001b[38;5;28;01melif\u001b[39;00m \u001b[38;5;129;01mnot\u001b[39;00m \u001b[38;5;28mcallable\u001b[39m(getter):\n\u001b[1;32m    243\u001b[0m     \u001b[38;5;28;01mraise\u001b[39;00m \u001b[38;5;167;01mValueError\u001b[39;00m(\u001b[38;5;124m\"\u001b[39m\u001b[38;5;124m`importance_getter` has to be a string or `callable`\u001b[39m\u001b[38;5;124m\"\u001b[39m)\n\u001b[0;32m--> 245\u001b[0m importances \u001b[38;5;241m=\u001b[39m \u001b[43mgetter\u001b[49m\u001b[43m(\u001b[49m\u001b[43mestimator\u001b[49m\u001b[43m)\u001b[49m\n\u001b[1;32m    247\u001b[0m \u001b[38;5;28;01mif\u001b[39;00m transform_func \u001b[38;5;129;01mis\u001b[39;00m \u001b[38;5;28;01mNone\u001b[39;00m:\n\u001b[1;32m    248\u001b[0m     \u001b[38;5;28;01mreturn\u001b[39;00m importances\n",
      "Cell \u001b[0;32mIn[18], line 5\u001b[0m, in \u001b[0;36mcustom_importance_getter\u001b[0;34m(lcdc)\u001b[0m\n\u001b[1;32m      3\u001b[0m \u001b[38;5;28;01mdef\u001b[39;00m \u001b[38;5;21mcustom_importance_getter\u001b[39m(lcdc):\n\u001b[0;32m----> 5\u001b[0m     imp_vals, imp_all \u001b[38;5;241m=\u001b[39m \u001b[43mfeature_importance_permutation\u001b[49m\u001b[43m(\u001b[49m\n\u001b[1;32m      6\u001b[0m \u001b[43m        \u001b[49m\u001b[43mpredict_method\u001b[49m\u001b[38;5;241;43m=\u001b[39;49m\u001b[43mlcdc\u001b[49m\u001b[38;5;241;43m.\u001b[39;49m\u001b[43mpredict\u001b[49m\u001b[43m,\u001b[49m\n\u001b[1;32m      7\u001b[0m \u001b[43m        \u001b[49m\u001b[43mX\u001b[49m\u001b[38;5;241;43m=\u001b[39;49m\u001b[43mX_test\u001b[49m\u001b[43m,\u001b[49m\n\u001b[1;32m      8\u001b[0m \u001b[43m        \u001b[49m\u001b[43my\u001b[49m\u001b[38;5;241;43m=\u001b[39;49m\u001b[43my_test\u001b[49m\u001b[43m,\u001b[49m\n\u001b[1;32m      9\u001b[0m \u001b[43m        \u001b[49m\u001b[43mmetric\u001b[49m\u001b[38;5;241;43m=\u001b[39;49m\u001b[38;5;124;43m\"\u001b[39;49m\u001b[38;5;124;43maccuracy\u001b[39;49m\u001b[38;5;124;43m\"\u001b[39;49m\u001b[43m,\u001b[49m\n\u001b[1;32m     10\u001b[0m \u001b[43m        \u001b[49m\u001b[43mnum_rounds\u001b[49m\u001b[38;5;241;43m=\u001b[39;49m\u001b[38;5;241;43m10\u001b[39;49m\u001b[43m,\u001b[49m\n\u001b[1;32m     11\u001b[0m \u001b[43m        \u001b[49m\u001b[43mseed\u001b[49m\u001b[38;5;241;43m=\u001b[39;49m\u001b[43msettings_dict\u001b[49m\u001b[43m[\u001b[49m\u001b[38;5;124;43m\"\u001b[39;49m\u001b[38;5;124;43mseed_choice\u001b[39;49m\u001b[38;5;124;43m\"\u001b[39;49m\u001b[43m]\u001b[49m\n\u001b[1;32m     12\u001b[0m \u001b[43m    \u001b[49m\u001b[43m)\u001b[49m\n\u001b[1;32m     14\u001b[0m     \u001b[38;5;28;01mreturn\u001b[39;00m imp_vals\n",
      "File \u001b[0;32m~/miniconda3/lib/python3.12/site-packages/mlxtend/evaluate/feature_importance.py:99\u001b[0m, in \u001b[0;36mfeature_importance_permutation\u001b[0;34m(X, y, predict_method, metric, num_rounds, feature_groups, seed)\u001b[0m\n\u001b[1;32m     95\u001b[0m     score_func \u001b[38;5;241m=\u001b[39m metric\n\u001b[1;32m     97\u001b[0m rng \u001b[38;5;241m=\u001b[39m np\u001b[38;5;241m.\u001b[39mrandom\u001b[38;5;241m.\u001b[39mRandomState(seed)\n\u001b[0;32m---> 99\u001b[0m baseline \u001b[38;5;241m=\u001b[39m score_func(y, \u001b[43mpredict_method\u001b[49m\u001b[43m(\u001b[49m\u001b[43mX\u001b[49m\u001b[43m)\u001b[49m)\n\u001b[1;32m    101\u001b[0m \u001b[38;5;28;01mif\u001b[39;00m feature_groups \u001b[38;5;129;01mis\u001b[39;00m \u001b[38;5;28;01mNone\u001b[39;00m:\n\u001b[1;32m    102\u001b[0m     mean_importance_vals \u001b[38;5;241m=\u001b[39m np\u001b[38;5;241m.\u001b[39mzeros(X\u001b[38;5;241m.\u001b[39mshape[\u001b[38;5;241m1\u001b[39m])\n",
      "File \u001b[0;32m~/Research/DistClassiPy/distclassipy/classifier.py:166\u001b[0m, in \u001b[0;36mDistanceMetricClassifier.predict\u001b[0;34m(self, X)\u001b[0m\n\u001b[1;32m    164\u001b[0m w \u001b[38;5;241m=\u001b[39m wtdf\u001b[38;5;241m.\u001b[39mloc[cl]\u001b[38;5;241m.\u001b[39mto_numpy()  \u001b[38;5;66;03m# 1/std dev\u001b[39;00m\n\u001b[1;32m    165\u001b[0m XB \u001b[38;5;241m=\u001b[39m XB \u001b[38;5;241m*\u001b[39m w  \u001b[38;5;66;03m# w is for this class only\u001b[39;00m\n\u001b[0;32m--> 166\u001b[0m XA \u001b[38;5;241m=\u001b[39m \u001b[43mX\u001b[49m\u001b[43m \u001b[49m\u001b[38;5;241;43m*\u001b[39;49m\u001b[43m \u001b[49m\u001b[43mw\u001b[49m  \u001b[38;5;66;03m# w is for this class only\u001b[39;00m\n\u001b[1;32m    167\u001b[0m cl_dist \u001b[38;5;241m=\u001b[39m distance\u001b[38;5;241m.\u001b[39mcdist(XA\u001b[38;5;241m=\u001b[39mXA, XB\u001b[38;5;241m=\u001b[39mXB, metric\u001b[38;5;241m=\u001b[39m\u001b[38;5;28mself\u001b[39m\u001b[38;5;241m.\u001b[39mmetric)\n\u001b[1;32m    168\u001b[0m dist_arr_list\u001b[38;5;241m.\u001b[39mappend(cl_dist)\n",
      "\u001b[0;31mValueError\u001b[0m: operands could not be broadcast together with shapes (737,31) (30,) "
     ]
    }
   ],
   "source": [
    "lcdc = dcpy.DistanceMetricClassifier(\n",
    "    metric=metric,\n",
    "    scale=True,\n",
    ")\n",
    "\n",
    "lcdc.fit(X_train, y_train)\n",
    "\n",
    "rfe = RFE(estimator=lcdc, n_features_to_select=1, step=1, importance_getter=custom_importance_getter,verbose=1)\n",
    "\n",
    "rfe.fit(X_train, y_train)\n",
    "\n",
    "ranking = rfe.ranking_\n",
    "print(\"Ranking of features:\", ranking)"
   ]
  },
  {
   "cell_type": "code",
   "execution_count": null,
   "id": "8dfcaf3f-2cc2-4a0f-b7f8-b94924ae7a12",
   "metadata": {},
   "outputs": [],
   "source": []
  }
 ],
 "metadata": {
  "kernelspec": {
   "display_name": "Python 3 (ipykernel)",
   "language": "python",
   "name": "python3"
  },
  "language_info": {
   "codemirror_mode": {
    "name": "ipython",
    "version": 3
   },
   "file_extension": ".py",
   "mimetype": "text/x-python",
   "name": "python",
   "nbconvert_exporter": "python",
   "pygments_lexer": "ipython3",
   "version": "3.12.2"
  }
 },
 "nbformat": 4,
 "nbformat_minor": 5
}
