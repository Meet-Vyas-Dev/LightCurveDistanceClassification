{
 "cells": [
  {
   "cell_type": "code",
   "execution_count": 1,
   "id": "6fd60258-b88d-42bc-adc8-7d760c50cb58",
   "metadata": {
    "execution": {
     "iopub.execute_input": "2024-03-06T18:45:59.980996Z",
     "iopub.status.busy": "2024-03-06T18:45:59.978664Z",
     "iopub.status.idle": "2024-03-06T18:46:01.258238Z",
     "shell.execute_reply": "2024-03-06T18:46:01.257852Z",
     "shell.execute_reply.started": "2024-03-06T18:45:59.980959Z"
    }
   },
   "outputs": [],
   "source": [
    "import numpy as np\n",
    "import pandas as pd\n",
    "from tqdm.auto import tqdm\n",
    "import matplotlib.pyplot as plt\n",
    "import seaborn as sns\n",
    "from mlxtend.feature_selection import (\n",
    "    SequentialFeatureSelector,\n",
    ")\n",
    "from mlxtend.evaluate import feature_importance_permutation\n",
    "from mlxtend.plotting import plot_sequential_feature_selection as plot_sfs\n",
    "from sklearn.utils.estimator_checks import check_estimator\n",
    "from sklearn.model_selection import cross_val_predict, train_test_split\n",
    "from sklearn.metrics import accuracy_score, f1_score, matthews_corrcoef\n",
    "import matplotlib.ticker as ticker\n",
    "import os\n",
    "from pathlib import Path\n",
    "import json\n",
    "\n",
    "import sys\n",
    "\n",
    "sys.path.append(\"scripts\")\n",
    "\n",
    "import utils\n",
    "import distclassipy as dcpy\n",
    "\n",
    "cd = dcpy.Distance()"
   ]
  },
  {
   "cell_type": "code",
   "execution_count": 2,
   "id": "6a6ba512-bafa-481b-8bb5-5e6971dd8f2a",
   "metadata": {
    "execution": {
     "iopub.execute_input": "2024-03-06T18:46:01.258998Z",
     "iopub.status.busy": "2024-03-06T18:46:01.258813Z",
     "iopub.status.idle": "2024-03-06T18:46:01.261894Z",
     "shell.execute_reply": "2024-03-06T18:46:01.261658Z",
     "shell.execute_reply.started": "2024-03-06T18:46:01.258986Z"
    }
   },
   "outputs": [],
   "source": [
    "with open(\"settings.txt\") as f:\n",
    "    settings_dict = json.load(f)\n",
    "np.random.seed(settings_dict[\"seed_choice\"])\n",
    "\n",
    "classification_letter = \"c\"\n",
    "classification_problem = settings_dict[\"classification_problem\"][classification_letter]\n",
    "classes_to_keep = settings_dict[\"classes_to_keep\"][classification_letter]\n",
    "results_subfolder = f\"{classification_letter}. {classification_problem}\"\n",
    "sns_dict = settings_dict[\"sns_dict\"]\n",
    "\n",
    "sns.set_theme(**sns_dict)"
   ]
  },
  {
   "cell_type": "code",
   "execution_count": 3,
   "id": "b275eea2-c714-46b2-bf9b-00817164bf7a",
   "metadata": {
    "execution": {
     "iopub.execute_input": "2024-03-06T18:46:01.262533Z",
     "iopub.status.busy": "2024-03-06T18:46:01.262393Z",
     "iopub.status.idle": "2024-03-06T18:46:01.264084Z",
     "shell.execute_reply": "2024-03-06T18:46:01.263752Z",
     "shell.execute_reply.started": "2024-03-06T18:46:01.262524Z"
    }
   },
   "outputs": [],
   "source": [
    "#check_estimator(dcpy.DistanceMetricClassifier())  # passes"
   ]
  },
  {
   "cell_type": "code",
   "execution_count": 4,
   "id": "65a31dae-a482-479c-bcdf-1ca4d95badfc",
   "metadata": {
    "execution": {
     "iopub.execute_input": "2024-03-06T18:46:01.264755Z",
     "iopub.status.busy": "2024-03-06T18:46:01.264617Z",
     "iopub.status.idle": "2024-03-06T18:46:01.351778Z",
     "shell.execute_reply": "2024-03-06T18:46:01.351452Z",
     "shell.execute_reply.started": "2024-03-06T18:46:01.264744Z"
    }
   },
   "outputs": [],
   "source": [
    "# Load Data\n",
    "X_df_FULL = pd.read_csv(\"data/X_df.csv\", index_col=0)\n",
    "y_df_FULL = pd.read_csv(\"data/y_df.csv\", index_col=0)"
   ]
  },
  {
   "cell_type": "code",
   "execution_count": 5,
   "id": "f67c5d91-5e1b-4d79-aa35-49b58f7d1db9",
   "metadata": {
    "execution": {
     "iopub.execute_input": "2024-03-06T18:46:01.352442Z",
     "iopub.status.busy": "2024-03-06T18:46:01.352350Z",
     "iopub.status.idle": "2024-03-06T18:46:01.358769Z",
     "shell.execute_reply": "2024-03-06T18:46:01.356743Z",
     "shell.execute_reply.started": "2024-03-06T18:46:01.352433Z"
    }
   },
   "outputs": [
    {
     "name": "stdout",
     "output_type": "stream",
     "text": [
      "31\n"
     ]
    }
   ],
   "source": [
    "# Remove manually selected 'bad' features\n",
    "with open(os.path.join(\"results\", results_subfolder, \"drop_features.txt\")) as f:\n",
    "    bad_features = json.load(f)  # manually selected\n",
    "\n",
    "X_df_FULL = X_df_FULL.drop(bad_features, axis=1)\n",
    "\n",
    "print(X_df_FULL.shape[1])"
   ]
  },
  {
   "cell_type": "code",
   "execution_count": 6,
   "id": "6e1d136e",
   "metadata": {
    "execution": {
     "iopub.execute_input": "2024-03-06T18:46:01.364936Z",
     "iopub.status.busy": "2024-03-06T18:46:01.364609Z",
     "iopub.status.idle": "2024-03-06T18:46:01.370108Z",
     "shell.execute_reply": "2024-03-06T18:46:01.369503Z",
     "shell.execute_reply.started": "2024-03-06T18:46:01.364920Z"
    }
   },
   "outputs": [],
   "source": [
    "# bad_features"
   ]
  },
  {
   "cell_type": "code",
   "execution_count": 7,
   "id": "fa5d12e6-d9a6-49fc-824e-99211c3476e8",
   "metadata": {
    "execution": {
     "iopub.execute_input": "2024-03-06T18:46:01.370673Z",
     "iopub.status.busy": "2024-03-06T18:46:01.370582Z",
     "iopub.status.idle": "2024-03-06T18:46:01.374588Z",
     "shell.execute_reply": "2024-03-06T18:46:01.374042Z",
     "shell.execute_reply.started": "2024-03-06T18:46:01.370662Z"
    }
   },
   "outputs": [],
   "source": [
    "# Keep only current classes\n",
    "cl_keep_str = \"_\".join(classes_to_keep)\n",
    "\n",
    "y_df = y_df_FULL[y_df_FULL[\"class\"].isin(classes_to_keep)]\n",
    "X_df = X_df_FULL.loc[y_df.index]\n",
    "X = X_df.to_numpy()\n",
    "y = y_df.to_numpy().ravel()"
   ]
  },
  {
   "cell_type": "code",
   "execution_count": 8,
   "id": "b37a3fcf",
   "metadata": {
    "execution": {
     "iopub.execute_input": "2024-03-06T18:46:01.376714Z",
     "iopub.status.busy": "2024-03-06T18:46:01.376485Z",
     "iopub.status.idle": "2024-03-06T18:46:01.387030Z",
     "shell.execute_reply": "2024-03-06T18:46:01.382360Z",
     "shell.execute_reply.started": "2024-03-06T18:46:01.376695Z"
    }
   },
   "outputs": [],
   "source": [
    "metric = \"canberra\" #cd.clark"
   ]
  },
  {
   "cell_type": "code",
   "execution_count": 9,
   "id": "ca7f8270-6f43-4cc8-b0ad-c145300f5dd8",
   "metadata": {
    "execution": {
     "iopub.execute_input": "2024-03-06T18:46:01.392976Z",
     "iopub.status.busy": "2024-03-06T18:46:01.392775Z",
     "iopub.status.idle": "2024-03-06T18:46:01.406982Z",
     "shell.execute_reply": "2024-03-06T18:46:01.405903Z",
     "shell.execute_reply.started": "2024-03-06T18:46:01.392963Z"
    }
   },
   "outputs": [],
   "source": [
    "metric_str = utils.get_metric_name(metric)\n",
    "\n",
    "# Feature Importance via Feature Permutation\n",
    "\n",
    "X_train, X_test, y_train, y_test = train_test_split(\n",
    "    X_df, y_df, test_size=0.33, stratify=y, random_state=settings_dict[\"seed_choice\"]\n",
    ")"
   ]
  },
  {
   "cell_type": "code",
   "execution_count": 10,
   "id": "bc706adb-6b9e-49ef-9a96-82324429d93b",
   "metadata": {
    "execution": {
     "iopub.execute_input": "2024-03-06T18:46:01.409553Z",
     "iopub.status.busy": "2024-03-06T18:46:01.409322Z",
     "iopub.status.idle": "2024-03-06T18:46:01.413639Z",
     "shell.execute_reply": "2024-03-06T18:46:01.411822Z",
     "shell.execute_reply.started": "2024-03-06T18:46:01.409536Z"
    }
   },
   "outputs": [],
   "source": [
    "from sklearn.feature_selection import RFE"
   ]
  },
  {
   "cell_type": "code",
   "execution_count": 11,
   "id": "a62ba60e-da87-475d-81f0-14ea42430279",
   "metadata": {
    "execution": {
     "iopub.execute_input": "2024-03-06T18:46:01.415616Z",
     "iopub.status.busy": "2024-03-06T18:46:01.415149Z",
     "iopub.status.idle": "2024-03-06T18:46:01.433238Z",
     "shell.execute_reply": "2024-03-06T18:46:01.432491Z",
     "shell.execute_reply.started": "2024-03-06T18:46:01.415454Z"
    }
   },
   "outputs": [
    {
     "name": "stdout",
     "output_type": "stream",
     "text": [
      "We will be selecting 3 features\n"
     ]
    }
   ],
   "source": [
    "locpath = os.path.join(\"results\", results_subfolder, \"distclassipy\", metric_str)\n",
    "sfs_df = pd.read_csv(os.path.join(locpath, \"sfs_allfeatures.csv\"), index_col=0)\n",
    "sfs_feats_idx, sfs_feats = utils.load_best_features(sfs_df)\n",
    "n_select = len(sfs_feats)\n",
    "\n",
    "print(f\"We will be selecting {n_select} features\")"
   ]
  },
  {
   "cell_type": "code",
   "execution_count": 12,
   "id": "8668a289-afec-4f8c-8d26-1e3ffcdfbc5b",
   "metadata": {
    "execution": {
     "iopub.execute_input": "2024-03-06T18:46:01.433908Z",
     "iopub.status.busy": "2024-03-06T18:46:01.433774Z",
     "iopub.status.idle": "2024-03-06T18:46:01.915391Z",
     "shell.execute_reply": "2024-03-06T18:46:01.915068Z",
     "shell.execute_reply.started": "2024-03-06T18:46:01.433897Z"
    }
   },
   "outputs": [
    {
     "data": {
      "text/html": [
       "<style>#sk-container-id-1 {\n",
       "  /* Definition of color scheme common for light and dark mode */\n",
       "  --sklearn-color-text: black;\n",
       "  --sklearn-color-line: gray;\n",
       "  /* Definition of color scheme for unfitted estimators */\n",
       "  --sklearn-color-unfitted-level-0: #fff5e6;\n",
       "  --sklearn-color-unfitted-level-1: #f6e4d2;\n",
       "  --sklearn-color-unfitted-level-2: #ffe0b3;\n",
       "  --sklearn-color-unfitted-level-3: chocolate;\n",
       "  /* Definition of color scheme for fitted estimators */\n",
       "  --sklearn-color-fitted-level-0: #f0f8ff;\n",
       "  --sklearn-color-fitted-level-1: #d4ebff;\n",
       "  --sklearn-color-fitted-level-2: #b3dbfd;\n",
       "  --sklearn-color-fitted-level-3: cornflowerblue;\n",
       "\n",
       "  /* Specific color for light theme */\n",
       "  --sklearn-color-text-on-default-background: var(--sg-text-color, var(--theme-code-foreground, var(--jp-content-font-color1, black)));\n",
       "  --sklearn-color-background: var(--sg-background-color, var(--theme-background, var(--jp-layout-color0, white)));\n",
       "  --sklearn-color-border-box: var(--sg-text-color, var(--theme-code-foreground, var(--jp-content-font-color1, black)));\n",
       "  --sklearn-color-icon: #696969;\n",
       "\n",
       "  @media (prefers-color-scheme: dark) {\n",
       "    /* Redefinition of color scheme for dark theme */\n",
       "    --sklearn-color-text-on-default-background: var(--sg-text-color, var(--theme-code-foreground, var(--jp-content-font-color1, white)));\n",
       "    --sklearn-color-background: var(--sg-background-color, var(--theme-background, var(--jp-layout-color0, #111)));\n",
       "    --sklearn-color-border-box: var(--sg-text-color, var(--theme-code-foreground, var(--jp-content-font-color1, white)));\n",
       "    --sklearn-color-icon: #878787;\n",
       "  }\n",
       "}\n",
       "\n",
       "#sk-container-id-1 {\n",
       "  color: var(--sklearn-color-text);\n",
       "}\n",
       "\n",
       "#sk-container-id-1 pre {\n",
       "  padding: 0;\n",
       "}\n",
       "\n",
       "#sk-container-id-1 input.sk-hidden--visually {\n",
       "  border: 0;\n",
       "  clip: rect(1px 1px 1px 1px);\n",
       "  clip: rect(1px, 1px, 1px, 1px);\n",
       "  height: 1px;\n",
       "  margin: -1px;\n",
       "  overflow: hidden;\n",
       "  padding: 0;\n",
       "  position: absolute;\n",
       "  width: 1px;\n",
       "}\n",
       "\n",
       "#sk-container-id-1 div.sk-dashed-wrapped {\n",
       "  border: 1px dashed var(--sklearn-color-line);\n",
       "  margin: 0 0.4em 0.5em 0.4em;\n",
       "  box-sizing: border-box;\n",
       "  padding-bottom: 0.4em;\n",
       "  background-color: var(--sklearn-color-background);\n",
       "}\n",
       "\n",
       "#sk-container-id-1 div.sk-container {\n",
       "  /* jupyter's `normalize.less` sets `[hidden] { display: none; }`\n",
       "     but bootstrap.min.css set `[hidden] { display: none !important; }`\n",
       "     so we also need the `!important` here to be able to override the\n",
       "     default hidden behavior on the sphinx rendered scikit-learn.org.\n",
       "     See: https://github.com/scikit-learn/scikit-learn/issues/21755 */\n",
       "  display: inline-block !important;\n",
       "  position: relative;\n",
       "}\n",
       "\n",
       "#sk-container-id-1 div.sk-text-repr-fallback {\n",
       "  display: none;\n",
       "}\n",
       "\n",
       "div.sk-parallel-item,\n",
       "div.sk-serial,\n",
       "div.sk-item {\n",
       "  /* draw centered vertical line to link estimators */\n",
       "  background-image: linear-gradient(var(--sklearn-color-text-on-default-background), var(--sklearn-color-text-on-default-background));\n",
       "  background-size: 2px 100%;\n",
       "  background-repeat: no-repeat;\n",
       "  background-position: center center;\n",
       "}\n",
       "\n",
       "/* Parallel-specific style estimator block */\n",
       "\n",
       "#sk-container-id-1 div.sk-parallel-item::after {\n",
       "  content: \"\";\n",
       "  width: 100%;\n",
       "  border-bottom: 2px solid var(--sklearn-color-text-on-default-background);\n",
       "  flex-grow: 1;\n",
       "}\n",
       "\n",
       "#sk-container-id-1 div.sk-parallel {\n",
       "  display: flex;\n",
       "  align-items: stretch;\n",
       "  justify-content: center;\n",
       "  background-color: var(--sklearn-color-background);\n",
       "  position: relative;\n",
       "}\n",
       "\n",
       "#sk-container-id-1 div.sk-parallel-item {\n",
       "  display: flex;\n",
       "  flex-direction: column;\n",
       "}\n",
       "\n",
       "#sk-container-id-1 div.sk-parallel-item:first-child::after {\n",
       "  align-self: flex-end;\n",
       "  width: 50%;\n",
       "}\n",
       "\n",
       "#sk-container-id-1 div.sk-parallel-item:last-child::after {\n",
       "  align-self: flex-start;\n",
       "  width: 50%;\n",
       "}\n",
       "\n",
       "#sk-container-id-1 div.sk-parallel-item:only-child::after {\n",
       "  width: 0;\n",
       "}\n",
       "\n",
       "/* Serial-specific style estimator block */\n",
       "\n",
       "#sk-container-id-1 div.sk-serial {\n",
       "  display: flex;\n",
       "  flex-direction: column;\n",
       "  align-items: center;\n",
       "  background-color: var(--sklearn-color-background);\n",
       "  padding-right: 1em;\n",
       "  padding-left: 1em;\n",
       "}\n",
       "\n",
       "\n",
       "/* Toggleable style: style used for estimator/Pipeline/ColumnTransformer box that is\n",
       "clickable and can be expanded/collapsed.\n",
       "- Pipeline and ColumnTransformer use this feature and define the default style\n",
       "- Estimators will overwrite some part of the style using the `sk-estimator` class\n",
       "*/\n",
       "\n",
       "/* Pipeline and ColumnTransformer style (default) */\n",
       "\n",
       "#sk-container-id-1 div.sk-toggleable {\n",
       "  /* Default theme specific background. It is overwritten whether we have a\n",
       "  specific estimator or a Pipeline/ColumnTransformer */\n",
       "  background-color: var(--sklearn-color-background);\n",
       "}\n",
       "\n",
       "/* Toggleable label */\n",
       "#sk-container-id-1 label.sk-toggleable__label {\n",
       "  cursor: pointer;\n",
       "  display: block;\n",
       "  width: 100%;\n",
       "  margin-bottom: 0;\n",
       "  padding: 0.5em;\n",
       "  box-sizing: border-box;\n",
       "  text-align: center;\n",
       "}\n",
       "\n",
       "#sk-container-id-1 label.sk-toggleable__label-arrow:before {\n",
       "  /* Arrow on the left of the label */\n",
       "  content: \"▸\";\n",
       "  float: left;\n",
       "  margin-right: 0.25em;\n",
       "  color: var(--sklearn-color-icon);\n",
       "}\n",
       "\n",
       "#sk-container-id-1 label.sk-toggleable__label-arrow:hover:before {\n",
       "  color: var(--sklearn-color-text);\n",
       "}\n",
       "\n",
       "/* Toggleable content - dropdown */\n",
       "\n",
       "#sk-container-id-1 div.sk-toggleable__content {\n",
       "  max-height: 0;\n",
       "  max-width: 0;\n",
       "  overflow: hidden;\n",
       "  text-align: left;\n",
       "  /* unfitted */\n",
       "  background-color: var(--sklearn-color-unfitted-level-0);\n",
       "}\n",
       "\n",
       "#sk-container-id-1 div.sk-toggleable__content.fitted {\n",
       "  /* fitted */\n",
       "  background-color: var(--sklearn-color-fitted-level-0);\n",
       "}\n",
       "\n",
       "#sk-container-id-1 div.sk-toggleable__content pre {\n",
       "  margin: 0.2em;\n",
       "  border-radius: 0.25em;\n",
       "  color: var(--sklearn-color-text);\n",
       "  /* unfitted */\n",
       "  background-color: var(--sklearn-color-unfitted-level-0);\n",
       "}\n",
       "\n",
       "#sk-container-id-1 div.sk-toggleable__content.fitted pre {\n",
       "  /* unfitted */\n",
       "  background-color: var(--sklearn-color-fitted-level-0);\n",
       "}\n",
       "\n",
       "#sk-container-id-1 input.sk-toggleable__control:checked~div.sk-toggleable__content {\n",
       "  /* Expand drop-down */\n",
       "  max-height: 200px;\n",
       "  max-width: 100%;\n",
       "  overflow: auto;\n",
       "}\n",
       "\n",
       "#sk-container-id-1 input.sk-toggleable__control:checked~label.sk-toggleable__label-arrow:before {\n",
       "  content: \"▾\";\n",
       "}\n",
       "\n",
       "/* Pipeline/ColumnTransformer-specific style */\n",
       "\n",
       "#sk-container-id-1 div.sk-label input.sk-toggleable__control:checked~label.sk-toggleable__label {\n",
       "  color: var(--sklearn-color-text);\n",
       "  background-color: var(--sklearn-color-unfitted-level-2);\n",
       "}\n",
       "\n",
       "#sk-container-id-1 div.sk-label.fitted input.sk-toggleable__control:checked~label.sk-toggleable__label {\n",
       "  background-color: var(--sklearn-color-fitted-level-2);\n",
       "}\n",
       "\n",
       "/* Estimator-specific style */\n",
       "\n",
       "/* Colorize estimator box */\n",
       "#sk-container-id-1 div.sk-estimator input.sk-toggleable__control:checked~label.sk-toggleable__label {\n",
       "  /* unfitted */\n",
       "  background-color: var(--sklearn-color-unfitted-level-2);\n",
       "}\n",
       "\n",
       "#sk-container-id-1 div.sk-estimator.fitted input.sk-toggleable__control:checked~label.sk-toggleable__label {\n",
       "  /* fitted */\n",
       "  background-color: var(--sklearn-color-fitted-level-2);\n",
       "}\n",
       "\n",
       "#sk-container-id-1 div.sk-label label.sk-toggleable__label,\n",
       "#sk-container-id-1 div.sk-label label {\n",
       "  /* The background is the default theme color */\n",
       "  color: var(--sklearn-color-text-on-default-background);\n",
       "}\n",
       "\n",
       "/* On hover, darken the color of the background */\n",
       "#sk-container-id-1 div.sk-label:hover label.sk-toggleable__label {\n",
       "  color: var(--sklearn-color-text);\n",
       "  background-color: var(--sklearn-color-unfitted-level-2);\n",
       "}\n",
       "\n",
       "/* Label box, darken color on hover, fitted */\n",
       "#sk-container-id-1 div.sk-label.fitted:hover label.sk-toggleable__label.fitted {\n",
       "  color: var(--sklearn-color-text);\n",
       "  background-color: var(--sklearn-color-fitted-level-2);\n",
       "}\n",
       "\n",
       "/* Estimator label */\n",
       "\n",
       "#sk-container-id-1 div.sk-label label {\n",
       "  font-family: monospace;\n",
       "  font-weight: bold;\n",
       "  display: inline-block;\n",
       "  line-height: 1.2em;\n",
       "}\n",
       "\n",
       "#sk-container-id-1 div.sk-label-container {\n",
       "  text-align: center;\n",
       "}\n",
       "\n",
       "/* Estimator-specific */\n",
       "#sk-container-id-1 div.sk-estimator {\n",
       "  font-family: monospace;\n",
       "  border: 1px dotted var(--sklearn-color-border-box);\n",
       "  border-radius: 0.25em;\n",
       "  box-sizing: border-box;\n",
       "  margin-bottom: 0.5em;\n",
       "  /* unfitted */\n",
       "  background-color: var(--sklearn-color-unfitted-level-0);\n",
       "}\n",
       "\n",
       "#sk-container-id-1 div.sk-estimator.fitted {\n",
       "  /* fitted */\n",
       "  background-color: var(--sklearn-color-fitted-level-0);\n",
       "}\n",
       "\n",
       "/* on hover */\n",
       "#sk-container-id-1 div.sk-estimator:hover {\n",
       "  /* unfitted */\n",
       "  background-color: var(--sklearn-color-unfitted-level-2);\n",
       "}\n",
       "\n",
       "#sk-container-id-1 div.sk-estimator.fitted:hover {\n",
       "  /* fitted */\n",
       "  background-color: var(--sklearn-color-fitted-level-2);\n",
       "}\n",
       "\n",
       "/* Specification for estimator info (e.g. \"i\" and \"?\") */\n",
       "\n",
       "/* Common style for \"i\" and \"?\" */\n",
       "\n",
       ".sk-estimator-doc-link,\n",
       "a:link.sk-estimator-doc-link,\n",
       "a:visited.sk-estimator-doc-link {\n",
       "  float: right;\n",
       "  font-size: smaller;\n",
       "  line-height: 1em;\n",
       "  font-family: monospace;\n",
       "  background-color: var(--sklearn-color-background);\n",
       "  border-radius: 1em;\n",
       "  height: 1em;\n",
       "  width: 1em;\n",
       "  text-decoration: none !important;\n",
       "  margin-left: 1ex;\n",
       "  /* unfitted */\n",
       "  border: var(--sklearn-color-unfitted-level-1) 1pt solid;\n",
       "  color: var(--sklearn-color-unfitted-level-1);\n",
       "}\n",
       "\n",
       ".sk-estimator-doc-link.fitted,\n",
       "a:link.sk-estimator-doc-link.fitted,\n",
       "a:visited.sk-estimator-doc-link.fitted {\n",
       "  /* fitted */\n",
       "  border: var(--sklearn-color-fitted-level-1) 1pt solid;\n",
       "  color: var(--sklearn-color-fitted-level-1);\n",
       "}\n",
       "\n",
       "/* On hover */\n",
       "div.sk-estimator:hover .sk-estimator-doc-link:hover,\n",
       ".sk-estimator-doc-link:hover,\n",
       "div.sk-label-container:hover .sk-estimator-doc-link:hover,\n",
       ".sk-estimator-doc-link:hover {\n",
       "  /* unfitted */\n",
       "  background-color: var(--sklearn-color-unfitted-level-3);\n",
       "  color: var(--sklearn-color-background);\n",
       "  text-decoration: none;\n",
       "}\n",
       "\n",
       "div.sk-estimator.fitted:hover .sk-estimator-doc-link.fitted:hover,\n",
       ".sk-estimator-doc-link.fitted:hover,\n",
       "div.sk-label-container:hover .sk-estimator-doc-link.fitted:hover,\n",
       ".sk-estimator-doc-link.fitted:hover {\n",
       "  /* fitted */\n",
       "  background-color: var(--sklearn-color-fitted-level-3);\n",
       "  color: var(--sklearn-color-background);\n",
       "  text-decoration: none;\n",
       "}\n",
       "\n",
       "/* Span, style for the box shown on hovering the info icon */\n",
       ".sk-estimator-doc-link span {\n",
       "  display: none;\n",
       "  z-index: 9999;\n",
       "  position: relative;\n",
       "  font-weight: normal;\n",
       "  right: .2ex;\n",
       "  padding: .5ex;\n",
       "  margin: .5ex;\n",
       "  width: min-content;\n",
       "  min-width: 20ex;\n",
       "  max-width: 50ex;\n",
       "  color: var(--sklearn-color-text);\n",
       "  box-shadow: 2pt 2pt 4pt #999;\n",
       "  /* unfitted */\n",
       "  background: var(--sklearn-color-unfitted-level-0);\n",
       "  border: .5pt solid var(--sklearn-color-unfitted-level-3);\n",
       "}\n",
       "\n",
       ".sk-estimator-doc-link.fitted span {\n",
       "  /* fitted */\n",
       "  background: var(--sklearn-color-fitted-level-0);\n",
       "  border: var(--sklearn-color-fitted-level-3);\n",
       "}\n",
       "\n",
       ".sk-estimator-doc-link:hover span {\n",
       "  display: block;\n",
       "}\n",
       "\n",
       "/* \"?\"-specific style due to the `<a>` HTML tag */\n",
       "\n",
       "#sk-container-id-1 a.estimator_doc_link {\n",
       "  float: right;\n",
       "  font-size: 1rem;\n",
       "  line-height: 1em;\n",
       "  font-family: monospace;\n",
       "  background-color: var(--sklearn-color-background);\n",
       "  border-radius: 1rem;\n",
       "  height: 1rem;\n",
       "  width: 1rem;\n",
       "  text-decoration: none;\n",
       "  /* unfitted */\n",
       "  color: var(--sklearn-color-unfitted-level-1);\n",
       "  border: var(--sklearn-color-unfitted-level-1) 1pt solid;\n",
       "}\n",
       "\n",
       "#sk-container-id-1 a.estimator_doc_link.fitted {\n",
       "  /* fitted */\n",
       "  border: var(--sklearn-color-fitted-level-1) 1pt solid;\n",
       "  color: var(--sklearn-color-fitted-level-1);\n",
       "}\n",
       "\n",
       "/* On hover */\n",
       "#sk-container-id-1 a.estimator_doc_link:hover {\n",
       "  /* unfitted */\n",
       "  background-color: var(--sklearn-color-unfitted-level-3);\n",
       "  color: var(--sklearn-color-background);\n",
       "  text-decoration: none;\n",
       "}\n",
       "\n",
       "#sk-container-id-1 a.estimator_doc_link.fitted:hover {\n",
       "  /* fitted */\n",
       "  background-color: var(--sklearn-color-fitted-level-3);\n",
       "}\n",
       "</style><div id=\"sk-container-id-1\" class=\"sk-top-container\"><div class=\"sk-text-repr-fallback\"><pre>DistanceMetricClassifier(calculate_1d_dist=False, calculate_kde=False,\n",
       "                         metric=&#x27;canberra&#x27;)</pre><b>In a Jupyter environment, please rerun this cell to show the HTML representation or trust the notebook. <br />On GitHub, the HTML representation is unable to render, please try loading this page with nbviewer.org.</b></div><div class=\"sk-container\" hidden><div class=\"sk-item\"><div class=\"sk-estimator fitted sk-toggleable\"><input class=\"sk-toggleable__control sk-hidden--visually\" id=\"sk-estimator-id-1\" type=\"checkbox\" checked><label for=\"sk-estimator-id-1\" class=\"sk-toggleable__label fitted sk-toggleable__label-arrow fitted\">&nbsp;DistanceMetricClassifier<span class=\"sk-estimator-doc-link fitted\">i<span>Fitted</span></span></label><div class=\"sk-toggleable__content fitted\"><pre>DistanceMetricClassifier(calculate_1d_dist=False, calculate_kde=False,\n",
       "                         metric=&#x27;canberra&#x27;)</pre></div> </div></div></div></div>"
      ],
      "text/plain": [
       "DistanceMetricClassifier(calculate_1d_dist=False, calculate_kde=False,\n",
       "                         metric='canberra')"
      ]
     },
     "execution_count": 12,
     "metadata": {},
     "output_type": "execute_result"
    }
   ],
   "source": [
    "lcdc = dcpy.DistanceMetricClassifier(\n",
    "    metric=metric, calculate_kde=False, calculate_1d_dist=False,\n",
    "    calculate_importances=True\n",
    ")\n",
    "\n",
    "lcdc.fit(X_train.to_numpy(), y_train.to_numpy().ravel())\n",
    "\n",
    "# lcdc.feature_importances_"
   ]
  },
  {
   "cell_type": "code",
   "execution_count": 13,
   "id": "1edcb57c",
   "metadata": {
    "execution": {
     "iopub.execute_input": "2024-03-06T18:46:01.916175Z",
     "iopub.status.busy": "2024-03-06T18:46:01.916032Z",
     "iopub.status.idle": "2024-03-06T18:46:09.062551Z",
     "shell.execute_reply": "2024-03-06T18:46:09.062275Z",
     "shell.execute_reply.started": "2024-03-06T18:46:01.916167Z"
    }
   },
   "outputs": [
    {
     "name": "stdout",
     "output_type": "stream",
     "text": [
      "Fitting estimator with 31 features.\n",
      "Fitting estimator with 30 features.\n",
      "Fitting estimator with 29 features.\n",
      "Fitting estimator with 28 features.\n",
      "Fitting estimator with 27 features.\n",
      "Fitting estimator with 26 features.\n",
      "Fitting estimator with 25 features.\n",
      "Fitting estimator with 24 features.\n",
      "Fitting estimator with 23 features.\n",
      "Fitting estimator with 22 features.\n",
      "Fitting estimator with 21 features.\n",
      "Fitting estimator with 20 features.\n",
      "Fitting estimator with 19 features.\n",
      "Fitting estimator with 18 features.\n",
      "Fitting estimator with 17 features.\n",
      "Fitting estimator with 16 features.\n",
      "Fitting estimator with 15 features.\n",
      "Fitting estimator with 14 features.\n",
      "Fitting estimator with 13 features.\n",
      "Fitting estimator with 12 features.\n",
      "Fitting estimator with 11 features.\n",
      "Fitting estimator with 10 features.\n",
      "Fitting estimator with 9 features.\n",
      "Fitting estimator with 8 features.\n",
      "Fitting estimator with 7 features.\n",
      "Fitting estimator with 6 features.\n",
      "Fitting estimator with 5 features.\n",
      "Fitting estimator with 4 features.\n"
     ]
    }
   ],
   "source": [
    "rfe = RFE(estimator=lcdc, n_features_to_select=n_select, step=1, \n",
    "          verbose=1)\n",
    "\n",
    "rfe.fit(X_train.to_numpy(), y_train.to_numpy().ravel())\n",
    "\n",
    "ranking = rfe.ranking_\n",
    "# print(\"Ranking of features:\", ranking)"
   ]
  },
  {
   "cell_type": "code",
   "execution_count": 14,
   "id": "f9fbe867-1a27-4a44-b69e-e2167325eaad",
   "metadata": {
    "execution": {
     "iopub.execute_input": "2024-03-06T18:46:09.063177Z",
     "iopub.status.busy": "2024-03-06T18:46:09.063088Z",
     "iopub.status.idle": "2024-03-06T18:46:09.065258Z",
     "shell.execute_reply": "2024-03-06T18:46:09.064869Z",
     "shell.execute_reply.started": "2024-03-06T18:46:09.063168Z"
    }
   },
   "outputs": [],
   "source": [
    "rfe_feats = X_df.columns[rfe.ranking_ == 1].to_numpy()"
   ]
  },
  {
   "cell_type": "code",
   "execution_count": 15,
   "id": "98785f22-4488-45d6-8e86-ab17037e3fe1",
   "metadata": {
    "execution": {
     "iopub.execute_input": "2024-03-06T18:46:09.065642Z",
     "iopub.status.busy": "2024-03-06T18:46:09.065567Z",
     "iopub.status.idle": "2024-03-06T18:46:09.067842Z",
     "shell.execute_reply": "2024-03-06T18:46:09.067464Z",
     "shell.execute_reply.started": "2024-03-06T18:46:09.065633Z"
    }
   },
   "outputs": [],
   "source": [
    "lcdc_sfs = dcpy.DistanceMetricClassifier(\n",
    "    metric=metric, calculate_kde=False, calculate_1d_dist=False\n",
    ")\n",
    "\n",
    "lcdc_rfe = dcpy.DistanceMetricClassifier(\n",
    "    metric=metric, calculate_kde=False, calculate_1d_dist=False\n",
    ")"
   ]
  },
  {
   "cell_type": "code",
   "execution_count": 16,
   "id": "76b28314-49b2-490c-b42f-cab0c41ba4e9",
   "metadata": {
    "execution": {
     "iopub.execute_input": "2024-03-06T18:46:09.068989Z",
     "iopub.status.busy": "2024-03-06T18:46:09.068245Z",
     "iopub.status.idle": "2024-03-06T18:46:09.499020Z",
     "shell.execute_reply": "2024-03-06T18:46:09.498530Z",
     "shell.execute_reply.started": "2024-03-06T18:46:09.068924Z"
    }
   },
   "outputs": [],
   "source": [
    "y_pred_sfs = cross_val_predict(\n",
    "    lcdc_sfs, \n",
    "    X_df.loc[:,sfs_feats].to_numpy(), \n",
    "    y_df.to_numpy().ravel()\n",
    ")\n",
    "\n",
    "y_pred_rfe = cross_val_predict(\n",
    "    lcdc_rfe, \n",
    "    X_df.loc[:,rfe_feats].to_numpy(), \n",
    "    y_df.to_numpy().ravel()\n",
    ")\n"
   ]
  },
  {
   "cell_type": "code",
   "execution_count": 17,
   "id": "bb60d400-c09b-4294-a8e0-4d8f5f52aaa6",
   "metadata": {
    "execution": {
     "iopub.execute_input": "2024-03-06T18:46:09.499592Z",
     "iopub.status.busy": "2024-03-06T18:46:09.499505Z",
     "iopub.status.idle": "2024-03-06T18:46:09.523256Z",
     "shell.execute_reply": "2024-03-06T18:46:09.522922Z",
     "shell.execute_reply.started": "2024-03-06T18:46:09.499583Z"
    }
   },
   "outputs": [],
   "source": [
    "acc_sfs = accuracy_score(y, y_pred_sfs)\n",
    "f1score_sfs = f1_score(y, y_pred_sfs, average=\"macro\")\n",
    "matthew_coef_sfs = matthews_corrcoef(y, y_pred_sfs)\n",
    "\n",
    "acc_rfe = accuracy_score(y, y_pred_rfe)\n",
    "f1score_rfe = f1_score(y, y_pred_rfe, average=\"macro\")\n",
    "matthew_coef_rfe = matthews_corrcoef(y, y_pred_rfe)"
   ]
  },
  {
   "cell_type": "code",
   "execution_count": 18,
   "id": "42103ded-5e76-45f0-a581-0e720e5ec5a1",
   "metadata": {
    "execution": {
     "iopub.execute_input": "2024-03-06T18:46:09.523980Z",
     "iopub.status.busy": "2024-03-06T18:46:09.523834Z",
     "iopub.status.idle": "2024-03-06T18:46:09.676557Z",
     "shell.execute_reply": "2024-03-06T18:46:09.675752Z",
     "shell.execute_reply.started": "2024-03-06T18:46:09.523969Z"
    }
   },
   "outputs": [
    {
     "name": "stdout",
     "output_type": "stream",
     "text": [
      "Top 3 features as per SFS:\n",
      "['Period_band_r', 'Harmonics_mag_1_r', 'Harmonics_phase_2_r']\n"
     ]
    },
    {
     "data": {
      "image/png": "[encoded data removed]",
      "text/plain": [
       "<Figure size 640x480 with 1 Axes>"
      ]
     },
     "metadata": {},
     "output_type": "display_data"
    }
   ],
   "source": [
    "print(f\"Top {n_select} features as per SFS:\\n{sfs_feats}\")\n",
    "ax = utils.plot_cm(y_true=y, y_pred=y_pred_sfs)\n",
    "ax.set_title(f\"{metric_str.title()} w/ RFE Features (F1={f1score_sfs:.1%})\")\n",
    "plt.show()"
   ]
  },
  {
   "cell_type": "code",
   "execution_count": 19,
   "id": "8b5812af-5182-4d88-87e1-3e0f0cef1a5e",
   "metadata": {
    "execution": {
     "iopub.execute_input": "2024-03-06T18:46:09.691988Z",
     "iopub.status.busy": "2024-03-06T18:46:09.682323Z",
     "iopub.status.idle": "2024-03-06T18:46:09.801024Z",
     "shell.execute_reply": "2024-03-06T18:46:09.800237Z",
     "shell.execute_reply.started": "2024-03-06T18:46:09.691935Z"
    }
   },
   "outputs": [
    {
     "name": "stdout",
     "output_type": "stream",
     "text": [
      "Top 3 features as per RFE:\n",
      "['Period_band_r' 'GP_DRW_tau_r' 'Gskew_r']\n"
     ]
    },
    {
     "data": {
      "image/png": "[encoded data removed]",
      "text/plain": [
       "<Figure size 640x480 with 1 Axes>"
      ]
     },
     "metadata": {},
     "output_type": "display_data"
    }
   ],
   "source": [
    "print(f\"Top {n_select} features as per RFE:\\n{rfe_feats}\")\n",
    "ax = utils.plot_cm(y_true=y, y_pred=y_pred_rfe)\n",
    "ax.set_title(f\"{metric_str.title()} w/ RFE Features (F1={f1score_rfe:.1%})\")\n",
    "plt.show()"
   ]
  }
 ],
 "metadata": {
  "kernelspec": {
   "display_name": "Python 3 (ipykernel)",
   "language": "python",
   "name": "python3"
  },
  "language_info": {
   "codemirror_mode": {
    "name": "ipython",
    "version": 3
   },
   "file_extension": ".py",
   "mimetype": "text/x-python",
   "name": "python",
   "nbconvert_exporter": "python",
   "pygments_lexer": "ipython3",
   "version": "3.12.2"
  }
 },
 "nbformat": 4,
 "nbformat_minor": 5
}
