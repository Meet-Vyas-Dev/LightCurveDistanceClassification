{
 "cells": [
  {
   "cell_type": "code",
   "execution_count": 1,
   "id": "6fd60258-b88d-42bc-adc8-7d760c50cb58",
   "metadata": {
    "execution": {
     "iopub.execute_input": "2024-03-05T16:43:46.981516Z",
     "iopub.status.busy": "2024-03-05T16:43:46.980519Z",
     "iopub.status.idle": "2024-03-05T16:43:50.906714Z",
     "shell.execute_reply": "2024-03-05T16:43:50.905687Z",
     "shell.execute_reply.started": "2024-03-05T16:43:46.981445Z"
    },
    "jupyter": {
     "source_hidden": true
    }
   },
   "outputs": [
    {
     "name": "stderr",
     "output_type": "stream",
     "text": [
      "/Users/fbianco/opt/anaconda3/lib/python3.9/site-packages/pandas/core/computation/expressions.py:21: UserWarning: Pandas requires version '2.8.4' or newer of 'numexpr' (version '2.8.1' currently installed).\n",
      "  from pandas.core.computation.check import NUMEXPR_INSTALLED\n",
      "/Users/fbianco/opt/anaconda3/lib/python3.9/site-packages/pandas/core/arrays/masked.py:60: UserWarning: Pandas requires version '1.3.6' or newer of 'bottleneck' (version '1.3.4' currently installed).\n",
      "  from pandas.core import (\n"
     ]
    },
    {
     "ename": "TypeError",
     "evalue": "unsupported operand type(s) for |: 'type' and '_CallableType'",
     "output_type": "error",
     "traceback": [
      "\u001b[0;31m---------------------------------------------------------------------------\u001b[0m",
      "\u001b[0;31mTypeError\u001b[0m                                 Traceback (most recent call last)",
      "Input \u001b[0;32mIn [1]\u001b[0m, in \u001b[0;36m<cell line: 24>\u001b[0;34m()\u001b[0m\n\u001b[1;32m     21\u001b[0m sys\u001b[38;5;241m.\u001b[39mpath\u001b[38;5;241m.\u001b[39mappend(\u001b[38;5;124m\"\u001b[39m\u001b[38;5;124mscripts\u001b[39m\u001b[38;5;124m\"\u001b[39m)\n\u001b[1;32m     23\u001b[0m \u001b[38;5;28;01mimport\u001b[39;00m \u001b[38;5;21;01mutils\u001b[39;00m\n\u001b[0;32m---> 24\u001b[0m \u001b[38;5;28;01mimport\u001b[39;00m \u001b[38;5;21;01mdistclassipy\u001b[39;00m \u001b[38;5;28;01mas\u001b[39;00m \u001b[38;5;21;01mdcpy\u001b[39;00m\n\u001b[1;32m     26\u001b[0m cd \u001b[38;5;241m=\u001b[39m dcpy\u001b[38;5;241m.\u001b[39mDistance()\n",
      "File \u001b[0;32m~/opt/anaconda3/lib/python3.9/site-packages/distclassipy-0.1.0-py3.9.egg/distclassipy/__init__.py:9\u001b[0m, in \u001b[0;36m<module>\u001b[0;34m\u001b[0m\n\u001b[1;32m      1\u001b[0m \u001b[38;5;124;03m\"\"\"\u001b[39;00m\n\u001b[1;32m      2\u001b[0m \u001b[38;5;124;03mA module for using distance metrics for classification.\u001b[39;00m\n\u001b[1;32m      3\u001b[0m \n\u001b[0;32m   (...)\u001b[0m\n\u001b[1;32m      6\u001b[0m \u001b[38;5;124;03m    Distance - A class that provides various distance metrics for use in classification.\u001b[39;00m\n\u001b[1;32m      7\u001b[0m \u001b[38;5;124;03m\"\"\"\u001b[39;00m\n\u001b[0;32m----> 9\u001b[0m \u001b[38;5;28;01mfrom\u001b[39;00m \u001b[38;5;21;01m.\u001b[39;00m\u001b[38;5;21;01mclassifier\u001b[39;00m \u001b[38;5;28;01mimport\u001b[39;00m (\n\u001b[1;32m     10\u001b[0m     DistanceMetricClassifier,\n\u001b[1;32m     11\u001b[0m )  \u001b[38;5;66;03m# Importing the DistanceMetricClassifier from the classifier module\u001b[39;00m\n\u001b[1;32m     12\u001b[0m \u001b[38;5;28;01mfrom\u001b[39;00m \u001b[38;5;21;01m.\u001b[39;00m\u001b[38;5;21;01mdistances\u001b[39;00m \u001b[38;5;28;01mimport\u001b[39;00m (\n\u001b[1;32m     13\u001b[0m     Distance,\n\u001b[1;32m     14\u001b[0m )  \u001b[38;5;66;03m# Importing the Distance class from the distances module\u001b[39;00m\n\u001b[1;32m     15\u001b[0m \u001b[38;5;28;01mfrom\u001b[39;00m \u001b[38;5;21;01m.\u001b[39;00m\u001b[38;5;21;01mversion\u001b[39;00m \u001b[38;5;28;01mimport\u001b[39;00m __version__\n",
      "File \u001b[0;32m~/opt/anaconda3/lib/python3.9/site-packages/distclassipy-0.1.0-py3.9.egg/distclassipy/classifier.py:12\u001b[0m, in \u001b[0;36m<module>\u001b[0;34m\u001b[0m\n\u001b[1;32m      8\u001b[0m \u001b[38;5;28;01mfrom\u001b[39;00m \u001b[38;5;21;01msklearn\u001b[39;00m\u001b[38;5;21;01m.\u001b[39;00m\u001b[38;5;21;01mneighbors\u001b[39;00m \u001b[38;5;28;01mimport\u001b[39;00m KernelDensity\n\u001b[1;32m      9\u001b[0m \u001b[38;5;28;01mfrom\u001b[39;00m \u001b[38;5;21;01mtyping\u001b[39;00m \u001b[38;5;28;01mimport\u001b[39;00m Callable\n\u001b[0;32m---> 12\u001b[0m \u001b[38;5;28;01mclass\u001b[39;00m \u001b[38;5;21;01mDistanceMetricClassifier\u001b[39;00m(BaseEstimator, ClassifierMixin):\n\u001b[1;32m     13\u001b[0m \u001b[38;5;250m    \u001b[39m\u001b[38;5;124;03m\"\"\"\u001b[39;00m\n\u001b[1;32m     14\u001b[0m \u001b[38;5;124;03m    Implement a distance metric classifier based on scikit-learn.\u001b[39;00m\n\u001b[1;32m     15\u001b[0m \n\u001b[0;32m   (...)\u001b[0m\n\u001b[1;32m     18\u001b[0m \u001b[38;5;124;03m    Attributes:\u001b[39;00m\n\u001b[1;32m     19\u001b[0m \u001b[38;5;124;03m    \"\"\"\u001b[39;00m\n\u001b[1;32m     21\u001b[0m     \u001b[38;5;28;01mdef\u001b[39;00m \u001b[38;5;21m__init__\u001b[39m(\n\u001b[1;32m     22\u001b[0m         \u001b[38;5;28mself\u001b[39m,\n\u001b[1;32m     23\u001b[0m         metric: \u001b[38;5;28mstr\u001b[39m \u001b[38;5;241m|\u001b[39m Callable \u001b[38;5;241m=\u001b[39m \u001b[38;5;124m\"\u001b[39m\u001b[38;5;124meuclidean\u001b[39m\u001b[38;5;124m\"\u001b[39m,\n\u001b[0;32m   (...)\u001b[0m\n\u001b[1;32m     29\u001b[0m         calculate_importances: \u001b[38;5;28mbool\u001b[39m \u001b[38;5;241m=\u001b[39m \u001b[38;5;28;01mTrue\u001b[39;00m,\n\u001b[1;32m     30\u001b[0m     ):\n",
      "File \u001b[0;32m~/opt/anaconda3/lib/python3.9/site-packages/distclassipy-0.1.0-py3.9.egg/distclassipy/classifier.py:23\u001b[0m, in \u001b[0;36mDistanceMetricClassifier\u001b[0;34m()\u001b[0m\n\u001b[1;32m     12\u001b[0m \u001b[38;5;28;01mclass\u001b[39;00m \u001b[38;5;21;01mDistanceMetricClassifier\u001b[39;00m(BaseEstimator, ClassifierMixin):\n\u001b[1;32m     13\u001b[0m \u001b[38;5;250m    \u001b[39m\u001b[38;5;124;03m\"\"\"\u001b[39;00m\n\u001b[1;32m     14\u001b[0m \u001b[38;5;124;03m    Implement a distance metric classifier based on scikit-learn.\u001b[39;00m\n\u001b[1;32m     15\u001b[0m \n\u001b[0;32m   (...)\u001b[0m\n\u001b[1;32m     18\u001b[0m \u001b[38;5;124;03m    Attributes:\u001b[39;00m\n\u001b[1;32m     19\u001b[0m \u001b[38;5;124;03m    \"\"\"\u001b[39;00m\n\u001b[1;32m     21\u001b[0m     \u001b[38;5;28;01mdef\u001b[39;00m \u001b[38;5;21m__init__\u001b[39m(\n\u001b[1;32m     22\u001b[0m         \u001b[38;5;28mself\u001b[39m,\n\u001b[0;32m---> 23\u001b[0m         metric: \u001b[38;5;28;43mstr\u001b[39;49m\u001b[43m \u001b[49m\u001b[38;5;241;43m|\u001b[39;49m\u001b[43m \u001b[49m\u001b[43mCallable\u001b[49m \u001b[38;5;241m=\u001b[39m \u001b[38;5;124m\"\u001b[39m\u001b[38;5;124meuclidean\u001b[39m\u001b[38;5;124m\"\u001b[39m,\n\u001b[1;32m     24\u001b[0m         scale: \u001b[38;5;28mbool\u001b[39m \u001b[38;5;241m=\u001b[39m \u001b[38;5;28;01mTrue\u001b[39;00m,\n\u001b[1;32m     25\u001b[0m         central_stat: \u001b[38;5;28mstr\u001b[39m \u001b[38;5;241m=\u001b[39m \u001b[38;5;124m\"\u001b[39m\u001b[38;5;124mmedian\u001b[39m\u001b[38;5;124m\"\u001b[39m,\n\u001b[1;32m     26\u001b[0m         dispersion_stat: \u001b[38;5;28mstr\u001b[39m \u001b[38;5;241m=\u001b[39m \u001b[38;5;124m\"\u001b[39m\u001b[38;5;124mstd\u001b[39m\u001b[38;5;124m\"\u001b[39m,\n\u001b[1;32m     27\u001b[0m         calculate_kde: \u001b[38;5;28mbool\u001b[39m \u001b[38;5;241m=\u001b[39m \u001b[38;5;28;01mTrue\u001b[39;00m,\n\u001b[1;32m     28\u001b[0m         calculate_1d_dist: \u001b[38;5;28mbool\u001b[39m \u001b[38;5;241m=\u001b[39m \u001b[38;5;28;01mTrue\u001b[39;00m,\n\u001b[1;32m     29\u001b[0m         calculate_importances: \u001b[38;5;28mbool\u001b[39m \u001b[38;5;241m=\u001b[39m \u001b[38;5;28;01mTrue\u001b[39;00m,\n\u001b[1;32m     30\u001b[0m     ):\n\u001b[1;32m     31\u001b[0m \u001b[38;5;250m        \u001b[39m\u001b[38;5;124;03m\"\"\"\u001b[39;00m\n\u001b[1;32m     32\u001b[0m \u001b[38;5;124;03m        Initialize the classifier with specified parameters.\u001b[39;00m\n\u001b[1;32m     33\u001b[0m \n\u001b[0;32m   (...)\u001b[0m\n\u001b[1;32m     47\u001b[0m \u001b[38;5;124;03m            If True, calculate the 1-dimensional distance. Default is True.\u001b[39;00m\n\u001b[1;32m     48\u001b[0m \u001b[38;5;124;03m        \"\"\"\u001b[39;00m\n\u001b[1;32m     49\u001b[0m         \u001b[38;5;28mself\u001b[39m\u001b[38;5;241m.\u001b[39mmetric \u001b[38;5;241m=\u001b[39m metric\n",
      "\u001b[0;31mTypeError\u001b[0m: unsupported operand type(s) for |: 'type' and '_CallableType'"
     ]
    }
   ],
   "source": [
    "import numpy as np\n",
    "import pandas as pd\n",
    "from tqdm.auto import tqdm\n",
    "import matplotlib.pyplot as plt\n",
    "import seaborn as sns\n",
    "from mlxtend.feature_selection import (\n",
    "    SequentialFeatureSelector,\n",
    ")\n",
    "from mlxtend.evaluate import feature_importance_permutation\n",
    "from mlxtend.plotting import plot_sequential_feature_selection as plot_sfs\n",
    "from sklearn.utils.estimator_checks import check_estimator\n",
    "from sklearn.model_selection import cross_val_predict, train_test_split\n",
    "from sklearn.metrics import accuracy_score, f1_score, matthews_corrcoef\n",
    "import matplotlib.ticker as ticker\n",
    "import os\n",
    "from pathlib import Path\n",
    "import json\n",
    "\n",
    "import sys\n",
    "\n",
    "sys.path.append(\"scripts\")\n",
    "\n",
    "import utils\n",
    "import distclassipy as dcpy\n",
    "\n",
    "cd = dcpy.Distance()"
   ]
  },
  {
   "cell_type": "code",
   "execution_count": null,
   "id": "6a6ba512-bafa-481b-8bb5-5e6971dd8f2a",
   "metadata": {
    "execution": {
     "iopub.execute_input": "2024-03-05T16:43:50.908312Z",
     "iopub.status.busy": "2024-03-05T16:43:50.907920Z",
     "iopub.status.idle": "2024-03-05T16:43:50.953935Z",
     "shell.execute_reply": "2024-03-05T16:43:50.952756Z",
     "shell.execute_reply.started": "2024-03-05T16:43:50.908286Z"
    },
    "jupyter": {
     "source_hidden": true
    }
   },
   "outputs": [],
   "source": [
    "with open(\"settings.txt\") as f:\n",
    "    settings_dict = json.load(f)\n",
    "np.random.seed(settings_dict[\"seed_choice\"])\n",
    "\n",
    "classification_letter = \"c\"\n",
    "classification_problem = settings_dict[\"classification_problem\"][classification_letter]\n",
    "classes_to_keep = settings_dict[\"classes_to_keep\"][classification_letter]\n",
    "results_subfolder = f\"{classification_letter}. {classification_problem}\"\n",
    "sns_dict = settings_dict[\"sns_dict\"]\n",
    "\n",
    "sns.set_theme(**sns_dict)"
   ]
  },
  {
   "cell_type": "code",
   "execution_count": null,
   "id": "b275eea2-c714-46b2-bf9b-00817164bf7a",
   "metadata": {
    "execution": {
     "iopub.execute_input": "2024-03-05T16:43:50.955789Z",
     "iopub.status.busy": "2024-03-05T16:43:50.955224Z",
     "iopub.status.idle": "2024-03-05T16:43:51.279683Z",
     "shell.execute_reply": "2024-03-05T16:43:51.278713Z",
     "shell.execute_reply.started": "2024-03-05T16:43:50.955764Z"
    },
    "jupyter": {
     "source_hidden": true
    }
   },
   "outputs": [],
   "source": [
    "#check_estimator(dcpy.DistanceMetricClassifier())  # passes"
   ]
  },
  {
   "cell_type": "code",
   "execution_count": null,
   "id": "65a31dae-a482-479c-bcdf-1ca4d95badfc",
   "metadata": {
    "execution": {
     "iopub.execute_input": "2024-03-05T16:43:51.284199Z",
     "iopub.status.busy": "2024-03-05T16:43:51.282081Z",
     "iopub.status.idle": "2024-03-05T16:43:51.493233Z",
     "shell.execute_reply": "2024-03-05T16:43:51.491880Z",
     "shell.execute_reply.started": "2024-03-05T16:43:51.284184Z"
    },
    "jupyter": {
     "source_hidden": true
    }
   },
   "outputs": [],
   "source": [
    "# Load Data\n",
    "X_df_FULL = pd.read_csv(\"data/X_df.csv\", index_col=0)\n",
    "y_df_FULL = pd.read_csv(\"data/y_df.csv\", index_col=0)"
   ]
  },
  {
   "cell_type": "code",
   "execution_count": null,
   "id": "f67c5d91-5e1b-4d79-aa35-49b58f7d1db9",
   "metadata": {
    "execution": {
     "iopub.execute_input": "2024-03-05T16:43:51.501704Z",
     "iopub.status.busy": "2024-03-05T16:43:51.499571Z",
     "iopub.status.idle": "2024-03-05T16:43:51.530352Z",
     "shell.execute_reply": "2024-03-05T16:43:51.528618Z",
     "shell.execute_reply.started": "2024-03-05T16:43:51.501688Z"
    },
    "jupyter": {
     "source_hidden": true
    }
   },
   "outputs": [],
   "source": [
    "# Remove manually selected 'bad' features\n",
    "with open(os.path.join(\"results\", results_subfolder, \"drop_features.txt\")) as f:\n",
    "    bad_features = json.load(f)  # manually selected\n",
    "\n",
    "X_df_FULL = X_df_FULL.drop(bad_features, axis=1)\n",
    "\n",
    "print(X_df_FULL.shape[1])"
   ]
  },
  {
   "cell_type": "code",
   "execution_count": null,
   "id": "6e1d136e",
   "metadata": {},
   "outputs": [],
   "source": [
    "bad_features"
   ]
  },
  {
   "cell_type": "code",
   "execution_count": null,
   "id": "fa5d12e6-d9a6-49fc-824e-99211c3476e8",
   "metadata": {
    "execution": {
     "iopub.execute_input": "2024-03-05T16:43:51.534031Z",
     "iopub.status.busy": "2024-03-05T16:43:51.533706Z",
     "iopub.status.idle": "2024-03-05T16:43:51.551243Z",
     "shell.execute_reply": "2024-03-05T16:43:51.550425Z",
     "shell.execute_reply.started": "2024-03-05T16:43:51.534008Z"
    },
    "jupyter": {
     "source_hidden": true
    }
   },
   "outputs": [],
   "source": [
    "# Keep only current classes\n",
    "cl_keep_str = \"_\".join(classes_to_keep)\n",
    "\n",
    "y_df = y_df_FULL[y_df_FULL[\"class\"].isin(classes_to_keep)]\n",
    "X_df = X_df_FULL.loc[y_df.index]\n",
    "X = X_df.to_numpy()\n",
    "y = y_df.to_numpy().ravel()"
   ]
  },
  {
   "cell_type": "code",
   "execution_count": null,
   "id": "3c663feb-b106-498d-b118-09752e7ce818",
   "metadata": {
    "execution": {
     "iopub.execute_input": "2024-03-05T16:43:51.553431Z",
     "iopub.status.busy": "2024-03-05T16:43:51.553148Z",
     "iopub.status.idle": "2024-03-05T16:43:51.558207Z",
     "shell.execute_reply": "2024-03-05T16:43:51.557022Z",
     "shell.execute_reply.started": "2024-03-05T16:43:51.553408Z"
    },
    "jupyter": {
     "source_hidden": true
    }
   },
   "outputs": [],
   "source": [
    "feats_top_plot = 15\n",
    "### For plotting only - how many features to plot in relative importance"
   ]
  },
  {
   "cell_type": "code",
   "execution_count": null,
   "id": "b37a3fcf",
   "metadata": {
    "execution": {
     "iopub.execute_input": "2024-03-05T16:43:51.559574Z",
     "iopub.status.busy": "2024-03-05T16:43:51.559314Z",
     "iopub.status.idle": "2024-03-05T16:43:51.562755Z",
     "shell.execute_reply": "2024-03-05T16:43:51.562065Z",
     "shell.execute_reply.started": "2024-03-05T16:43:51.559563Z"
    }
   },
   "outputs": [],
   "source": [
    "metric = \"canberra\""
   ]
  },
  {
   "cell_type": "code",
   "execution_count": null,
   "id": "ca7f8270-6f43-4cc8-b0ad-c145300f5dd8",
   "metadata": {
    "execution": {
     "iopub.execute_input": "2024-03-05T16:43:51.563831Z",
     "iopub.status.busy": "2024-03-05T16:43:51.563710Z",
     "iopub.status.idle": "2024-03-05T16:43:51.568515Z",
     "shell.execute_reply": "2024-03-05T16:43:51.568230Z",
     "shell.execute_reply.started": "2024-03-05T16:43:51.563819Z"
    }
   },
   "outputs": [],
   "source": [
    "metric_str = utils.get_metric_name(metric)\n",
    "\n",
    "# Feature Importance via Feature Permutation\n",
    "\n",
    "X_train, X_test, y_train, y_test = train_test_split(\n",
    "    X, y, test_size=0.33, stratify=y, random_state=settings_dict[\"seed_choice\"]\n",
    ")"
   ]
  },
  {
   "cell_type": "markdown",
   "id": "077f2f09-810e-46ff-a428-4af75ba005a1",
   "metadata": {},
   "source": [
    "---\n",
    "## Option 1: Pass permutation feature importance"
   ]
  },
  {
   "cell_type": "code",
   "execution_count": null,
   "id": "bc706adb-6b9e-49ef-9a96-82324429d93b",
   "metadata": {
    "execution": {
     "iopub.execute_input": "2024-03-05T16:43:51.569171Z",
     "iopub.status.busy": "2024-03-05T16:43:51.569053Z",
     "iopub.status.idle": "2024-03-05T16:43:51.574041Z",
     "shell.execute_reply": "2024-03-05T16:43:51.573068Z",
     "shell.execute_reply.started": "2024-03-05T16:43:51.569162Z"
    }
   },
   "outputs": [],
   "source": [
    "from sklearn.feature_selection import RFE\n",
    "\n",
    "def custom_importance_getter(lcdc):\n",
    "\n",
    "    imp_vals, imp_all = feature_importance_permutation(\n",
    "        predict_method=lcdc.predict,\n",
    "        X=X_test,\n",
    "        y=y_test,\n",
    "        metric=\"accuracy\",\n",
    "        num_rounds=10,\n",
    "        seed=settings_dict[\"seed_choice\"]\n",
    "    )\n",
    "\n",
    "    return imp_vals"
   ]
  },
  {
   "cell_type": "code",
   "execution_count": null,
   "id": "8668a289-afec-4f8c-8d26-1e3ffcdfbc5b",
   "metadata": {
    "execution": {
     "iopub.execute_input": "2024-03-05T16:43:51.582242Z",
     "iopub.status.busy": "2024-03-05T16:43:51.580099Z",
     "iopub.status.idle": "2024-03-05T16:43:52.499503Z",
     "shell.execute_reply": "2024-03-05T16:43:52.497811Z",
     "shell.execute_reply.started": "2024-03-05T16:43:51.582203Z"
    }
   },
   "outputs": [],
   "source": [
    "lcdc = dcpy.DistanceMetricClassifier(\n",
    "    metric=metric,\n",
    "    #scale=False,\n",
    ")\n",
    "\n",
    "lcdc.fit(X_train, y_train)\n",
    "\n",
    "lcdc.feature_importances_"
   ]
  },
  {
   "cell_type": "code",
   "execution_count": null,
   "id": "1edcb57c",
   "metadata": {},
   "outputs": [],
   "source": [
    "\n",
    "\n",
    "rfe = RFE(estimator=lcdc, n_features_to_select=15, step=1, #importance_getter=custom_importance_getter,\n",
    "          verbose=1)\n",
    "\n",
    "rfe.fit(X_train, y_train)\n",
    "\n",
    "ranking = rfe.ranking_\n",
    "print(\"Ranking of features:\", ranking)"
   ]
  },
  {
   "cell_type": "code",
   "execution_count": null,
   "id": "42ede341-12cf-47a0-80a5-6542c6165f93",
   "metadata": {
    "execution": {
     "iopub.status.busy": "2024-03-05T16:43:52.499844Z",
     "iopub.status.idle": "2024-03-05T16:43:52.500194Z",
     "shell.execute_reply": "2024-03-05T16:43:52.500053Z",
     "shell.execute_reply.started": "2024-03-05T16:43:52.500043Z"
    }
   },
   "outputs": [],
   "source": [
    "lcdc = dcpy.DistanceMetricClassifier(\n",
    "    metric=metric,\n",
    "    scale=True,\n",
    ")\n",
    "\n",
    "lcdc.fit(X_train, y_train)\n",
    "\n",
    "rfe = RFE(estimator=lcdc, n_features_to_select=1, step=1, importance_getter=custom_importance_getter,verbose=1)\n",
    "\n",
    "rfe.fit(X_train, y_train)\n",
    "\n",
    "ranking = rfe.ranking_\n",
    "print(\"Ranking of features:\", ranking)"
   ]
  },
  {
   "cell_type": "markdown",
   "id": "5cdc1e5f-5a5f-4729-9494-32f25de7ef14",
   "metadata": {},
   "source": [
    "###  ❌❌❌ : Did not work - it works for 31 features, and then sklearn automatically drops one feature - but the model doesn't know that this feature is dropped, and so leads to an error. Fixing this will require some deep diving into the distclassipy source code. \n",
    "Note that, ```check_estimator(lcdc)``` still works though - so as per sklearn, lcdc is still a valid classifier."
   ]
  },
  {
   "cell_type": "markdown",
   "id": "587649c8-f3e0-4905-b50a-abd83b2daec5",
   "metadata": {},
   "source": [
    "---\n",
    "## Option 2: Pass an equal feature importance for all 31"
   ]
  },
  {
   "cell_type": "code",
   "execution_count": null,
   "id": "2cd45878-78b3-4510-814a-e2f8af294bb7",
   "metadata": {
    "execution": {
     "iopub.status.busy": "2024-03-05T16:43:52.501930Z",
     "iopub.status.idle": "2024-03-05T16:43:52.502210Z",
     "shell.execute_reply": "2024-03-05T16:43:52.502062Z",
     "shell.execute_reply.started": "2024-03-05T16:43:52.502056Z"
    }
   },
   "outputs": [],
   "source": [
    "def constant_importance_getter(lcdc):\n",
    "    return np.ones(X.shape[1])"
   ]
  },
  {
   "cell_type": "code",
   "execution_count": null,
   "id": "ec9ea606-f4f0-4bdc-8046-b84ad20071b8",
   "metadata": {
    "execution": {
     "iopub.status.busy": "2024-03-05T16:43:52.503713Z",
     "iopub.status.idle": "2024-03-05T16:43:52.504701Z",
     "shell.execute_reply": "2024-03-05T16:43:52.504431Z",
     "shell.execute_reply.started": "2024-03-05T16:43:52.504415Z"
    }
   },
   "outputs": [],
   "source": [
    "lcdc = dcpy.DistanceMetricClassifier(\n",
    "    metric=metric,\n",
    "    scale=False,\n",
    ")\n",
    "\n",
    "lcdc.fit(X_train, y_train)\n",
    "\n",
    "rfe = RFE(estimator=lcdc, n_features_to_select=1, step=1, importance_getter=custom_importance_getter,verbose=1)\n",
    "\n",
    "rfe.fit(X_train, y_train)\n",
    "\n",
    "ranking = rfe.ranking_\n",
    "print(\"Ranking of features:\", ranking)"
   ]
  },
  {
   "cell_type": "markdown",
   "id": "a7ff0f0a-e372-47df-a1d6-3da163d813b7",
   "metadata": {},
   "source": [
    "###  ❌❌❌ : Same problem"
   ]
  }
 ],
 "metadata": {
  "kernelspec": {
   "display_name": "Python 3 (ipykernel)",
   "language": "python",
   "name": "python3"
  },
  "language_info": {
   "codemirror_mode": {
    "name": "ipython",
    "version": 3
   },
   "file_extension": ".py",
   "mimetype": "text/x-python",
   "name": "python",
   "nbconvert_exporter": "python",
   "pygments_lexer": "ipython3",
   "version": "3.9.12"
  }
 },
 "nbformat": 4,
 "nbformat_minor": 5
}
