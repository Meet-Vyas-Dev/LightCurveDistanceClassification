{
 "cells": [
  {
   "cell_type": "code",
   "execution_count": 1,
   "id": "6fd60258-b88d-42bc-adc8-7d760c50cb58",
   "metadata": {
    "execution": {
     "iopub.execute_input": "2024-05-09T23:28:02.401494Z",
     "iopub.status.busy": "2024-05-09T23:28:02.400017Z",
     "iopub.status.idle": "2024-05-09T23:28:03.599023Z",
     "shell.execute_reply": "2024-05-09T23:28:03.598738Z",
     "shell.execute_reply.started": "2024-05-09T23:28:02.401472Z"
    }
   },
   "outputs": [],
   "source": [
    "import numpy as np\n",
    "import pandas as pd\n",
    "from tqdm.auto import tqdm\n",
    "import matplotlib.pyplot as plt\n",
    "import seaborn as sns\n",
    "from mlxtend.feature_selection import (\n",
    "    SequentialFeatureSelector,\n",
    ")\n",
    "from mlxtend.evaluate import feature_importance_permutation\n",
    "from mlxtend.plotting import plot_sequential_feature_selection as plot_sfs\n",
    "from sklearn.utils.estimator_checks import check_estimator\n",
    "from sklearn.ensemble import RandomForestClassifier\n",
    "from sklearn.model_selection import cross_val_predict, train_test_split\n",
    "from sklearn.metrics import accuracy_score, f1_score, matthews_corrcoef\n",
    "import matplotlib.ticker as ticker\n",
    "import os\n",
    "\n",
    "os.chdir(\"../../\")\n",
    "from pathlib import Path\n",
    "import json\n",
    "\n",
    "import sys\n",
    "\n",
    "sys.path.append(\"scripts\")\n",
    "\n",
    "import utils\n",
    "import distclassipy as dcpy\n",
    "\n",
    "cd = dcpy.Distance()"
   ]
  },
  {
   "cell_type": "code",
   "execution_count": 2,
   "id": "6a6ba512-bafa-481b-8bb5-5e6971dd8f2a",
   "metadata": {
    "execution": {
     "iopub.execute_input": "2024-05-09T23:28:03.599628Z",
     "iopub.status.busy": "2024-05-09T23:28:03.599476Z",
     "iopub.status.idle": "2024-05-09T23:28:03.602418Z",
     "shell.execute_reply": "2024-05-09T23:28:03.602191Z",
     "shell.execute_reply.started": "2024-05-09T23:28:03.599617Z"
    }
   },
   "outputs": [],
   "source": [
    "with open(\"settings.txt\") as f:\n",
    "    settings_dict = json.load(f)\n",
    "np.random.seed(settings_dict[\"seed_choice\"])\n",
    "\n",
    "classification_letter = \"b\"\n",
    "classification_problem = settings_dict[\"classification_problem\"][classification_letter]\n",
    "classes_to_keep = settings_dict[\"classes_to_keep\"][classification_letter]\n",
    "results_subfolder = f\"{classification_letter}. {classification_problem}\"\n",
    "sns_dict = settings_dict[\"sns_dict\"]\n",
    "\n",
    "sns.set_theme(**sns_dict)"
   ]
  },
  {
   "cell_type": "code",
   "execution_count": 3,
   "id": "65a31dae-a482-479c-bcdf-1ca4d95badfc",
   "metadata": {
    "execution": {
     "iopub.execute_input": "2024-05-09T23:28:03.602956Z",
     "iopub.status.busy": "2024-05-09T23:28:03.602864Z",
     "iopub.status.idle": "2024-05-09T23:28:03.679522Z",
     "shell.execute_reply": "2024-05-09T23:28:03.679152Z",
     "shell.execute_reply.started": "2024-05-09T23:28:03.602947Z"
    }
   },
   "outputs": [],
   "source": [
    "# Load Data\n",
    "X_df_FULL = pd.read_csv(\"data/X_df.csv\", index_col=0)\n",
    "y_df_FULL = pd.read_csv(\"data/y_df.csv\", index_col=0)"
   ]
  },
  {
   "cell_type": "code",
   "execution_count": 4,
   "id": "71011c80-68da-400a-bbad-f610706a972f",
   "metadata": {
    "execution": {
     "iopub.execute_input": "2024-05-09T23:28:03.680015Z",
     "iopub.status.busy": "2024-05-09T23:28:03.679919Z",
     "iopub.status.idle": "2024-05-09T23:28:03.687614Z",
     "shell.execute_reply": "2024-05-09T23:28:03.686470Z",
     "shell.execute_reply.started": "2024-05-09T23:28:03.680006Z"
    }
   },
   "outputs": [
    {
     "name": "stdout",
     "output_type": "stream",
     "text": [
      "36\n"
     ]
    }
   ],
   "source": [
    "# Remove features to be dropped from previous notebook\n",
    "with open(os.path.join(\"results\", results_subfolder, \"drop_features.txt\")) as f:\n",
    "    bad_features = json.load(f)  # manually selected\n",
    "\n",
    "X_df_FULL = X_df_FULL.drop(bad_features, axis=1)\n",
    "\n",
    "print(X_df_FULL.shape[1])"
   ]
  },
  {
   "cell_type": "code",
   "execution_count": 5,
   "id": "fa5d12e6-d9a6-49fc-824e-99211c3476e8",
   "metadata": {
    "execution": {
     "iopub.execute_input": "2024-05-09T23:28:03.688901Z",
     "iopub.status.busy": "2024-05-09T23:28:03.688705Z",
     "iopub.status.idle": "2024-05-09T23:28:03.697109Z",
     "shell.execute_reply": "2024-05-09T23:28:03.695985Z",
     "shell.execute_reply.started": "2024-05-09T23:28:03.688890Z"
    }
   },
   "outputs": [],
   "source": [
    "# Keep only current classes\n",
    "cl_keep_str = \"_\".join(classes_to_keep)\n",
    "\n",
    "y_df = y_df_FULL[y_df_FULL[\"class\"].isin(classes_to_keep)]\n",
    "X_df = X_df_FULL.loc[y_df.index]\n",
    "X = X_df.to_numpy()\n",
    "y = y_df.to_numpy().ravel()"
   ]
  },
  {
   "cell_type": "code",
   "execution_count": 6,
   "id": "8babf33e-37f4-4b23-b949-cf8b2bb7bd69",
   "metadata": {
    "execution": {
     "iopub.execute_input": "2024-05-09T23:28:03.703979Z",
     "iopub.status.busy": "2024-05-09T23:28:03.702764Z",
     "iopub.status.idle": "2024-05-09T23:28:03.708524Z",
     "shell.execute_reply": "2024-05-09T23:28:03.707073Z",
     "shell.execute_reply.started": "2024-05-09T23:28:03.703964Z"
    }
   },
   "outputs": [],
   "source": [
    "locpath = os.path.join(\"results\", results_subfolder, \"random forest\")\n",
    "Path(locpath).mkdir(parents=True, exist_ok=True)"
   ]
  },
  {
   "cell_type": "code",
   "execution_count": 7,
   "id": "5b0b362d-dcf8-491e-8265-cd3722776f32",
   "metadata": {
    "execution": {
     "iopub.execute_input": "2024-05-09T23:28:03.711670Z",
     "iopub.status.busy": "2024-05-09T23:28:03.711257Z",
     "iopub.status.idle": "2024-05-09T23:28:03.852389Z",
     "shell.execute_reply": "2024-05-09T23:28:03.851898Z",
     "shell.execute_reply.started": "2024-05-09T23:28:03.711657Z"
    }
   },
   "outputs": [
    {
     "name": "stdout",
     "output_type": "stream",
     "text": [
      "0.7710843373493976\n",
      "0.7073170731707317\n"
     ]
    }
   ],
   "source": [
    "# Make sure we're not over fitting\n",
    "\n",
    "from sklearn.model_selection import train_test_split\n",
    "\n",
    "X_train, X_test, y_train, y_test = train_test_split(\n",
    "    X, y, test_size=0.33, stratify=y, random_state=settings_dict[\"seed_choice\"]\n",
    ")\n",
    "\n",
    "rfc = RandomForestClassifier(\n",
    "    random_state=settings_dict[\"seed_choice\"], max_depth=3, n_jobs=-1\n",
    ")\n",
    "# Important to make sure it's not overfitting.\n",
    "rfc.fit(X_train, y_train)\n",
    "print(rfc.score(X_train, y_train))\n",
    "print(rfc.score(X_test, y_test))"
   ]
  },
  {
   "cell_type": "code",
   "execution_count": 8,
   "id": "ba68dd9a-38bf-4ac7-9dbf-6a7ddd899ae0",
   "metadata": {
    "execution": {
     "iopub.execute_input": "2024-05-09T23:28:03.853429Z",
     "iopub.status.busy": "2024-05-09T23:28:03.853302Z",
     "iopub.status.idle": "2024-05-09T23:28:04.828527Z",
     "shell.execute_reply": "2024-05-09T23:28:04.827913Z",
     "shell.execute_reply.started": "2024-05-09T23:28:03.853411Z"
    }
   },
   "outputs": [],
   "source": [
    "y_pred = cross_val_predict(rfc, X, y, cv=5, n_jobs=-1)"
   ]
  },
  {
   "cell_type": "code",
   "execution_count": 9,
   "id": "0b32573a-f843-4de7-a75a-c28ab2fbbe31",
   "metadata": {
    "execution": {
     "iopub.execute_input": "2024-05-09T23:28:04.829493Z",
     "iopub.status.busy": "2024-05-09T23:28:04.829362Z",
     "iopub.status.idle": "2024-05-09T23:28:05.019435Z",
     "shell.execute_reply": "2024-05-09T23:28:05.018289Z",
     "shell.execute_reply.started": "2024-05-09T23:28:04.829476Z"
    }
   },
   "outputs": [
    {
     "name": "stdout",
     "output_type": "stream",
     "text": [
      "F1 = 69.78 %\n",
      "Accuracy = 69.98 %\n",
      "Matthew's Coefficient = 40.51 %\n"
     ]
    },
    {
     "data": {
      "image/png": "[encoded data removed]",
      "text/plain": [
       "<Figure size 640x480 with 1 Axes>"
      ]
     },
     "metadata": {},
     "output_type": "display_data"
    }
   ],
   "source": [
    "acc = accuracy_score(y, y_pred)\n",
    "f1score = f1_score(y, y_pred, average=\"macro\")\n",
    "matthew_coef = matthews_corrcoef(y, y_pred)\n",
    "print(\n",
    "    f\"F1 = {f1score*100:.2f} %\\nAccuracy = {acc*100:.2f} %\\nMatthew's Coefficient = {matthew_coef*100:.2f} %\"\n",
    ")\n",
    "\n",
    "ax = utils.plot_cm(y_true=y, y_pred=y_pred)\n",
    "\n",
    "plt.title(\"Random Forest\")\n",
    "plt.savefig(os.path.join(locpath, \"confusion_matrix.pdf\"), bbox_inches=\"tight\")\n",
    "plt.show()"
   ]
  },
  {
   "cell_type": "code",
   "execution_count": 10,
   "id": "b7c29bee-4e45-420b-8e39-638ff3a0326f",
   "metadata": {
    "execution": {
     "iopub.execute_input": "2024-05-09T23:28:05.022096Z",
     "iopub.status.busy": "2024-05-09T23:28:05.021312Z",
     "iopub.status.idle": "2024-05-09T23:28:05.031784Z",
     "shell.execute_reply": "2024-05-09T23:28:05.030805Z",
     "shell.execute_reply.started": "2024-05-09T23:28:05.022076Z"
    }
   },
   "outputs": [
    {
     "data": {
      "text/html": [
       "\n",
       "<div style='width: 100%; display: flex;'>\n",
       "    <iframe src='../../results/b. binary/distclassipy/Clark/sfs_best_confusion_matrix.pdf' width='50%' height='500'></iframe>\n",
       "    <iframe src='../../results/b. binary/distclassipy/Canberra/sfs_best_confusion_matrix.pdf' width='50%' height='500'></iframe>\n",
       "</div>\n"
      ],
      "text/plain": [
       "<IPython.core.display.HTML object>"
      ]
     },
     "metadata": {},
     "output_type": "display_data"
    }
   ],
   "source": [
    "from IPython.display import display, HTML\n",
    "\n",
    "filepath1 = os.path.join(\n",
    "    \"results\",\n",
    "    results_subfolder,\n",
    "    \"distclassipy\",\n",
    "    \"Clark\",\n",
    "    \"sfs_best_confusion_matrix.pdf\",\n",
    ")\n",
    "filepath2 = os.path.join(\n",
    "    \"results\",\n",
    "    results_subfolder,\n",
    "    \"distclassipy\",\n",
    "    \"Canberra\",\n",
    "    \"sfs_best_confusion_matrix.pdf\",\n",
    ")\n",
    "\n",
    "html_str = f\"\"\"\n",
    "<div style='width: 100%; display: flex;'>\n",
    "    <iframe src='../../{filepath1}' width='50%' height='500'></iframe>\n",
    "    <iframe src='../../{filepath2}' width='50%' height='500'></iframe>\n",
    "</div>\n",
    "\"\"\"\n",
    "\n",
    "# Display the PDFs side by side\n",
    "display(HTML(html_str))"
   ]
  },
  {
   "cell_type": "code",
   "execution_count": 11,
   "id": "74421db2-c300-42a7-85df-4add18c8d7a7",
   "metadata": {
    "execution": {
     "iopub.execute_input": "2024-05-09T23:28:05.033166Z",
     "iopub.status.busy": "2024-05-09T23:28:05.032990Z",
     "iopub.status.idle": "2024-05-09T23:28:05.041915Z",
     "shell.execute_reply": "2024-05-09T23:28:05.041211Z",
     "shell.execute_reply.started": "2024-05-09T23:28:05.033149Z"
    }
   },
   "outputs": [],
   "source": [
    "dat = np.hstack([y_pred.reshape(-1, 1), y.reshape(-1, 1)])\n",
    "objs = X_df.index\n",
    "preds_best_df = pd.DataFrame(data=dat, columns=[\"y_pred\", \"y_true\"], index=objs)\n",
    "preds_best_df.to_csv(os.path.join(locpath, \"preds_best.csv\"))"
   ]
  },
  {
   "cell_type": "code",
   "execution_count": 12,
   "id": "db329c4b-d277-4665-9901-11d9dfdae1bd",
   "metadata": {
    "execution": {
     "iopub.execute_input": "2024-05-09T23:28:05.043145Z",
     "iopub.status.busy": "2024-05-09T23:28:05.043004Z",
     "iopub.status.idle": "2024-05-09T23:28:05.312914Z",
     "shell.execute_reply": "2024-05-09T23:28:05.312364Z",
     "shell.execute_reply.started": "2024-05-09T23:28:05.043136Z"
    }
   },
   "outputs": [],
   "source": [
    "rfc.fit(X, y)\n",
    "importances = rfc.feature_importances_\n",
    "std = np.std([tree.feature_importances_ for tree in rfc.estimators_], axis=0)\n",
    "forest_importances = pd.DataFrame(\n",
    "    data=np.concatenate([importances.reshape(-1, 1), std.reshape(-1, 1)], axis=1),\n",
    "    index=X_df_FULL.columns,\n",
    "    columns=[\"importance\", \"std\"],\n",
    ")"
   ]
  },
  {
   "cell_type": "code",
   "execution_count": 13,
   "id": "446e4b10-64f1-4d4c-90a7-959ac1a8984b",
   "metadata": {
    "execution": {
     "iopub.execute_input": "2024-05-09T23:28:05.313820Z",
     "iopub.status.busy": "2024-05-09T23:28:05.313698Z",
     "iopub.status.idle": "2024-05-09T23:28:05.327857Z",
     "shell.execute_reply": "2024-05-09T23:28:05.326721Z",
     "shell.execute_reply.started": "2024-05-09T23:28:05.313809Z"
    }
   },
   "outputs": [],
   "source": [
    "forest_importances[\"sum\"] = forest_importances[\"importance\"] + forest_importances[\"std\"]\n",
    "forest_importances = forest_importances.sort_values(by=\"sum\", ascending=False)"
   ]
  },
  {
   "cell_type": "code",
   "execution_count": 14,
   "id": "dd0e93c3-c2b9-494d-9d90-bec104992dc5",
   "metadata": {
    "execution": {
     "iopub.execute_input": "2024-05-09T23:28:05.328583Z",
     "iopub.status.busy": "2024-05-09T23:28:05.328430Z",
     "iopub.status.idle": "2024-05-09T23:28:05.341078Z",
     "shell.execute_reply": "2024-05-09T23:28:05.336900Z",
     "shell.execute_reply.started": "2024-05-09T23:28:05.328571Z"
    }
   },
   "outputs": [],
   "source": [
    "feats_top_plot = 15\n",
    "\n",
    "tempdf = forest_importances.iloc[:feats_top_plot]\n",
    "tempdf.index.name = \"feature\"\n",
    "\n",
    "y = tempdf[\"importance\"]\n",
    "yerr = tempdf[\"std\"]\n",
    "x = tempdf.index"
   ]
  },
  {
   "cell_type": "code",
   "execution_count": 15,
   "id": "21d2b7e6-8a0a-48d4-a2a1-343c0463ef26",
   "metadata": {
    "execution": {
     "iopub.execute_input": "2024-05-09T23:28:05.348718Z",
     "iopub.status.busy": "2024-05-09T23:28:05.345059Z",
     "iopub.status.idle": "2024-05-09T23:28:05.543791Z",
     "shell.execute_reply": "2024-05-09T23:28:05.543515Z",
     "shell.execute_reply.started": "2024-05-09T23:28:05.348690Z"
    }
   },
   "outputs": [
    {
     "data": {
      "image/png": "[encoded data removed]",
      "text/plain": [
       "<Figure size 640x480 with 1 Axes>"
      ]
     },
     "metadata": {},
     "output_type": "display_data"
    }
   ],
   "source": [
    "fig, ax = plt.subplots()\n",
    "\n",
    "ax.bar(x, y, yerr=yerr, color=\"SteelBlue\")\n",
    "plt.xticks(rotation=90)\n",
    "plt.title(f\"Top {feats_top_plot} features for Random Forest\")\n",
    "plt.xlabel(\"Feature name\")\n",
    "plt.ylabel(\"Relative Importance\")\n",
    "plt.tight_layout()\n",
    "plt.savefig(os.path.join(locpath, \"feature_importance.pdf\"), bbox_inches=\"tight\")\n",
    "plt.show()"
   ]
  },
  {
   "cell_type": "markdown",
   "id": "bc05aec3-2bb2-4579-bc81-00b4a250c760",
   "metadata": {},
   "source": [
    "See final result comparison here:\n",
    "- https://docs.google.com/spreadsheets/d/1cNaXAjW_RMu3y6MUPkNmjOs03kbRjExU9YLIAjg8A-M/edit?usp=sharing"
   ]
  }
 ],
 "metadata": {
  "kernelspec": {
   "display_name": "Python 3 (ipykernel)",
   "language": "python",
   "name": "python3"
  },
  "language_info": {
   "codemirror_mode": {
    "name": "ipython",
    "version": 3
   },
   "file_extension": ".py",
   "mimetype": "text/x-python",
   "name": "python",
   "nbconvert_exporter": "python",
   "pygments_lexer": "ipython3",
   "version": "3.12.2"
  }
 },
 "nbformat": 4,
 "nbformat_minor": 5
}
