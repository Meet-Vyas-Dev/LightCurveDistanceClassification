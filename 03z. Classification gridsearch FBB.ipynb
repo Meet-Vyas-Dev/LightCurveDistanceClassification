{
 "cells": [
  {
   "cell_type": "code",
   "execution_count": 2,
   "id": "f379d948",
   "metadata": {
    "execution": {
     "iopub.execute_input": "2024-03-03T18:50:58.928381Z",
     "iopub.status.busy": "2024-03-03T18:50:58.927492Z",
     "iopub.status.idle": "2024-03-03T18:50:58.936805Z",
     "shell.execute_reply": "2024-03-03T18:50:58.935871Z",
     "shell.execute_reply.started": "2024-03-03T18:50:58.928321Z"
    }
   },
   "outputs": [],
   "source": [
    "#!pip install threadpoolctl==3.1.0"
   ]
  },
  {
   "cell_type": "code",
   "execution_count": 3,
   "id": "83a83ef9",
   "metadata": {
    "execution": {
     "iopub.execute_input": "2024-03-03T18:50:59.485267Z",
     "iopub.status.busy": "2024-03-03T18:50:59.484350Z",
     "iopub.status.idle": "2024-03-03T18:50:59.494663Z",
     "shell.execute_reply": "2024-03-03T18:50:59.492388Z",
     "shell.execute_reply.started": "2024-03-03T18:50:59.485212Z"
    }
   },
   "outputs": [],
   "source": [
    "#!pip install mlxtend"
   ]
  },
  {
   "cell_type": "code",
   "execution_count": 4,
   "id": "6fd60258-b88d-42bc-adc8-7d760c50cb58",
   "metadata": {
    "execution": {
     "iopub.execute_input": "2024-03-03T18:51:00.032347Z",
     "iopub.status.busy": "2024-03-03T18:51:00.030893Z",
     "iopub.status.idle": "2024-03-03T18:51:01.254982Z",
     "shell.execute_reply": "2024-03-03T18:51:01.254677Z",
     "shell.execute_reply.started": "2024-03-03T18:51:00.032297Z"
    }
   },
   "outputs": [],
   "source": [
    "import numpy as np\n",
    "import pandas as pd\n",
    "from tqdm.auto import tqdm\n",
    "import matplotlib.pyplot as plt\n",
    "import seaborn as sns\n",
    "from mlxtend.feature_selection import (\n",
    "    SequentialFeatureSelector,\n",
    ")\n",
    "from mlxtend.evaluate import feature_importance_permutation\n",
    "from mlxtend.plotting import plot_sequential_feature_selection as plot_sfs\n",
    "from sklearn.utils.estimator_checks import check_estimator\n",
    "from sklearn.model_selection import cross_val_predict, train_test_split\n",
    "from sklearn.metrics import accuracy_score, f1_score, matthews_corrcoef\n",
    "import matplotlib.ticker as ticker\n",
    "import os\n",
    "from pathlib import Path\n",
    "import json\n",
    "\n",
    "import sys\n",
    "\n",
    "sys.path.append(\"scripts\")\n",
    "\n",
    "import utils\n",
    "import distclassipy as dcpy\n",
    "\n",
    "cd = dcpy.Distance()"
   ]
  },
  {
   "cell_type": "code",
   "execution_count": 5,
   "id": "265d2ff3",
   "metadata": {
    "execution": {
     "iopub.execute_input": "2024-03-03T18:51:01.255955Z",
     "iopub.status.busy": "2024-03-03T18:51:01.255699Z",
     "iopub.status.idle": "2024-03-03T18:51:01.257720Z",
     "shell.execute_reply": "2024-03-03T18:51:01.257448Z",
     "shell.execute_reply.started": "2024-03-03T18:51:01.255937Z"
    }
   },
   "outputs": [],
   "source": [
    "import warnings\n",
    "\n",
    "warnings.filterwarnings('ignore')\n",
    "# Ignore the specific RuntimeWarning\n",
    "\n",
    "#warnings.filterwarnings(action='ignore', category=FutureWarning)\n",
    "#warnings.filterwarnings(action='ignore', category=UserWarning)"
   ]
  },
  {
   "cell_type": "code",
   "execution_count": 6,
   "id": "65a31dae-a482-479c-bcdf-1ca4d95badfc",
   "metadata": {
    "execution": {
     "iopub.execute_input": "2024-03-03T18:51:01.258157Z",
     "iopub.status.busy": "2024-03-03T18:51:01.258075Z",
     "iopub.status.idle": "2024-03-03T18:51:01.345053Z",
     "shell.execute_reply": "2024-03-03T18:51:01.344207Z",
     "shell.execute_reply.started": "2024-03-03T18:51:01.258145Z"
    }
   },
   "outputs": [],
   "source": [
    "# Load Data\n",
    "X_df_FULL = pd.read_csv(\"data/X_df.csv\", index_col=0)\n",
    "y_df_FULL = pd.read_csv(\"data/y_df.csv\", index_col=0)"
   ]
  },
  {
   "cell_type": "code",
   "execution_count": 7,
   "id": "ee43538c-8f9d-4bbb-953b-c4295407c846",
   "metadata": {
    "execution": {
     "iopub.execute_input": "2024-03-03T18:51:01.547667Z",
     "iopub.status.busy": "2024-03-03T18:51:01.546856Z",
     "iopub.status.idle": "2024-03-03T18:51:01.563188Z",
     "shell.execute_reply": "2024-03-03T18:51:01.562555Z",
     "shell.execute_reply.started": "2024-03-03T18:51:01.547628Z"
    }
   },
   "outputs": [
    {
     "data": {
      "text/plain": [
       "class\n",
       "SR       558\n",
       "DSCT     558\n",
       "CEP      558\n",
       "EW       558\n",
       "RR       558\n",
       "RSCVN    558\n",
       "BYDra    558\n",
       "RRc      558\n",
       "Mira     558\n",
       "EA       558\n",
       "Name: count, dtype: int64"
      ]
     },
     "execution_count": 7,
     "metadata": {},
     "output_type": "execute_result"
    }
   ],
   "source": [
    "y_df_FULL[\"class\"].value_counts()"
   ]
  },
  {
   "cell_type": "code",
   "execution_count": 12,
   "id": "f67c5d91-5e1b-4d79-aa35-49b58f7d1db9",
   "metadata": {
    "execution": {
     "iopub.execute_input": "2024-03-03T18:51:08.861968Z",
     "iopub.status.busy": "2024-03-03T18:51:08.861118Z",
     "iopub.status.idle": "2024-03-03T18:51:08.876468Z",
     "shell.execute_reply": "2024-03-03T18:51:08.875457Z",
     "shell.execute_reply.started": "2024-03-03T18:51:08.861933Z"
    }
   },
   "outputs": [
    {
     "name": "stdout",
     "output_type": "stream",
     "text": [
      "31\n"
     ]
    }
   ],
   "source": [
    "# Remove manually selected 'bad' features\n",
    "with open(os.path.join(\"results\", results_subfolder, \"drop_features.txt\")) as f:\n",
    "    bad_features = json.load(f)  # manually selected\n",
    "\n",
    "X_df_FULL = X_df_FULL.drop(bad_features, axis=1)\n",
    "\n",
    "print(X_df_FULL.shape[1])"
   ]
  },
  {
   "cell_type": "code",
   "execution_count": 9,
   "id": "3c663feb-b106-498d-b118-09752e7ce818",
   "metadata": {
    "execution": {
     "iopub.execute_input": "2024-03-03T18:51:03.327971Z",
     "iopub.status.busy": "2024-03-03T18:51:03.327052Z",
     "iopub.status.idle": "2024-03-03T18:51:03.335381Z",
     "shell.execute_reply": "2024-03-03T18:51:03.334554Z",
     "shell.execute_reply.started": "2024-03-03T18:51:03.327901Z"
    }
   },
   "outputs": [],
   "source": [
    "feats_top_plot = 15\n",
    "### For plotting only - how many features to plot in relative importance"
   ]
  },
  {
   "cell_type": "markdown",
   "id": "2d8f111e-0df8-4fa3-a52f-5c6d40514794",
   "metadata": {},
   "source": [
    "### Distance Based"
   ]
  },
  {
   "cell_type": "code",
   "execution_count": 10,
   "id": "ea616efe-d234-40b0-880e-526d4f17d779",
   "metadata": {
    "execution": {
     "iopub.execute_input": "2024-03-03T18:51:03.805675Z",
     "iopub.status.busy": "2024-03-03T18:51:03.805299Z",
     "iopub.status.idle": "2024-03-03T18:51:03.812882Z",
     "shell.execute_reply": "2024-03-03T18:51:03.812109Z",
     "shell.execute_reply.started": "2024-03-03T18:51:03.805652Z"
    }
   },
   "outputs": [],
   "source": [
    "all_metrics = [\n",
    "    \"euclidean\",\n",
    "    \"braycurtis\",\n",
    "    \"canberra\",\n",
    "    \"cityblock\",\n",
    "    \"chebyshev\",\n",
    "    cd.clark,\n",
    "    \"correlation\",\n",
    "    \"cosine\",\n",
    "    cd.hellinger,\n",
    "    cd.jaccard,\n",
    "    cd.lorentzian,\n",
    "    cd.marylandbridge,\n",
    "    cd.meehl,\n",
    "    cd.motyka,\n",
    "    cd.soergel,\n",
    "    cd.wave_hedges,\n",
    "    cd.kulczynski,\n",
    "    cd.add_chisq,\n",
    "]\n",
    "\n",
    "scoring = \"f1_macro\"\n",
    "feats_to_keep = X_df_FULL.columns"
   ]
  },
  {
   "cell_type": "markdown",
   "id": "4628a760",
   "metadata": {},
   "source": [
    "# Change classification in the next cell"
   ]
  },
  {
   "cell_type": "code",
   "execution_count": 11,
   "id": "6a6ba512-bafa-481b-8bb5-5e6971dd8f2a",
   "metadata": {
    "execution": {
     "iopub.execute_input": "2024-03-03T18:51:05.533502Z",
     "iopub.status.busy": "2024-03-03T18:51:05.532600Z",
     "iopub.status.idle": "2024-03-03T18:51:05.544836Z",
     "shell.execute_reply": "2024-03-03T18:51:05.543945Z",
     "shell.execute_reply.started": "2024-03-03T18:51:05.533469Z"
    }
   },
   "outputs": [],
   "source": [
    "with open(\"settings.txt\") as f:\n",
    "    settings_dict = json.load(f)\n",
    "np.random.seed(settings_dict[\"seed_choice\"])\n",
    "\n",
    "classification_letter = \"c\"\n",
    "classification_problem = settings_dict[\"classification_problem\"][classification_letter]\n",
    "classes_to_keep = settings_dict[\"classes_to_keep\"][classification_letter]\n",
    "results_subfolder = f\"{classification_letter}. {classification_problem}\"\n",
    "sns_dict = settings_dict[\"sns_dict\"]\n",
    "\n",
    "sns.set_theme(**sns_dict)"
   ]
  },
  {
   "cell_type": "code",
   "execution_count": 13,
   "id": "fa5d12e6-d9a6-49fc-824e-99211c3476e8",
   "metadata": {
    "execution": {
     "iopub.execute_input": "2024-03-03T18:51:18.364985Z",
     "iopub.status.busy": "2024-03-03T18:51:18.364616Z",
     "iopub.status.idle": "2024-03-03T18:51:18.372652Z",
     "shell.execute_reply": "2024-03-03T18:51:18.372123Z",
     "shell.execute_reply.started": "2024-03-03T18:51:18.364962Z"
    }
   },
   "outputs": [],
   "source": [
    "# Keep only current classes\n",
    "cl_keep_str = \"_\".join(classes_to_keep)\n",
    "\n",
    "y_df = y_df_FULL[y_df_FULL[\"class\"].isin(classes_to_keep)]\n",
    "X_df = X_df_FULL.loc[y_df.index]\n",
    "X = X_df.to_numpy()\n",
    "y = y_df.to_numpy().ravel()"
   ]
  },
  {
   "cell_type": "code",
   "execution_count": 14,
   "id": "8f44a271-d73e-4c93-9301-bff60ed5df5e",
   "metadata": {
    "execution": {
     "iopub.execute_input": "2024-03-03T18:52:05.535039Z",
     "iopub.status.busy": "2024-03-03T18:52:05.533759Z",
     "iopub.status.idle": "2024-03-03T18:52:24.402380Z",
     "shell.execute_reply": "2024-03-03T18:52:24.401915Z",
     "shell.execute_reply.started": "2024-03-03T18:52:05.534993Z"
    }
   },
   "outputs": [
    {
     "name": "stdout",
     "output_type": "stream",
     "text": [
      "Best parameters found:  {'calculate_1d_dist': True, 'calculate_kde': True, 'metric': 'canberra', 'scale_std': True}\n",
      "Best F1 score found:  0.7850870990672079\n"
     ]
    }
   ],
   "source": [
    "from sklearn.model_selection import cross_val_score\n",
    "from sklearn.model_selection import GridSearchCV\n",
    "\n",
    "# Define the parameter grid for DistanceMetricClassifier\n",
    "param_grid = {\n",
    "    'metric': all_metrics,\n",
    "    'scale_std': [True, False],\n",
    "    'calculate_kde': [True, False],\n",
    "    'calculate_1d_dist': [True, False]\n",
    "}\n",
    "\n",
    "# Initialize the classifier\n",
    "distance_metric_classifier = dcpy.DistanceMetricClassifier()\n",
    "\n",
    "# Initialize GridSearchCV\n",
    "grid_search = GridSearchCV(estimator=distance_metric_classifier, param_grid=param_grid, scoring='f1_macro', cv=5)\n",
    "\n",
    "# Fit GridSearchCV\n",
    "grid_search.fit(X, y)\n",
    "\n",
    "# Print the best parameters and the best score\n",
    "print(\"Best parameters found: \", grid_search.best_params_)\n",
    "print(\"Best F1 score found: \", grid_search.best_score_)\n"
   ]
  },
  {
   "cell_type": "code",
   "execution_count": 16,
   "id": "07d00fcd-ffff-44cd-9954-6760411883cf",
   "metadata": {
    "execution": {
     "iopub.execute_input": "2024-03-03T18:53:41.010089Z",
     "iopub.status.busy": "2024-03-03T18:53:41.009113Z",
     "iopub.status.idle": "2024-03-03T18:53:41.025979Z",
     "shell.execute_reply": "2024-03-03T18:53:41.022882Z",
     "shell.execute_reply.started": "2024-03-03T18:53:41.010056Z"
    }
   },
   "outputs": [
    {
     "data": {
      "text/plain": [
       "distclassipy.classifier.DistanceMetricClassifier"
      ]
     },
     "execution_count": 16,
     "metadata": {},
     "output_type": "execute_result"
    }
   ],
   "source": [
    "dcpy.DistanceMetricClassifier("
   ]
  },
  {
   "cell_type": "code",
   "execution_count": null,
   "id": "d41f0841",
   "metadata": {},
   "outputs": [],
   "source": [
    "from sklearn.model_selection import GridSearchCV\n",
    "\n",
    "# Confidence calculation\n",
    "classification_letter = \"b\"\n",
    "\n",
    "\n",
    "X_train, X_test, y_train, y_test = train_test_split(\n",
    "    X_sfs, y, test_size=0.33, stratify=y, random_state=settings_dict[\"seed_choice\"]\n",
    ")\n",
    "\n",
    "lcdc = dcpy.DistanceMetricClassifier()\n",
    "\n",
    "parameters = {\"metric\":all_metrics, \"scale_std\":[\"True\", \"False\"],\n",
    "              \"calculate_kde\":[\"True\", \"False\"], \n",
    "              \"calculate_1d_dist\":[\"True\", \"False\"]}\n",
    "\n",
    "clf = GridSearchCV(lcdc, parameters, scoring='f1_macro')\n",
    "clf.fit(X_train, y_train)\n",
    "\n"
   ]
  },
  {
   "cell_type": "code",
   "execution_count": 34,
   "id": "6f5760f7",
   "metadata": {},
   "outputs": [],
   "source": [
    "pd.DataFrame(clf.cv_results_).sort_values(\"mean_test_score\", ascending=False).to_csv(f\"gridsearch_{classification_letter}.csv\")"
   ]
  },
  {
   "cell_type": "code",
   "execution_count": null,
   "id": "385847c8",
   "metadata": {},
   "outputs": [],
   "source": []
  }
 ],
 "metadata": {
  "kernelspec": {
   "display_name": "Python 3 (ipykernel)",
   "language": "python",
   "name": "python3"
  },
  "language_info": {
   "codemirror_mode": {
    "name": "ipython",
    "version": 3
   },
   "file_extension": ".py",
   "mimetype": "text/x-python",
   "name": "python",
   "nbconvert_exporter": "python",
   "pygments_lexer": "ipython3",
   "version": "3.12.2"
  }
 },
 "nbformat": 4,
 "nbformat_minor": 5
}
