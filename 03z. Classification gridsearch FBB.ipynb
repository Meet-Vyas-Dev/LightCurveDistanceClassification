{
 "cells": [
  {
   "cell_type": "code",
   "execution_count": 1,
   "id": "f379d948",
   "metadata": {
    "execution": {
     "iopub.execute_input": "2024-03-05T12:34:55.840846Z",
     "iopub.status.busy": "2024-03-05T12:34:55.840377Z",
     "iopub.status.idle": "2024-03-05T12:34:55.845650Z",
     "shell.execute_reply": "2024-03-05T12:34:55.844899Z",
     "shell.execute_reply.started": "2024-03-05T12:34:55.840816Z"
    }
   },
   "outputs": [],
   "source": [
    "#!pip install threadpoolctl==3.1.0"
   ]
  },
  {
   "cell_type": "code",
   "execution_count": 2,
   "id": "83a83ef9",
   "metadata": {
    "execution": {
     "iopub.execute_input": "2024-03-05T12:34:56.478804Z",
     "iopub.status.busy": "2024-03-05T12:34:56.478046Z",
     "iopub.status.idle": "2024-03-05T12:34:56.485967Z",
     "shell.execute_reply": "2024-03-05T12:34:56.484678Z",
     "shell.execute_reply.started": "2024-03-05T12:34:56.478759Z"
    }
   },
   "outputs": [],
   "source": [
    "#!pip install mlxtend"
   ]
  },
  {
   "cell_type": "code",
   "execution_count": 3,
   "id": "6fd60258-b88d-42bc-adc8-7d760c50cb58",
   "metadata": {
    "execution": {
     "iopub.execute_input": "2024-03-05T12:34:57.308896Z",
     "iopub.status.busy": "2024-03-05T12:34:57.307986Z",
     "iopub.status.idle": "2024-03-05T12:34:59.257036Z",
     "shell.execute_reply": "2024-03-05T12:34:59.256706Z",
     "shell.execute_reply.started": "2024-03-05T12:34:57.308832Z"
    }
   },
   "outputs": [],
   "source": [
    "import numpy as np\n",
    "import pandas as pd\n",
    "from tqdm.auto import tqdm\n",
    "import matplotlib.pyplot as plt\n",
    "import seaborn as sns\n",
    "from mlxtend.feature_selection import (\n",
    "    SequentialFeatureSelector,\n",
    ")\n",
    "from mlxtend.evaluate import feature_importance_permutation\n",
    "from mlxtend.plotting import plot_sequential_feature_selection as plot_sfs\n",
    "from sklearn.utils.estimator_checks import check_estimator\n",
    "from sklearn.model_selection import cross_val_predict, train_test_split\n",
    "from sklearn.metrics import accuracy_score, f1_score, matthews_corrcoef\n",
    "import matplotlib.ticker as ticker\n",
    "import os\n",
    "from pathlib import Path\n",
    "import json\n",
    "\n",
    "import sys\n",
    "\n",
    "sys.path.append(\"scripts\")\n",
    "\n",
    "import utils\n",
    "import distclassipy as dcpy\n",
    "\n",
    "cd = dcpy.Distance()"
   ]
  },
  {
   "cell_type": "code",
   "execution_count": 4,
   "id": "265d2ff3",
   "metadata": {
    "execution": {
     "iopub.execute_input": "2024-03-05T12:34:59.258208Z",
     "iopub.status.busy": "2024-03-05T12:34:59.257901Z",
     "iopub.status.idle": "2024-03-05T12:34:59.261761Z",
     "shell.execute_reply": "2024-03-05T12:34:59.261188Z",
     "shell.execute_reply.started": "2024-03-05T12:34:59.258195Z"
    }
   },
   "outputs": [],
   "source": [
    "import warnings\n",
    "\n",
    "warnings.filterwarnings('ignore')\n",
    "# Ignore the specific RuntimeWarning\n",
    "\n",
    "#warnings.filterwarnings(action='ignore', category=FutureWarning)\n",
    "#warnings.filterwarnings(action='ignore', category=UserWarning)"
   ]
  },
  {
   "cell_type": "code",
   "execution_count": 5,
   "id": "65a31dae-a482-479c-bcdf-1ca4d95badfc",
   "metadata": {
    "execution": {
     "iopub.execute_input": "2024-03-05T12:34:59.263767Z",
     "iopub.status.busy": "2024-03-05T12:34:59.263509Z",
     "iopub.status.idle": "2024-03-05T12:34:59.340429Z",
     "shell.execute_reply": "2024-03-05T12:34:59.340104Z",
     "shell.execute_reply.started": "2024-03-05T12:34:59.263751Z"
    }
   },
   "outputs": [],
   "source": [
    "# Load Data\n",
    "X_df_FULL = pd.read_csv(\"data/X_df.csv\", index_col=0)\n",
    "y_df_FULL = pd.read_csv(\"data/y_df.csv\", index_col=0)"
   ]
  },
  {
   "cell_type": "code",
   "execution_count": 6,
   "id": "ee43538c-8f9d-4bbb-953b-c4295407c846",
   "metadata": {
    "execution": {
     "iopub.execute_input": "2024-03-05T12:34:59.341486Z",
     "iopub.status.busy": "2024-03-05T12:34:59.341354Z",
     "iopub.status.idle": "2024-03-05T12:34:59.350540Z",
     "shell.execute_reply": "2024-03-05T12:34:59.349683Z",
     "shell.execute_reply.started": "2024-03-05T12:34:59.341475Z"
    }
   },
   "outputs": [
    {
     "data": {
      "text/plain": [
       "class\n",
       "SR       558\n",
       "DSCT     558\n",
       "CEP      558\n",
       "EW       558\n",
       "RR       558\n",
       "RSCVN    558\n",
       "BYDra    558\n",
       "RRc      558\n",
       "Mira     558\n",
       "EA       558\n",
       "Name: count, dtype: int64"
      ]
     },
     "execution_count": 6,
     "metadata": {},
     "output_type": "execute_result"
    }
   ],
   "source": [
    "y_df_FULL[\"class\"].value_counts()"
   ]
  },
  {
   "cell_type": "code",
   "execution_count": 11,
   "id": "f67c5d91-5e1b-4d79-aa35-49b58f7d1db9",
   "metadata": {
    "execution": {
     "iopub.execute_input": "2024-03-05T12:35:07.114497Z",
     "iopub.status.busy": "2024-03-05T12:35:07.111485Z",
     "iopub.status.idle": "2024-03-05T12:35:07.131427Z",
     "shell.execute_reply": "2024-03-05T12:35:07.129829Z",
     "shell.execute_reply.started": "2024-03-05T12:35:07.114421Z"
    }
   },
   "outputs": [
    {
     "name": "stdout",
     "output_type": "stream",
     "text": [
      "31\n"
     ]
    }
   ],
   "source": [
    "# Remove manually selected 'bad' features\n",
    "with open(os.path.join(\"results\", results_subfolder, \"drop_features.txt\")) as f:\n",
    "    bad_features = json.load(f)  # manually selected\n",
    "\n",
    "X_df_FULL = X_df_FULL.drop(bad_features, axis=1)\n",
    "\n",
    "print(X_df_FULL.shape[1])"
   ]
  },
  {
   "cell_type": "code",
   "execution_count": 8,
   "id": "3c663feb-b106-498d-b118-09752e7ce818",
   "metadata": {
    "execution": {
     "iopub.execute_input": "2024-03-05T12:35:03.305929Z",
     "iopub.status.busy": "2024-03-05T12:35:03.305238Z",
     "iopub.status.idle": "2024-03-05T12:35:03.312621Z",
     "shell.execute_reply": "2024-03-05T12:35:03.311483Z",
     "shell.execute_reply.started": "2024-03-05T12:35:03.305896Z"
    }
   },
   "outputs": [],
   "source": [
    "feats_top_plot = 15\n",
    "### For plotting only - how many features to plot in relative importance"
   ]
  },
  {
   "cell_type": "markdown",
   "id": "2d8f111e-0df8-4fa3-a52f-5c6d40514794",
   "metadata": {},
   "source": [
    "### Distance Based"
   ]
  },
  {
   "cell_type": "code",
   "execution_count": 9,
   "id": "ea616efe-d234-40b0-880e-526d4f17d779",
   "metadata": {
    "execution": {
     "iopub.execute_input": "2024-03-05T12:35:03.777773Z",
     "iopub.status.busy": "2024-03-05T12:35:03.777382Z",
     "iopub.status.idle": "2024-03-05T12:35:03.784475Z",
     "shell.execute_reply": "2024-03-05T12:35:03.783793Z",
     "shell.execute_reply.started": "2024-03-05T12:35:03.777746Z"
    }
   },
   "outputs": [],
   "source": [
    "all_metrics = [\n",
    "    \"euclidean\",\n",
    "    \"braycurtis\",\n",
    "    \"canberra\",\n",
    "    \"cityblock\",\n",
    "    \"chebyshev\",\n",
    "    cd.clark,\n",
    "    \"correlation\",\n",
    "    \"cosine\",\n",
    "    cd.hellinger,\n",
    "    cd.jaccard,\n",
    "    cd.lorentzian,\n",
    "    cd.marylandbridge,\n",
    "    cd.meehl,\n",
    "    cd.motyka,\n",
    "    cd.soergel,\n",
    "    cd.wave_hedges,\n",
    "    cd.kulczynski,\n",
    "    cd.add_chisq,\n",
    "]\n",
    "\n",
    "scoring = \"f1_macro\"\n",
    "feats_to_keep = X_df_FULL.columns"
   ]
  },
  {
   "cell_type": "markdown",
   "id": "4628a760",
   "metadata": {},
   "source": [
    "# Change classification in the next cell"
   ]
  },
  {
   "cell_type": "code",
   "execution_count": 10,
   "id": "6a6ba512-bafa-481b-8bb5-5e6971dd8f2a",
   "metadata": {
    "execution": {
     "iopub.execute_input": "2024-03-05T12:35:05.065365Z",
     "iopub.status.busy": "2024-03-05T12:35:05.064716Z",
     "iopub.status.idle": "2024-03-05T12:35:05.076043Z",
     "shell.execute_reply": "2024-03-05T12:35:05.075177Z",
     "shell.execute_reply.started": "2024-03-05T12:35:05.065334Z"
    }
   },
   "outputs": [],
   "source": [
    "with open(\"settings.txt\") as f:\n",
    "    settings_dict = json.load(f)\n",
    "np.random.seed(settings_dict[\"seed_choice\"])\n",
    "\n",
    "classification_letter = \"c\"\n",
    "classification_problem = settings_dict[\"classification_problem\"][classification_letter]\n",
    "classes_to_keep = settings_dict[\"classes_to_keep\"][classification_letter]\n",
    "results_subfolder = f\"{classification_letter}. {classification_problem}\"\n",
    "sns_dict = settings_dict[\"sns_dict\"]\n",
    "\n",
    "sns.set_theme(**sns_dict)"
   ]
  },
  {
   "cell_type": "code",
   "execution_count": 12,
   "id": "fa5d12e6-d9a6-49fc-824e-99211c3476e8",
   "metadata": {
    "execution": {
     "iopub.execute_input": "2024-03-05T12:35:10.177590Z",
     "iopub.status.busy": "2024-03-05T12:35:10.176571Z",
     "iopub.status.idle": "2024-03-05T12:35:10.189324Z",
     "shell.execute_reply": "2024-03-05T12:35:10.188585Z",
     "shell.execute_reply.started": "2024-03-05T12:35:10.177550Z"
    }
   },
   "outputs": [],
   "source": [
    "# Keep only current classes\n",
    "cl_keep_str = \"_\".join(classes_to_keep)\n",
    "\n",
    "y_df = y_df_FULL[y_df_FULL[\"class\"].isin(classes_to_keep)]\n",
    "X_df = X_df_FULL.loc[y_df.index]\n",
    "X = X_df.to_numpy()\n",
    "y = y_df.to_numpy().ravel()"
   ]
  },
  {
   "cell_type": "code",
   "execution_count": 13,
   "id": "8f44a271-d73e-4c93-9301-bff60ed5df5e",
   "metadata": {
    "execution": {
     "iopub.execute_input": "2024-03-05T12:35:11.006177Z",
     "iopub.status.busy": "2024-03-05T12:35:11.005324Z",
     "iopub.status.idle": "2024-03-05T12:35:44.147177Z",
     "shell.execute_reply": "2024-03-05T12:35:44.146867Z",
     "shell.execute_reply.started": "2024-03-05T12:35:11.006122Z"
    }
   },
   "outputs": [
    {
     "name": "stdout",
     "output_type": "stream",
     "text": [
      "Best parameters found:  {'central_stat': 'median', 'dispersion_stat': 'std', 'metric': 'canberra', 'scale': True}\n",
      "Best F1 score found:  0.7850870990672079\n"
     ]
    }
   ],
   "source": [
    "from sklearn.model_selection import cross_val_score\n",
    "from sklearn.model_selection import GridSearchCV\n",
    "\n",
    "# Define the parameter grid for DistanceMetricClassifier\n",
    "param_grid = {\n",
    "    'metric': all_metrics,\n",
    "    'scale': [True, False],\n",
    "    'central_stat': [\"mean\", \"median\"],\n",
    "    'dispersion_stat': [\"std\", \"iqr\"]\n",
    "}\n",
    "\n",
    "# Initialize the classifier\n",
    "distance_metric_classifier = dcpy.DistanceMetricClassifier()\n",
    "\n",
    "# Initialize GridSearchCV\n",
    "grid_search = GridSearchCV(estimator=distance_metric_classifier, param_grid=param_grid, scoring='f1_macro', cv=5)\n",
    "\n",
    "# Fit GridSearchCV\n",
    "grid_search.fit(X, y)\n",
    "\n",
    "# Print the best parameters and the best score\n",
    "print(\"Best parameters found: \", grid_search.best_params_)\n",
    "print(\"Best F1 score found: \", grid_search.best_score_)\n"
   ]
  },
  {
   "cell_type": "code",
   "execution_count": 15,
   "id": "d41f0841",
   "metadata": {
    "execution": {
     "iopub.execute_input": "2024-03-05T12:35:49.271844Z",
     "iopub.status.busy": "2024-03-05T12:35:49.271063Z",
     "iopub.status.idle": "2024-03-05T12:35:49.282306Z",
     "shell.execute_reply": "2024-03-05T12:35:49.281402Z",
     "shell.execute_reply.started": "2024-03-05T12:35:49.271796Z"
    }
   },
   "outputs": [],
   "source": [
    "# from sklearn.model_selection import GridSearchCV\n",
    "\n",
    "# # Confidence calculation\n",
    "# classification_letter = \"b\"\n",
    "\n",
    "\n",
    "# X_train, X_test, y_train, y_test = train_test_split(\n",
    "#     X_sfs, y, test_size=0.33, stratify=y, random_state=settings_dict[\"seed_choice\"]\n",
    "# )\n",
    "\n",
    "# lcdc = dcpy.DistanceMetricClassifier()\n",
    "\n",
    "# parameters = {\"metric\":all_metrics, \"scale_std\":[\"True\", \"False\"],\n",
    "#               \"calculate_kde\":[\"True\", \"False\"], \n",
    "#               \"calculate_1d_dist\":[\"True\", \"False\"]}\n",
    "\n",
    "# clf = GridSearchCV(lcdc, parameters, scoring='f1_macro')\n",
    "# clf.fit(X_train, y_train)\n",
    "\n"
   ]
  },
  {
   "cell_type": "code",
   "execution_count": 16,
   "id": "6f5760f7",
   "metadata": {
    "execution": {
     "iopub.execute_input": "2024-03-05T12:35:51.031364Z",
     "iopub.status.busy": "2024-03-05T12:35:51.030772Z",
     "iopub.status.idle": "2024-03-05T12:35:51.037924Z",
     "shell.execute_reply": "2024-03-05T12:35:51.036918Z",
     "shell.execute_reply.started": "2024-03-05T12:35:51.031334Z"
    }
   },
   "outputs": [],
   "source": [
    "# pd.DataFrame(clf.cv_results_).sort_values(\"mean_test_score\", ascending=False).to_csv(f\"gridsearch_{classification_letter}.csv\")"
   ]
  }
 ],
 "metadata": {
  "kernelspec": {
   "display_name": "Python 3 (ipykernel)",
   "language": "python",
   "name": "python3"
  },
  "language_info": {
   "codemirror_mode": {
    "name": "ipython",
    "version": 3
   },
   "file_extension": ".py",
   "mimetype": "text/x-python",
   "name": "python",
   "nbconvert_exporter": "python",
   "pygments_lexer": "ipython3",
   "version": "3.12.2"
  }
 },
 "nbformat": 4,
 "nbformat_minor": 5
}
