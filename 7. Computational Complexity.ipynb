{
 "cells": [
  {
   "cell_type": "code",
   "execution_count": 196,
   "id": "84fd7d4d-17d7-4f39-939e-1eaaae4e67fc",
   "metadata": {
    "execution": {
     "iopub.execute_input": "2024-02-29T10:15:23.003942Z",
     "iopub.status.busy": "2024-02-29T10:15:23.003693Z",
     "iopub.status.idle": "2024-02-29T10:15:24.167968Z",
     "shell.execute_reply": "2024-02-29T10:15:24.167669Z",
     "shell.execute_reply.started": "2024-02-29T10:15:23.003921Z"
    },
    "tags": []
   },
   "outputs": [],
   "source": [
    "import numpy as np\n",
    "from sklearn.datasets import make_classification\n",
    "from sklearn.model_selection import train_test_split\n",
    "from sklearn.neighbors import KNeighborsClassifier\n",
    "from sklearn.ensemble import RandomForestClassifier\n",
    "import time\n",
    "import matplotlib.pyplot as plt\n",
    "import seaborn as sns\n",
    "from tqdm.auto import tqdm\n",
    "\n",
    "import os\n",
    "from pathlib import Path\n",
    "import pickle\n",
    "import json\n",
    "\n",
    "with open(\"settings.txt\") as f:\n",
    "    settings_dict = json.load(f)\n",
    "np.random.seed(settings_dict[\"seed_choice\"])\n",
    "sns_dict = settings_dict[\"sns_dict\"]\n",
    "\n",
    "sns.set_theme(**sns_dict)\n",
    "\n",
    "import sys\n",
    "\n",
    "sys.path.append(\"scripts\")\n",
    "\n",
    "import utils\n",
    "import distclassipy as dcpy\n",
    "\n",
    "cd = dcpy.Distance()\n",
    "\n",
    "from matplotlib.colors import LogNorm\n",
    "from matplotlib.ticker import ScalarFormatter\n",
    "from matplotlib.ticker import FuncFormatter\n"
   ]
  },
  {
   "cell_type": "code",
   "execution_count": 4,
   "id": "d194cfe6",
   "metadata": {
    "execution": {
     "iopub.execute_input": "2024-02-29T10:15:24.169063Z",
     "iopub.status.busy": "2024-02-29T10:15:24.168939Z",
     "iopub.status.idle": "2024-02-29T10:15:24.255786Z",
     "shell.execute_reply": "2024-02-29T10:15:24.255405Z",
     "shell.execute_reply.started": "2024-02-29T10:15:24.169054Z"
    }
   },
   "outputs": [
    {
     "name": "stdout",
     "output_type": "stream",
     "text": [
      "Collecting py-cpuinfo\n",
      "  Downloading py_cpuinfo-9.0.0-py3-none-any.whl (22 kB)\n",
      "Installing collected packages: py-cpuinfo\n",
      "Successfully installed py-cpuinfo-9.0.0\n",
      "Hardware Specifications:\n",
      "Processor: i386\n",
      "CPU: Apple M2\n",
      "Physical cores: 8\n",
      "Total cores: 8\n",
      "RAM: 24 GB\n",
      "Operating System: ('Darwin', '21.6.0') (Darwin Kernel Version 21.6.0: Mon Aug 22 20:20:07 PDT 2022; root:xnu-8020.140.49~2/RELEASE_ARM64_T8110)\n",
      "Machine: x86_64\n",
      "Platform: macOS-10.16-x86_64-i386-64bit\n",
      "\n",
      "Python Libraries and Versions:\n",
      "Python Version: 3.9.12\n",
      "numpy 1.26.4\n",
      "pandas 2.2.1\n",
      "sklearn 1.4.1.post1\n",
      "matplotlib 3.5.1\n",
      "seaborn 0.11.2\n",
      "tqdm 4.64.0\n",
      "json 2.0.9\n"
     ]
    }
   ],
   "source": [
    "import platform\n",
    "import psutil\n",
    "\n",
    "#!pip install py-cpuinfo\n",
    "import cpuinfo\n",
    "\n",
    "print(\"Hardware Specifications:\")\n",
    "print(f\"Processor: {platform.processor()}\")\n",
    "print(f\"CPU: {cpuinfo.get_cpu_info()['brand_raw']}\")\n",
    "print(f\"Physical cores: {psutil.cpu_count(logical=False)}\")\n",
    "print(f\"Total cores: {psutil.cpu_count(logical=True)}\")\n",
    "print(f\"RAM: {str(round(psutil.virtual_memory().total / (1024.0 **3)))} GB\")\n",
    "print(\n",
    "    f\"Operating System: {platform.system(), platform.release()} ({platform.version()})\"\n",
    ")\n",
    "print(f\"Machine: {platform.machine()}\")\n",
    "print(f\"Platform: {platform.platform()}\")\n",
    "\n",
    "print(\"\\nPython Libraries and Versions:\")\n",
    "print(\"Python Version:\", platform.python_version())\n",
    "libraries = [\n",
    "    # \"distclassipy\", - https://stackoverflow.com/questions/458550/standard-way-to-embed-version-into-python-package\n",
    "    \"numpy\",\n",
    "    \"pandas\",\n",
    "    \"sklearn\",\n",
    "    \"matplotlib\",\n",
    "    \"seaborn\",\n",
    "    \"tqdm\",\n",
    "    \"json\",\n",
    "]\n",
    "for lib in libraries:\n",
    "    if lib in sys.modules:\n",
    "        print(lib, sys.modules[lib].__version__)\n",
    "    else:\n",
    "        print(lib, \"is not installed\")"
   ]
  },
  {
   "cell_type": "markdown",
   "id": "922b4615-4154-4145-8d9b-f9f144a88dbc",
   "metadata": {},
   "source": [
    "### 1. Compare LCDC Canberra, Clark with RFC - 5 loops"
   ]
  },
  {
   "cell_type": "code",
   "execution_count": 5,
   "id": "ce6f5c80-6bed-4e1d-8966-e351b5ea405b",
   "metadata": {
    "execution": {
     "iopub.execute_input": "2023-10-16T20:16:06.822297Z",
     "iopub.status.busy": "2023-10-16T20:16:06.822110Z",
     "iopub.status.idle": "2023-10-16T20:16:06.825365Z",
     "shell.execute_reply": "2023-10-16T20:16:06.825025Z",
     "shell.execute_reply.started": "2023-10-16T20:16:06.822287Z"
    },
    "tags": []
   },
   "outputs": [],
   "source": [
    "# Lists to store computation times for different scenarios\n",
    "lcdc_canberra_times = []\n",
    "lcdc_clark_times = []\n",
    "rfc_times = []\n",
    "\n",
    "lcdc_canberra_std_times = []\n",
    "lcdc_clark_std_times = []\n",
    "rfc_std_times = []\n",
    "\n",
    "\n",
    "# Vary dataset sizes and feature dimensions\n",
    "dataset_sizes = [100, 500, 1000, 5000, 10000]\n",
    "feature_dimensions = [10, 50, 100, 500]"
   ]
  },
  {
   "cell_type": "code",
   "execution_count": 6,
   "id": "947ef51d-b4dc-42c5-a0a8-aab5e4fa05b9",
   "metadata": {
    "execution": {
     "iopub.execute_input": "2023-10-16T20:02:58.599334Z",
     "iopub.status.busy": "2023-10-16T20:02:58.598478Z",
     "iopub.status.idle": "2023-10-16T20:05:38.554913Z",
     "shell.execute_reply": "2023-10-16T20:05:38.554451Z",
     "shell.execute_reply.started": "2023-10-16T20:02:58.599288Z"
    },
    "tags": []
   },
   "outputs": [
    {
     "data": {
      "application/vnd.jupyter.widget-view+json": {
       "model_id": "83d33fe02f564d6aacd367609668e609",
       "version_major": 2,
       "version_minor": 0
      },
      "text/plain": [
       "dataset size:   0%|          | 0/5 [00:00<?, ?it/s]"
      ]
     },
     "metadata": {},
     "output_type": "display_data"
    },
    {
     "data": {
      "application/vnd.jupyter.widget-view+json": {
       "model_id": "",
       "version_major": 2,
       "version_minor": 0
      },
      "text/plain": [
       "num feats:   0%|          | 0/4 [00:00<?, ?it/s]"
      ]
     },
     "metadata": {},
     "output_type": "display_data"
    },
    {
     "data": {
      "application/vnd.jupyter.widget-view+json": {
       "model_id": "",
       "version_major": 2,
       "version_minor": 0
      },
      "text/plain": [
       "run number:   0%|          | 0/5 [00:00<?, ?it/s]"
      ]
     },
     "metadata": {},
     "output_type": "display_data"
    },
    {
     "data": {
      "application/vnd.jupyter.widget-view+json": {
       "model_id": "",
       "version_major": 2,
       "version_minor": 0
      },
      "text/plain": [
       "run number:   0%|          | 0/5 [00:00<?, ?it/s]"
      ]
     },
     "metadata": {},
     "output_type": "display_data"
    },
    {
     "data": {
      "application/vnd.jupyter.widget-view+json": {
       "model_id": "",
       "version_major": 2,
       "version_minor": 0
      },
      "text/plain": [
       "run number:   0%|          | 0/5 [00:00<?, ?it/s]"
      ]
     },
     "metadata": {},
     "output_type": "display_data"
    },
    {
     "data": {
      "application/vnd.jupyter.widget-view+json": {
       "model_id": "",
       "version_major": 2,
       "version_minor": 0
      },
      "text/plain": [
       "run number:   0%|          | 0/5 [00:00<?, ?it/s]"
      ]
     },
     "metadata": {},
     "output_type": "display_data"
    },
    {
     "data": {
      "application/vnd.jupyter.widget-view+json": {
       "model_id": "",
       "version_major": 2,
       "version_minor": 0
      },
      "text/plain": [
       "num feats:   0%|          | 0/4 [00:00<?, ?it/s]"
      ]
     },
     "metadata": {},
     "output_type": "display_data"
    },
    {
     "data": {
      "application/vnd.jupyter.widget-view+json": {
       "model_id": "",
       "version_major": 2,
       "version_minor": 0
      },
      "text/plain": [
       "run number:   0%|          | 0/5 [00:00<?, ?it/s]"
      ]
     },
     "metadata": {},
     "output_type": "display_data"
    },
    {
     "data": {
      "application/vnd.jupyter.widget-view+json": {
       "model_id": "",
       "version_major": 2,
       "version_minor": 0
      },
      "text/plain": [
       "run number:   0%|          | 0/5 [00:00<?, ?it/s]"
      ]
     },
     "metadata": {},
     "output_type": "display_data"
    },
    {
     "data": {
      "application/vnd.jupyter.widget-view+json": {
       "model_id": "",
       "version_major": 2,
       "version_minor": 0
      },
      "text/plain": [
       "run number:   0%|          | 0/5 [00:00<?, ?it/s]"
      ]
     },
     "metadata": {},
     "output_type": "display_data"
    },
    {
     "data": {
      "application/vnd.jupyter.widget-view+json": {
       "model_id": "",
       "version_major": 2,
       "version_minor": 0
      },
      "text/plain": [
       "run number:   0%|          | 0/5 [00:00<?, ?it/s]"
      ]
     },
     "metadata": {},
     "output_type": "display_data"
    },
    {
     "data": {
      "application/vnd.jupyter.widget-view+json": {
       "model_id": "",
       "version_major": 2,
       "version_minor": 0
      },
      "text/plain": [
       "num feats:   0%|          | 0/4 [00:00<?, ?it/s]"
      ]
     },
     "metadata": {},
     "output_type": "display_data"
    },
    {
     "data": {
      "application/vnd.jupyter.widget-view+json": {
       "model_id": "",
       "version_major": 2,
       "version_minor": 0
      },
      "text/plain": [
       "run number:   0%|          | 0/5 [00:00<?, ?it/s]"
      ]
     },
     "metadata": {},
     "output_type": "display_data"
    },
    {
     "data": {
      "application/vnd.jupyter.widget-view+json": {
       "model_id": "",
       "version_major": 2,
       "version_minor": 0
      },
      "text/plain": [
       "run number:   0%|          | 0/5 [00:00<?, ?it/s]"
      ]
     },
     "metadata": {},
     "output_type": "display_data"
    },
    {
     "data": {
      "application/vnd.jupyter.widget-view+json": {
       "model_id": "",
       "version_major": 2,
       "version_minor": 0
      },
      "text/plain": [
       "run number:   0%|          | 0/5 [00:00<?, ?it/s]"
      ]
     },
     "metadata": {},
     "output_type": "display_data"
    },
    {
     "data": {
      "application/vnd.jupyter.widget-view+json": {
       "model_id": "",
       "version_major": 2,
       "version_minor": 0
      },
      "text/plain": [
       "run number:   0%|          | 0/5 [00:00<?, ?it/s]"
      ]
     },
     "metadata": {},
     "output_type": "display_data"
    },
    {
     "data": {
      "application/vnd.jupyter.widget-view+json": {
       "model_id": "",
       "version_major": 2,
       "version_minor": 0
      },
      "text/plain": [
       "num feats:   0%|          | 0/4 [00:00<?, ?it/s]"
      ]
     },
     "metadata": {},
     "output_type": "display_data"
    },
    {
     "data": {
      "application/vnd.jupyter.widget-view+json": {
       "model_id": "",
       "version_major": 2,
       "version_minor": 0
      },
      "text/plain": [
       "run number:   0%|          | 0/5 [00:00<?, ?it/s]"
      ]
     },
     "metadata": {},
     "output_type": "display_data"
    },
    {
     "data": {
      "application/vnd.jupyter.widget-view+json": {
       "model_id": "",
       "version_major": 2,
       "version_minor": 0
      },
      "text/plain": [
       "run number:   0%|          | 0/5 [00:00<?, ?it/s]"
      ]
     },
     "metadata": {},
     "output_type": "display_data"
    },
    {
     "data": {
      "application/vnd.jupyter.widget-view+json": {
       "model_id": "",
       "version_major": 2,
       "version_minor": 0
      },
      "text/plain": [
       "run number:   0%|          | 0/5 [00:00<?, ?it/s]"
      ]
     },
     "metadata": {},
     "output_type": "display_data"
    },
    {
     "data": {
      "application/vnd.jupyter.widget-view+json": {
       "model_id": "",
       "version_major": 2,
       "version_minor": 0
      },
      "text/plain": [
       "run number:   0%|          | 0/5 [00:00<?, ?it/s]"
      ]
     },
     "metadata": {},
     "output_type": "display_data"
    },
    {
     "data": {
      "application/vnd.jupyter.widget-view+json": {
       "model_id": "",
       "version_major": 2,
       "version_minor": 0
      },
      "text/plain": [
       "num feats:   0%|          | 0/4 [00:00<?, ?it/s]"
      ]
     },
     "metadata": {},
     "output_type": "display_data"
    },
    {
     "data": {
      "application/vnd.jupyter.widget-view+json": {
       "model_id": "",
       "version_major": 2,
       "version_minor": 0
      },
      "text/plain": [
       "run number:   0%|          | 0/5 [00:00<?, ?it/s]"
      ]
     },
     "metadata": {},
     "output_type": "display_data"
    },
    {
     "data": {
      "application/vnd.jupyter.widget-view+json": {
       "model_id": "",
       "version_major": 2,
       "version_minor": 0
      },
      "text/plain": [
       "run number:   0%|          | 0/5 [00:00<?, ?it/s]"
      ]
     },
     "metadata": {},
     "output_type": "display_data"
    },
    {
     "data": {
      "application/vnd.jupyter.widget-view+json": {
       "model_id": "",
       "version_major": 2,
       "version_minor": 0
      },
      "text/plain": [
       "run number:   0%|          | 0/5 [00:00<?, ?it/s]"
      ]
     },
     "metadata": {},
     "output_type": "display_data"
    },
    {
     "data": {
      "application/vnd.jupyter.widget-view+json": {
       "model_id": "",
       "version_major": 2,
       "version_minor": 0
      },
      "text/plain": [
       "run number:   0%|          | 0/5 [00:00<?, ?it/s]"
      ]
     },
     "metadata": {},
     "output_type": "display_data"
    }
   ],
   "source": [
    "for n_samples in tqdm(dataset_sizes, position=0, desc=\"dataset size\"):\n",
    "    for n_features in tqdm(\n",
    "        feature_dimensions, position=1, desc=\"num feats\", leave=False\n",
    "    ):\n",
    "        # Generate synthetic data\n",
    "        X, y = make_classification(\n",
    "            n_samples=n_samples, n_features=n_features, random_state=42\n",
    "        )\n",
    "        X_train, X_test, y_train, y_test = train_test_split(\n",
    "            X, y, test_size=0.3, random_state=42\n",
    "        )\n",
    "\n",
    "        # Initialize lcdc and RFC models\n",
    "        lcdc_canberra = dcpy.DistanceMetricClassifier(\n",
    "            metric=\"canberra\",\n",
    "            scale_std=True,\n",
    "            calculate_kde=False,\n",
    "            calculate_1d_dist=False,\n",
    "        )\n",
    "\n",
    "        lcdc_clark = dcpy.DistanceMetricClassifier(\n",
    "            metric=cd.clark,\n",
    "            scale_std=True,\n",
    "            calculate_kde=False,\n",
    "            calculate_1d_dist=False,\n",
    "        )\n",
    "\n",
    "        rfc = RandomForestClassifier(n_estimators=100, random_state=42)\n",
    "\n",
    "        temp_time_canberra = []\n",
    "        temp_time_clark = []\n",
    "        temp_time_rfc = []\n",
    "\n",
    "        # Run loop 5 times for mean/std times\n",
    "        for i in tqdm(range(5), position=2, desc=\"run number\", leave=False):\n",
    "            # Measure computation time for lcdc_canberra\n",
    "            start_time = time.process_time()\n",
    "            lcdc_canberra.fit(X_train, y_train)\n",
    "            lcdc_canberra_pred = lcdc_canberra.predict(X_test)\n",
    "            lcdc_canberra_time = time.process_time() - start_time\n",
    "            temp_time_canberra.append(lcdc_canberra_time)\n",
    "\n",
    "            # Measure computation time for lcdc_clark\n",
    "            start_time = time.process_time()\n",
    "            lcdc_clark.fit(X_train, y_train)\n",
    "            lcdc_clark_pred = lcdc_clark.predict(X_test)\n",
    "            lcdc_clark_time = time.process_time() - start_time\n",
    "            temp_time_clark.append(lcdc_clark_time)\n",
    "\n",
    "            # Measure computation time for RFC\n",
    "            start_time = time.process_time()\n",
    "            rfc.fit(X_train, y_train)\n",
    "            rfc_pred = rfc.predict(X_test)\n",
    "            rfc_time = time.process_time() - start_time\n",
    "            temp_time_rfc.append(rfc_time)\n",
    "\n",
    "        # Get mean and std\n",
    "        rfc_time = np.mean(temp_time_rfc)\n",
    "        rfc_std = np.std(temp_time_rfc)\n",
    "\n",
    "        lcdc_canberra_time = np.mean(temp_time_canberra)\n",
    "        lcdc_canberra_std = np.std(temp_time_canberra)\n",
    "\n",
    "        lcdc_clark_time = np.mean(temp_time_clark)\n",
    "        lcdc_clark_std = np.std(temp_time_clark)\n",
    "\n",
    "        # Store the times and std\n",
    "        lcdc_canberra_times.append(lcdc_canberra_time)\n",
    "        lcdc_canberra_std_times.append(lcdc_canberra_std)\n",
    "\n",
    "        lcdc_clark_times.append(lcdc_clark_time)\n",
    "        lcdc_clark_std_times.append(lcdc_clark_std)\n",
    "\n",
    "        rfc_times.append(rfc_time)\n",
    "        rfc_std_times.append(rfc_std)"
   ]
  },
  {
   "cell_type": "code",
   "execution_count": 7,
   "id": "617eaa6d-52e1-4b7e-8fb2-233c390b455a",
   "metadata": {
    "execution": {
     "iopub.execute_input": "2023-09-29T22:24:28.377360Z",
     "iopub.status.busy": "2023-09-29T22:24:28.377268Z",
     "iopub.status.idle": "2023-09-29T22:24:28.976752Z",
     "shell.execute_reply": "2023-09-29T22:24:28.976002Z",
     "shell.execute_reply.started": "2023-09-29T22:24:28.377347Z"
    },
    "tags": []
   },
   "outputs": [
    {
     "data": {
      "image/png": "[encoded data removed]",
      "text/plain": [
       "<Figure size 720x720 with 3 Axes>"
      ]
     },
     "metadata": {},
     "output_type": "display_data"
    }
   ],
   "source": [
    "fig, axs = plt.subplots(1, 3, figsize=(10, 10))\n",
    "axs = axs.ravel()\n",
    "\n",
    "\n",
    "lcdc_clark_times_2d = np.array(lcdc_clark_times).reshape(\n",
    "    len(dataset_sizes), len(feature_dimensions)\n",
    ")\n",
    "lcdc_canberra_times_2d = np.array(lcdc_canberra_times).reshape(\n",
    "    len(dataset_sizes), len(feature_dimensions)\n",
    ")\n",
    "rfc_times_2d = np.array(rfc_times).reshape(len(dataset_sizes), len(feature_dimensions))\n",
    "\n",
    "# Create a heatmap for kNN computation times\n",
    "sns.heatmap(\n",
    "    lcdc_canberra_times_2d,\n",
    "    annot=True,\n",
    "    fmt=\".4f\",\n",
    "    cbar=False,\n",
    "    vmin=0,\n",
    "    vmax=4.3,\n",
    "    # norm=LogNorm(vmin=0, vmax=4.3,),\n",
    "    xticklabels=feature_dimensions,\n",
    "    yticklabels=dataset_sizes,\n",
    "    cmap=\"Reds\",\n",
    "    ax=axs[0],\n",
    ")\n",
    "axs[0].set_title(\"Canberra LCDC\")\n",
    "axs[0].set_box_aspect(1)\n",
    "axs[0].set_xlabel(\"Feature Dimensions\")\n",
    "axs[0].set_ylabel(\"Dataset Size\")\n",
    "\n",
    "# Create a heatmap for kNN computation times\n",
    "sns.heatmap(\n",
    "    lcdc_clark_times_2d,\n",
    "    annot=True,\n",
    "    fmt=\".4f\",\n",
    "    cbar=False,\n",
    "    vmin=0,\n",
    "    vmax=4.3,\n",
    "    # norm=LogNorm(vmin=0, vmax=4.3,),\n",
    "    xticklabels=feature_dimensions,\n",
    "    yticklabels=dataset_sizes,\n",
    "    cmap=\"Reds\",\n",
    "    ax=axs[1],\n",
    ")\n",
    "axs[1].set_title(\"Clark LCDC\")\n",
    "axs[1].set_box_aspect(1)\n",
    "axs[1].set_xlabel(\"Feature Dimensions\")\n",
    "axs[1].set_ylabel(\"Dataset Size\")\n",
    "\n",
    "\n",
    "# Create a heatmap for RFC computation times\n",
    "sns.heatmap(\n",
    "    rfc_times_2d,\n",
    "    annot=True,\n",
    "    fmt=\".4f\",\n",
    "    cbar=False,\n",
    "    vmin=0,\n",
    "    vmax=4.3,\n",
    "    # norm=LogNorm(vmin=0, vmax=4.3,),\n",
    "    xticklabels=feature_dimensions,\n",
    "    yticklabels=dataset_sizes,\n",
    "    cmap=\"Reds\",\n",
    "    ax=axs[2],\n",
    ")\n",
    "axs[2].set_title(\"RFC\")\n",
    "axs[2].set_box_aspect(1)\n",
    "axs[2].set_xlabel(\"Feature Dimensions\")\n",
    "axs[2].set_ylabel(\"Dataset Size\")\n",
    "\n",
    "plt.suptitle(\"Computation Time (s)\", y=0.69)\n",
    "\n",
    "plt.tight_layout()\n",
    "plt.savefig(os.path.join(\"results\", \"timing.pdf\"), bbox_inches=\"tight\")\n",
    "plt.show()"
   ]
  },
  {
   "cell_type": "code",
   "execution_count": 8,
   "id": "9d20155e-10e7-4a08-8f38-ec33d6477aa9",
   "metadata": {
    "execution": {
     "iopub.execute_input": "2023-09-29T22:24:28.977342Z",
     "iopub.status.busy": "2023-09-29T22:24:28.977245Z",
     "iopub.status.idle": "2023-09-29T22:24:29.386960Z",
     "shell.execute_reply": "2023-09-29T22:24:29.386240Z",
     "shell.execute_reply.started": "2023-09-29T22:24:28.977332Z"
    },
    "tags": []
   },
   "outputs": [
    {
     "data": {
      "image/png": "[encoded data removed]",
      "text/plain": [
       "<Figure size 432x288 with 1 Axes>"
      ]
     },
     "metadata": {},
     "output_type": "display_data"
    }
   ],
   "source": [
    "from matplotlib.lines import Line2D\n",
    "\n",
    "alpha = 0.6\n",
    "\n",
    "c_1 = \"IndianRed\"\n",
    "c_2 = \"SteelBlue\"\n",
    "c_3 = \"Gold\"\n",
    "\n",
    "rfc_legend = Line2D(\n",
    "    [0],\n",
    "    [0],\n",
    "    marker=\"o\",\n",
    "    color=\"w\",\n",
    "    label=\"Random Forest\",\n",
    "    markersize=12,\n",
    "    markerfacecolor=c_1,\n",
    "    alpha=alpha,\n",
    ")\n",
    "lcdc_clark_legend = Line2D(\n",
    "    [0],\n",
    "    [0],\n",
    "    marker=\"o\",\n",
    "    color=\"w\",\n",
    "    label=\"Clark metric\",\n",
    "    markersize=12,\n",
    "    markerfacecolor=c_2,\n",
    "    alpha=alpha,\n",
    ")\n",
    "lcdc_canberra_legend = Line2D(\n",
    "    [0],\n",
    "    [0],\n",
    "    marker=\"o\",\n",
    "    color=\"w\",\n",
    "    label=\"Canberra metric\",\n",
    "    markersize=12,\n",
    "    markerfacecolor=c_3,\n",
    "    alpha=alpha,\n",
    ")\n",
    "\n",
    "\n",
    "for i in range(len(dataset_sizes)):\n",
    "    if i == 0:\n",
    "        plt.scatter(\n",
    "            x=feature_dimensions,\n",
    "            y=[dataset_sizes[i]] * 4,\n",
    "            s=rfc_times_2d[i] * 1000,\n",
    "            alpha=alpha,\n",
    "            c=c_1,\n",
    "            label=\"Random Forest\",\n",
    "        )\n",
    "        plt.scatter(\n",
    "            x=feature_dimensions,\n",
    "            y=[dataset_sizes[i]] * 4,\n",
    "            s=lcdc_clark_times_2d[i] * 1000,\n",
    "            alpha=alpha,\n",
    "            c=c_2,\n",
    "            label=\"Clark metric\",\n",
    "        )\n",
    "        plt.scatter(\n",
    "            x=feature_dimensions,\n",
    "            y=[dataset_sizes[i]] * 4,\n",
    "            s=lcdc_canberra_times_2d[i] * 1000,\n",
    "            alpha=alpha,\n",
    "            c=c_3,\n",
    "            label=\"Canberra metric\",\n",
    "        )\n",
    "    else:\n",
    "        plt.scatter(\n",
    "            x=feature_dimensions,\n",
    "            y=[dataset_sizes[i]] * 4,\n",
    "            s=rfc_times_2d[i] * 1000,\n",
    "            alpha=alpha,\n",
    "            c=c_1,\n",
    "        )\n",
    "        plt.scatter(\n",
    "            x=feature_dimensions,\n",
    "            y=[dataset_sizes[i]] * 4,\n",
    "            s=lcdc_clark_times_2d[i] * 1000,\n",
    "            alpha=alpha,\n",
    "            c=c_2,\n",
    "        )\n",
    "        plt.scatter(\n",
    "            x=feature_dimensions,\n",
    "            y=[dataset_sizes[i]] * 4,\n",
    "            s=lcdc_canberra_times_2d[i] * 1000,\n",
    "            alpha=alpha,\n",
    "            c=c_3,\n",
    "        )\n",
    "\n",
    "plt.grid()\n",
    "\n",
    "plt.legend(\n",
    "    handles=[rfc_legend, lcdc_clark_legend, lcdc_canberra_legend],\n",
    "    bbox_to_anchor=(1.01, 1),\n",
    "    loc=\"upper left\",\n",
    "    title=\"Computation time\",\n",
    ")\n",
    "\n",
    "plt.xscale(\"log\")\n",
    "\n",
    "plt.xlim(7.5, 1200)\n",
    "plt.ylim(-395, 13100)\n",
    "\n",
    "plt.xlabel(\"Number of Features\")\n",
    "plt.ylabel(\"Number of Objects\")\n",
    "\n",
    "plt.savefig(os.path.join(\"results\", \"timing_circles.pdf\"), bbox_inches=\"tight\")\n",
    "# plt.savefig(os.path.join(\"results\", \"timing_circles.svg\"), bbox_inches=\"tight\")\n",
    "plt.show()"
   ]
  },
  {
   "cell_type": "code",
   "execution_count": 9,
   "id": "90326cea-ef04-41d8-a803-3a14708bb56c",
   "metadata": {
    "execution": {
     "iopub.execute_input": "2023-09-29T23:30:20.921720Z",
     "iopub.status.busy": "2023-09-29T23:30:20.921041Z",
     "iopub.status.idle": "2023-09-29T23:30:21.185341Z",
     "shell.execute_reply": "2023-09-29T23:30:21.184893Z",
     "shell.execute_reply.started": "2023-09-29T23:30:20.921674Z"
    },
    "tags": []
   },
   "outputs": [
    {
     "data": {
      "image/png": "[encoded data removed]",
      "text/plain": [
       "<Figure size 576x432 with 2 Axes>"
      ]
     },
     "metadata": {},
     "output_type": "display_data"
    }
   ],
   "source": [
    "# Create a heatmap for Canberra computation times\n",
    "heatmap = sns.heatmap(\n",
    "    lcdc_canberra_times_2d,\n",
    "    annot=True,\n",
    "    fmt=\".4f\",\n",
    "    cbar=True,\n",
    "    cbar_kws={\n",
    "        \"label\": \"Avg. Computation Time (s)\",\n",
    "        \"location\": \"bottom\",\n",
    "        \"shrink\": 0.5,\n",
    "    },\n",
    "    # vmin=0, vmax=4.3,\n",
    "    norm=LogNorm(vmin=0.01, vmax=13),\n",
    "    xticklabels=feature_dimensions,\n",
    "    yticklabels=dataset_sizes,\n",
    "    cmap=\"Reds\",\n",
    ")\n",
    "heatmap.figure.set_size_inches(8, 6)\n",
    "plt.title(\"Random Forest\")\n",
    "plt.gca().set_box_aspect(1)\n",
    "plt.xlabel(\"Feature Dimensions\")\n",
    "plt.ylabel(\"Dataset Size\")\n",
    "\n",
    "cbar = heatmap.collections[0].colorbar\n",
    "cbar.ax.xaxis.set_major_formatter(ScalarFormatter())\n",
    "cbar.ax.xaxis.set_major_formatter(\"{:.2f}\".format)\n",
    "\n",
    "# plt.savefig(os.path.join(\"results\",\"timing_canberra.pdf\"), bbox_inches=\"tight\")"
   ]
  },
  {
   "cell_type": "code",
   "execution_count": 10,
   "id": "7c902477-d948-4138-b432-1d3bed5562eb",
   "metadata": {
    "execution": {
     "iopub.execute_input": "2023-09-29T23:30:22.616918Z",
     "iopub.status.busy": "2023-09-29T23:30:22.616416Z",
     "iopub.status.idle": "2023-09-29T23:30:22.884424Z",
     "shell.execute_reply": "2023-09-29T23:30:22.884088Z",
     "shell.execute_reply.started": "2023-09-29T23:30:22.616889Z"
    },
    "tags": []
   },
   "outputs": [
    {
     "data": {
      "image/png": "[encoded data removed]",
      "text/plain": [
       "<Figure size 576x432 with 2 Axes>"
      ]
     },
     "metadata": {},
     "output_type": "display_data"
    }
   ],
   "source": [
    "# Create a heatmap for Clark computation times\n",
    "heatmap = sns.heatmap(\n",
    "    lcdc_clark_times_2d,\n",
    "    annot=True,\n",
    "    fmt=\".4f\",\n",
    "    cbar=True,\n",
    "    cbar_kws={\n",
    "        \"label\": \"Avg. Computation Time (s)\",\n",
    "        \"location\": \"bottom\",\n",
    "        \"shrink\": 0.5,\n",
    "    },\n",
    "    # vmin=0, vmax=4.3,\n",
    "    norm=LogNorm(vmin=0.01, vmax=13),\n",
    "    xticklabels=feature_dimensions,\n",
    "    yticklabels=dataset_sizes,\n",
    "    cmap=\"Reds\",\n",
    ")\n",
    "heatmap.figure.set_size_inches(8, 6)\n",
    "plt.title(\"Random Forest\")\n",
    "plt.gca().set_box_aspect(1)\n",
    "plt.xlabel(\"Feature Dimensions\")\n",
    "plt.ylabel(\"Dataset Size\")\n",
    "\n",
    "cbar = heatmap.collections[0].colorbar\n",
    "cbar.ax.xaxis.set_major_formatter(ScalarFormatter())\n",
    "cbar.ax.xaxis.set_major_formatter(\"{:.2f}\".format)\n",
    "\n",
    "# plt.savefig(os.path.join(\"results\",\"timing_clark.pdf\"), bbox_inches=\"tight\")"
   ]
  },
  {
   "cell_type": "code",
   "execution_count": 11,
   "id": "9e3410b3-90bc-42a7-af0b-43a6a3567090",
   "metadata": {
    "execution": {
     "iopub.execute_input": "2023-09-29T23:30:23.201320Z",
     "iopub.status.busy": "2023-09-29T23:30:23.201009Z",
     "iopub.status.idle": "2023-09-29T23:30:23.466898Z",
     "shell.execute_reply": "2023-09-29T23:30:23.466427Z",
     "shell.execute_reply.started": "2023-09-29T23:30:23.201294Z"
    },
    "tags": []
   },
   "outputs": [
    {
     "data": {
      "image/png": "[encoded data removed]",
      "text/plain": [
       "<Figure size 576x432 with 2 Axes>"
      ]
     },
     "metadata": {},
     "output_type": "display_data"
    }
   ],
   "source": [
    "# Create a heatmap for RFC computation times\n",
    "heatmap = sns.heatmap(\n",
    "    rfc_times_2d,\n",
    "    annot=True,\n",
    "    fmt=\".4f\",\n",
    "    cbar=True,\n",
    "    cbar_kws={\n",
    "        \"label\": \"Avg. Computation Time (s)\",\n",
    "        \"location\": \"bottom\",\n",
    "        \"shrink\": 0.5,\n",
    "    },\n",
    "    # vmin=0, vmax=4.3,\n",
    "    norm=LogNorm(vmin=0.01, vmax=13),\n",
    "    xticklabels=feature_dimensions,\n",
    "    yticklabels=dataset_sizes,\n",
    "    cmap=\"Reds\",\n",
    ")\n",
    "heatmap.figure.set_size_inches(8, 6)\n",
    "plt.title(\"Random Forest\")\n",
    "plt.gca().set_box_aspect(1)\n",
    "plt.xlabel(\"Feature Dimensions\")\n",
    "plt.ylabel(\"Dataset Size\")\n",
    "\n",
    "cbar = heatmap.collections[0].colorbar\n",
    "\n",
    "cbar.ax.xaxis.set_major_formatter(ScalarFormatter())\n",
    "cbar.ax.xaxis.set_major_formatter(\"{:.2f}\".format)\n",
    "\n",
    "# plt.savefig(os.path.join(\"results\", \"timing_rfc.pdf\"), bbox_inches=\"tight\")"
   ]
  },
  {
   "cell_type": "markdown",
   "id": "ba3b9696-9bfa-4ceb-b917-1f5747463568",
   "metadata": {},
   "source": [
    "---"
   ]
  },
  {
   "cell_type": "code",
   "execution_count": 12,
   "id": "afd2d535-3dc4-4a60-80dc-1e81aae67e0f",
   "metadata": {
    "execution": {
     "iopub.execute_input": "2023-09-29T22:27:50.701622Z",
     "iopub.status.busy": "2023-09-29T22:27:50.700943Z",
     "iopub.status.idle": "2023-09-29T22:27:50.711856Z",
     "shell.execute_reply": "2023-09-29T22:27:50.711095Z",
     "shell.execute_reply.started": "2023-09-29T22:27:50.701575Z"
    },
    "tags": []
   },
   "outputs": [
    {
     "name": "stdout",
     "output_type": "stream",
     "text": [
      "********************************************************************************\n",
      "Dataset Size: 100, Feature Dimensions: 10\n",
      "Canberra LCDC Computation Time: 0.0029 ± 0.0020 seconds\n",
      "Clark LCDC Computation Time: 0.0041 ± 0.0010 seconds\n",
      "RFC Computation Time: 0.1088 ± 0.0029 seconds\n",
      "--------------------------------------------------\n",
      "Dataset Size: 100, Feature Dimensions: 50\n",
      "Canberra LCDC Computation Time: 0.0025 ± 0.0001 seconds\n",
      "Clark LCDC Computation Time: 0.0033 ± 0.0003 seconds\n",
      "RFC Computation Time: 0.1153 ± 0.0017 seconds\n",
      "--------------------------------------------------\n",
      "Dataset Size: 100, Feature Dimensions: 100\n",
      "Canberra LCDC Computation Time: 0.0027 ± 0.0005 seconds\n",
      "Clark LCDC Computation Time: 0.0037 ± 0.0006 seconds\n",
      "RFC Computation Time: 0.1203 ± 0.0027 seconds\n",
      "--------------------------------------------------\n",
      "Dataset Size: 100, Feature Dimensions: 500\n",
      "Canberra LCDC Computation Time: 0.0039 ± 0.0008 seconds\n",
      "Clark LCDC Computation Time: 0.0053 ± 0.0005 seconds\n",
      "RFC Computation Time: 0.1414 ± 0.0019 seconds\n",
      "--------------------------------------------------\n",
      "********************************************************************************\n",
      "Dataset Size: 500, Feature Dimensions: 10\n",
      "Canberra LCDC Computation Time: 0.0025 ± 0.0001 seconds\n",
      "Clark LCDC Computation Time: 0.0091 ± 0.0019 seconds\n",
      "RFC Computation Time: 0.1516 ± 0.0030 seconds\n",
      "--------------------------------------------------\n",
      "Dataset Size: 500, Feature Dimensions: 50\n",
      "Canberra LCDC Computation Time: 0.0027 ± 0.0003 seconds\n",
      "Clark LCDC Computation Time: 0.0090 ± 0.0001 seconds\n",
      "RFC Computation Time: 0.2269 ± 0.0026 seconds\n",
      "--------------------------------------------------\n",
      "Dataset Size: 500, Feature Dimensions: 100\n",
      "Canberra LCDC Computation Time: 0.0034 ± 0.0003 seconds\n",
      "Clark LCDC Computation Time: 0.0100 ± 0.0001 seconds\n",
      "RFC Computation Time: 0.2749 ± 0.0013 seconds\n",
      "--------------------------------------------------\n",
      "Dataset Size: 500, Feature Dimensions: 500\n",
      "Canberra LCDC Computation Time: 0.0074 ± 0.0003 seconds\n",
      "Clark LCDC Computation Time: 0.0183 ± 0.0006 seconds\n",
      "RFC Computation Time: 0.5004 ± 0.0021 seconds\n",
      "--------------------------------------------------\n",
      "********************************************************************************\n",
      "Dataset Size: 1000, Feature Dimensions: 10\n",
      "Canberra LCDC Computation Time: 0.0029 ± 0.0005 seconds\n",
      "Clark LCDC Computation Time: 0.0158 ± 0.0011 seconds\n",
      "RFC Computation Time: 0.2282 ± 0.0028 seconds\n",
      "--------------------------------------------------\n",
      "Dataset Size: 1000, Feature Dimensions: 50\n",
      "Canberra LCDC Computation Time: 0.0038 ± 0.0007 seconds\n",
      "Clark LCDC Computation Time: 0.0172 ± 0.0006 seconds\n",
      "RFC Computation Time: 0.4379 ± 0.0023 seconds\n",
      "--------------------------------------------------\n",
      "Dataset Size: 1000, Feature Dimensions: 100\n",
      "Canberra LCDC Computation Time: 0.0044 ± 0.0002 seconds\n",
      "Clark LCDC Computation Time: 0.0183 ± 0.0001 seconds\n",
      "RFC Computation Time: 0.5828 ± 0.0013 seconds\n",
      "--------------------------------------------------\n",
      "Dataset Size: 1000, Feature Dimensions: 500\n",
      "Canberra LCDC Computation Time: 0.0117 ± 0.0005 seconds\n",
      "Clark LCDC Computation Time: 0.0345 ± 0.0003 seconds\n",
      "RFC Computation Time: 1.2205 ± 0.0025 seconds\n",
      "--------------------------------------------------\n",
      "********************************************************************************\n",
      "Dataset Size: 5000, Feature Dimensions: 10\n",
      "Canberra LCDC Computation Time: 0.0061 ± 0.0035 seconds\n",
      "Clark LCDC Computation Time: 0.0828 ± 0.0245 seconds\n",
      "RFC Computation Time: 1.0310 ± 0.0587 seconds\n",
      "--------------------------------------------------\n",
      "Dataset Size: 5000, Feature Dimensions: 50\n",
      "Canberra LCDC Computation Time: 0.0080 ± 0.0013 seconds\n",
      "Clark LCDC Computation Time: 0.0790 ± 0.0028 seconds\n",
      "RFC Computation Time: 2.5042 ± 0.0010 seconds\n",
      "--------------------------------------------------\n",
      "Dataset Size: 5000, Feature Dimensions: 100\n",
      "Canberra LCDC Computation Time: 0.0124 ± 0.0017 seconds\n",
      "Clark LCDC Computation Time: 0.0876 ± 0.0010 seconds\n",
      "RFC Computation Time: 3.9543 ± 0.0240 seconds\n",
      "--------------------------------------------------\n",
      "Dataset Size: 5000, Feature Dimensions: 500\n",
      "Canberra LCDC Computation Time: 0.0513 ± 0.0043 seconds\n",
      "Clark LCDC Computation Time: 0.1679 ± 0.0017 seconds\n",
      "RFC Computation Time: 10.4814 ± 0.1552 seconds\n",
      "--------------------------------------------------\n",
      "********************************************************************************\n",
      "Dataset Size: 10000, Feature Dimensions: 10\n",
      "Canberra LCDC Computation Time: 0.0068 ± 0.0024 seconds\n",
      "Clark LCDC Computation Time: 0.1412 ± 0.0027 seconds\n",
      "RFC Computation Time: 2.5313 ± 0.0054 seconds\n",
      "--------------------------------------------------\n",
      "Dataset Size: 10000, Feature Dimensions: 50\n",
      "Canberra LCDC Computation Time: 0.0149 ± 0.0037 seconds\n",
      "Clark LCDC Computation Time: 0.1570 ± 0.0029 seconds\n",
      "RFC Computation Time: 7.0075 ± 0.2564 seconds\n",
      "--------------------------------------------------\n",
      "Dataset Size: 10000, Feature Dimensions: 100\n",
      "Canberra LCDC Computation Time: 0.0282 ± 0.0068 seconds\n",
      "Clark LCDC Computation Time: 0.1747 ± 0.0034 seconds\n",
      "RFC Computation Time: 10.8388 ± 0.4267 seconds\n",
      "--------------------------------------------------\n",
      "Dataset Size: 10000, Feature Dimensions: 500\n",
      "Canberra LCDC Computation Time: 0.1318 ± 0.0101 seconds\n",
      "Clark LCDC Computation Time: 0.3708 ± 0.0226 seconds\n",
      "RFC Computation Time: 29.6643 ± 0.9720 seconds\n",
      "--------------------------------------------------\n"
     ]
    }
   ],
   "source": [
    "# Print the results\n",
    "for i, n_samples in enumerate(dataset_sizes):\n",
    "    print(\"*\" * 80)\n",
    "    for j, n_features in enumerate(feature_dimensions):\n",
    "        index = i * len(feature_dimensions) + j\n",
    "        print(f\"Dataset Size: {n_samples}, Feature Dimensions: {n_features}\")\n",
    "        print(\n",
    "            \"Canberra LCDC Computation Time: {:.4f} ± {:.4f} seconds\".format(\n",
    "                lcdc_canberra_times[index], lcdc_canberra_std_times[index]\n",
    "            )\n",
    "        )\n",
    "        print(\n",
    "            \"Clark LCDC Computation Time: {:.4f} ± {:.4f} seconds\".format(\n",
    "                lcdc_clark_times[index], lcdc_clark_std_times[index]\n",
    "            )\n",
    "        )\n",
    "        print(\n",
    "            \"RFC Computation Time: {:.4f} ± {:.4f} seconds\".format(\n",
    "                rfc_times[index], rfc_std_times[index]\n",
    "            )\n",
    "        )\n",
    "        print(\"-\" * 50)"
   ]
  },
  {
   "cell_type": "code",
   "execution_count": 13,
   "id": "2a6409bb-f61d-4e07-8af4-8334ce298f1e",
   "metadata": {
    "execution": {
     "iopub.execute_input": "2023-10-16T20:36:11.786899Z",
     "iopub.status.busy": "2023-10-16T20:36:11.785894Z",
     "iopub.status.idle": "2023-10-16T20:36:11.945033Z",
     "shell.execute_reply": "2023-10-16T20:36:11.944700Z",
     "shell.execute_reply.started": "2023-10-16T20:36:11.786861Z"
    },
    "tags": []
   },
   "outputs": [],
   "source": [
    "X, y = make_classification(n_samples=10000, n_features=500, random_state=42)\n",
    "X_train, X_test, y_train, y_test = train_test_split(\n",
    "    X, y, test_size=0.7, random_state=42\n",
    ")"
   ]
  },
  {
   "cell_type": "code",
   "execution_count": 15,
   "id": "5d5797c3",
   "metadata": {},
   "outputs": [
    {
     "name": "stdout",
     "output_type": "stream",
     "text": [
      "Collecting memory_profiler\n",
      "  Downloading memory_profiler-0.61.0-py3-none-any.whl (31 kB)\n",
      "Requirement already satisfied: psutil in /Users/fbianco/opt/anaconda3/lib/python3.9/site-packages (from memory_profiler) (5.8.0)\n",
      "Installing collected packages: memory-profiler\n",
      "Successfully installed memory-profiler-0.61.0\n"
     ]
    }
   ],
   "source": [
    "!pip install memory_profiler"
   ]
  },
  {
   "cell_type": "code",
   "execution_count": 16,
   "id": "868dc167-d303-422f-937d-dbe00ab4b7fe",
   "metadata": {
    "execution": {
     "iopub.execute_input": "2023-10-16T20:38:14.768076Z",
     "iopub.status.busy": "2023-10-16T20:38:14.766978Z",
     "iopub.status.idle": "2023-10-16T20:38:37.895206Z",
     "shell.execute_reply": "2023-10-16T20:38:37.894555Z",
     "shell.execute_reply.started": "2023-10-16T20:38:14.768029Z"
    }
   },
   "outputs": [
    {
     "data": {
      "application/vnd.jupyter.widget-view+json": {
       "model_id": "09738d4bfd024d47a19ec13935e67154",
       "version_major": 2,
       "version_minor": 0
      },
      "text/plain": [
       "  0%|          | 0/5 [00:00<?, ?it/s]"
      ]
     },
     "metadata": {},
     "output_type": "display_data"
    }
   ],
   "source": [
    "from memory_profiler import memory_usage\n",
    "\n",
    "rfc_mem_usages = []\n",
    "lcdc_mem_usages = []\n",
    "\n",
    "\n",
    "for i in tqdm(range(5)):\n",
    "\n",
    "    lcdc_clark = dcpy.DistanceMetricClassifier(\n",
    "        metric=cd.clark, scale_std=True, calculate_kde=False, calculate_1d_dist=False\n",
    "    )\n",
    "\n",
    "    rfc = RandomForestClassifier(n_estimators=100, random_state=42)\n",
    "\n",
    "    rfc_mem_usage = memory_usage((rfc.fit, (X_train, y_train)))[0]\n",
    "    rfc_mem_usages.append(rfc_mem_usage)\n",
    "\n",
    "    lcdc_mem_usage = memory_usage((lcdc_clark.fit, (X_train, y_train)))[0]\n",
    "    lcdc_mem_usages.append(lcdc_mem_usage)"
   ]
  },
  {
   "cell_type": "code",
   "execution_count": 17,
   "id": "f30283de-a3f8-4265-b3af-29208cb4e58f",
   "metadata": {
    "execution": {
     "iopub.execute_input": "2023-10-16T20:38:37.896316Z",
     "iopub.status.busy": "2023-10-16T20:38:37.896177Z",
     "iopub.status.idle": "2023-10-16T20:38:37.899131Z",
     "shell.execute_reply": "2023-10-16T20:38:37.898702Z",
     "shell.execute_reply.started": "2023-10-16T20:38:37.896303Z"
    },
    "tags": []
   },
   "outputs": [
    {
     "name": "stdout",
     "output_type": "stream",
     "text": [
      "Random Forest memory usage: 127.5 ± 22.5 MiB\n",
      "LCDistanceClassifier memory usage: 137.1 ± 4.3 MiB\n"
     ]
    }
   ],
   "source": [
    "rfc_mean_mem_usage = np.mean(rfc_mem_usages)\n",
    "rfc_std_mem_usage = np.std(rfc_mem_usages)\n",
    "print(\n",
    "    \"Random Forest memory usage: {:.1f} ± {:.1f} MiB\".format(\n",
    "        rfc_mean_mem_usage, rfc_std_mem_usage\n",
    "    )\n",
    ")\n",
    "\n",
    "lcdc_mean_mem_usage = np.mean(lcdc_mem_usages)\n",
    "lcdc_std_mem_usage = np.std(lcdc_mem_usages)\n",
    "print(\n",
    "    \"LCDistanceClassifier memory usage: {:.1f} ± {:.1f} MiB\".format(\n",
    "        lcdc_mean_mem_usage, lcdc_std_mem_usage\n",
    "    )\n",
    ")"
   ]
  },
  {
   "cell_type": "code",
   "execution_count": 189,
   "id": "bada68b3",
   "metadata": {
    "scrolled": true
   },
   "outputs": [
    {
     "data": {
      "application/vnd.jupyter.widget-view+json": {
       "model_id": "e5b064e5df52486296b4537b337395d4",
       "version_major": 2,
       "version_minor": 0
      },
      "text/plain": [
       "dataset size:   0%|          | 0/5 [00:00<?, ?it/s]"
      ]
     },
     "metadata": {},
     "output_type": "display_data"
    },
    {
     "data": {
      "application/vnd.jupyter.widget-view+json": {
       "model_id": "",
       "version_major": 2,
       "version_minor": 0
      },
      "text/plain": [
       "run number:   0%|          | 0/100 [00:00<?, ?it/s]"
      ]
     },
     "metadata": {},
     "output_type": "display_data"
    },
    {
     "data": {
      "application/vnd.jupyter.widget-view+json": {
       "model_id": "",
       "version_major": 2,
       "version_minor": 0
      },
      "text/plain": [
       "run number:   0%|          | 0/100 [00:00<?, ?it/s]"
      ]
     },
     "metadata": {},
     "output_type": "display_data"
    },
    {
     "data": {
      "application/vnd.jupyter.widget-view+json": {
       "model_id": "",
       "version_major": 2,
       "version_minor": 0
      },
      "text/plain": [
       "run number:   0%|          | 0/100 [00:00<?, ?it/s]"
      ]
     },
     "metadata": {},
     "output_type": "display_data"
    },
    {
     "data": {
      "application/vnd.jupyter.widget-view+json": {
       "model_id": "",
       "version_major": 2,
       "version_minor": 0
      },
      "text/plain": [
       "run number:   0%|          | 0/100 [00:00<?, ?it/s]"
      ]
     },
     "metadata": {},
     "output_type": "display_data"
    },
    {
     "data": {
      "application/vnd.jupyter.widget-view+json": {
       "model_id": "",
       "version_major": 2,
       "version_minor": 0
      },
      "text/plain": [
       "run number:   0%|          | 0/100 [00:00<?, ?it/s]"
      ]
     },
     "metadata": {},
     "output_type": "display_data"
    }
   ],
   "source": [
    "# calculate computational time as a function of number of objects with 100 runs to get distributions\n",
    "lcdc_canberra_objecttimes = {}\n",
    "lcdc_clark_objecttimes = {}\n",
    "for n_samples in tqdm(dataset_sizes, position=0, desc=\"dataset size\"):\n",
    "    n_features = 100 \n",
    "    # Generate synthetic data\n",
    "    X, y = make_classification(\n",
    "        n_samples=n_samples, n_features=n_features, random_state=42\n",
    "    )\n",
    "    X_train, X_test, y_train, y_test = train_test_split(\n",
    "        X, y, test_size=0.3, random_state=42\n",
    "    )\n",
    "\n",
    "    # Initialize lcdc and RFC models\n",
    "    lcdc_canberra = dcpy.DistanceMetricClassifier(\n",
    "        metric=\"canberra\",\n",
    "        scale_std=True,\n",
    "        calculate_kde=False,\n",
    "        calculate_1d_dist=False,\n",
    "    )\n",
    "\n",
    "    lcdc_clark = dcpy.DistanceMetricClassifier(\n",
    "        metric=cd.clark,\n",
    "        scale_std=True,\n",
    "        calculate_kde=False,\n",
    "        calculate_1d_dist=False,\n",
    "    )\n",
    "\n",
    "    #rfc = RandomForestClassifier(n_estimators=100, random_state=42)\n",
    "\n",
    "    lcdc_canberra_objecttimes[n_samples] = []\n",
    "    lcdc_clark_objecttimes[n_samples] = []\n",
    "    #temp_time_rfc = []\n",
    "\n",
    "    # Run loop 5 times for mean/std times\n",
    "    for i in tqdm(range(100), position=2, desc=\"run number\", leave=False):\n",
    "    # Measure computation time for lcdc_canberra\n",
    "        start_time = time.process_time()\n",
    "        lcdc_canberra.fit(X_train, y_train)\n",
    "        lcdc_canberra_pred = lcdc_canberra.predict(X_test)\n",
    "        lcdc_canberra_time = time.process_time() - start_time\n",
    "        lcdc_canberra_objecttimes[n_samples].append(lcdc_canberra_time)\n",
    "\n",
    "        # Measure computation time for lcdc_clark\n",
    "        start_time = time.process_time()\n",
    "        lcdc_clark.fit(X_train, y_train)\n",
    "        lcdc_clark_pred = lcdc_clark.predict(X_test)\n",
    "        lcdc_clark_time = time.process_time() - start_time\n",
    "        lcdc_clark_objecttimes[n_samples].append(lcdc_clark_time)\n",
    "\n",
    "\n",
    "\n",
    " "
   ]
  },
  {
   "cell_type": "code",
   "execution_count": 190,
   "id": "f6cd3942",
   "metadata": {},
   "outputs": [
    {
     "data": {
      "application/vnd.jupyter.widget-view+json": {
       "model_id": "",
       "version_major": 2,
       "version_minor": 0
      },
      "text/plain": [
       "num feats:   0%|          | 0/4 [00:00<?, ?it/s]"
      ]
     },
     "metadata": {},
     "output_type": "display_data"
    },
    {
     "data": {
      "application/vnd.jupyter.widget-view+json": {
       "model_id": "",
       "version_major": 2,
       "version_minor": 0
      },
      "text/plain": [
       "run number:   0%|          | 0/100 [00:00<?, ?it/s]"
      ]
     },
     "metadata": {},
     "output_type": "display_data"
    },
    {
     "data": {
      "application/vnd.jupyter.widget-view+json": {
       "model_id": "",
       "version_major": 2,
       "version_minor": 0
      },
      "text/plain": [
       "run number:   0%|          | 0/100 [00:00<?, ?it/s]"
      ]
     },
     "metadata": {},
     "output_type": "display_data"
    },
    {
     "data": {
      "application/vnd.jupyter.widget-view+json": {
       "model_id": "",
       "version_major": 2,
       "version_minor": 0
      },
      "text/plain": [
       "run number:   0%|          | 0/100 [00:00<?, ?it/s]"
      ]
     },
     "metadata": {},
     "output_type": "display_data"
    },
    {
     "data": {
      "application/vnd.jupyter.widget-view+json": {
       "model_id": "",
       "version_major": 2,
       "version_minor": 0
      },
      "text/plain": [
       "run number:   0%|          | 0/100 [00:00<?, ?it/s]"
      ]
     },
     "metadata": {},
     "output_type": "display_data"
    }
   ],
   "source": [
    "# calculate computational time as a function of number of features with 100 runs to get distributions\n",
    "lcdc_canberra_featurestimes = {}\n",
    "lcdc_clark_featurestimes = {}\n",
    "for n_features in tqdm(\n",
    "        feature_dimensions, position=1, desc=\"num feats\", leave=False\n",
    "    ):\n",
    "    n_samples = 100\n",
    "    # Generate synthetic data\n",
    "    X, y = make_classification(\n",
    "        n_samples=n_samples, n_features=n_features, random_state=42\n",
    "    )\n",
    "    X_train, X_test, y_train, y_test = train_test_split(\n",
    "        X, y, test_size=0.3, random_state=42\n",
    "    )\n",
    "\n",
    "    # Initialize lcdc and RFC models\n",
    "    lcdc_canberra = dcpy.DistanceMetricClassifier(\n",
    "        metric=\"canberra\",\n",
    "        scale_std=True,\n",
    "        calculate_kde=False,\n",
    "        calculate_1d_dist=False,\n",
    "    )\n",
    "\n",
    "    lcdc_clark = dcpy.DistanceMetricClassifier(\n",
    "        metric=cd.clark,\n",
    "        scale_std=True,\n",
    "        calculate_kde=False,\n",
    "        calculate_1d_dist=False,\n",
    "    )\n",
    "\n",
    "    lcdc_canberra_featurestimes[n_features] = []\n",
    "    lcdc_clark_featurestimes[n_features] = []\n",
    "    #temp_time_rfc = []\n",
    "\n",
    "    # Run loop 5 times for mean/std times\n",
    "    for i in tqdm(range(100), position=2, desc=\"run number\", leave=False):\n",
    "        # Measure computation time for lcdc_canberra\n",
    "        start_time = time.process_time()\n",
    "        lcdc_canberra.fit(X_train, y_train)\n",
    "        lcdc_canberra_pred = lcdc_canberra.predict(X_test)\n",
    "        lcdc_canberra_time = time.process_time() - start_time\n",
    "        lcdc_canberra_featurestimes[n_features].append(lcdc_canberra_time)\n",
    "\n",
    "        # Measure computation time for lcdc_clark\n",
    "        start_time = time.process_time()\n",
    "        lcdc_clark.fit(X_train, y_train)\n",
    "        lcdc_clark_pred = lcdc_clark.predict(X_test)\n",
    "        lcdc_clark_time = time.process_time() - start_time\n",
    "        lcdc_clark_featurestimes[n_features].append(lcdc_clark_time)\n",
    "\n"
   ]
  },
  {
   "cell_type": "code",
   "execution_count": 191,
   "id": "bf9ac15f",
   "metadata": {},
   "outputs": [],
   "source": [
    "#convert storage dictionaries to dataframe to simplify boxplot syntax\n",
    "import pandas as pd\n",
    "canberra_objecttimes = pd.DataFrame.from_dict(lcdc_canberra_objecttimes)\n",
    "canberra_objecttimes = canberra_objecttimes * 1000 # convert to milliseconds\n",
    "canberra_objecttimes = canberra_objecttimes.iloc[:,:-2].melt(var_name='Number of Objects', \n",
    "                                     value_name='Time (milliseconds)')\n",
    "\n",
    "clark_objecttimes = pd.DataFrame.from_dict(lcdc_clark_objecttimes)\n",
    "clark_objecttimes = clark_objecttimes * 1000 # convert to milliseconds\n",
    "clark_objecttimes = clark_objecttimes.iloc[:,:-2].melt(var_name='Number of Objects', \n",
    "                                     value_name='Time (milliseconds)')"
   ]
  },
  {
   "cell_type": "code",
   "execution_count": 197,
   "id": "4631178e",
   "metadata": {
    "scrolled": false
   },
   "outputs": [
    {
     "data": {
      "image/png": "[encoded data removed]",
      "text/plain": [
       "<Figure size 216x216 with 1 Axes>"
      ]
     },
     "metadata": {},
     "output_type": "display_data"
    },
    {
     "data": {
      "image/png": "[encoded data removed]",
      "text/plain": [
       "<Figure size 216x216 with 1 Axes>"
      ]
     },
     "metadata": {},
     "output_type": "display_data"
    }
   ],
   "source": [
    "def format_func(value, tick_number):\n",
    "    return f'{value:.1f}'\n",
    "\n",
    "# boxplot of time vs number of objects\n",
    "plt.figure(figsize=(3,3))\n",
    "sns.boxplot(data=canberra_objecttimes, \n",
    "            x='Number of Objects', \n",
    "            y='Time (milliseconds)', color=\"SteelBlue\")\n",
    "\n",
    "plt.title(\"Canberra - 100 features\")\n",
    "plt.gca().set_box_aspect(1)\n",
    "plt.gca().yaxis.set_major_formatter(FuncFormatter(format_func))\n",
    "\n",
    "\n",
    "ax.grid(False)\n",
    "plt.savefig(os.path.join(\"results\",\"timingboxplot_canberra.pdf\"), bbox_inches=\"tight\")\n",
    "\n",
    "plt.show()\n",
    "plt.figure(figsize=(3,3))\n",
    "\n",
    "sns.boxplot(data=clark_objecttimes, \n",
    "            x='Number of Objects', \n",
    "            y='Time (milliseconds)', color=\"SteelBlue\")\n",
    "\n",
    "plt.title(\"Clark - 100 features\")\n",
    "plt.gca().set_box_aspect(1)\n",
    "\n",
    "\n",
    "ax.grid(False)\n",
    "plt.savefig(os.path.join(\"results\",\"timingboxplot_clark.pdf\"), bbox_inches=\"tight\")\n",
    "\n"
   ]
  },
  {
   "cell_type": "code",
   "execution_count": 193,
   "id": "f0d0e232",
   "metadata": {},
   "outputs": [],
   "source": [
    "#convert storage dictionaries to dataframe to simplify boxplot syntax\n",
    "canberra_featuretimes = pd.DataFrame.from_dict(lcdc_canberra_featurestimes)\n",
    "canberra_featuretimes = canberra_featuretimes * 1000 # convert to milliseconds\n",
    "canberra_featuretimes = canberra_featuretimes.iloc[:,:-1].melt(var_name='Number of Features', \n",
    "                                     value_name='Time (milliseconds)')\n",
    "\n",
    "clark_featuretimes = pd.DataFrame.from_dict(lcdc_clark_featurestimes)\n",
    "clark_featuretimes = clark_featuretimes * 1000 # convert to milliseconds\n",
    "clark_featuretimes = clark_featuretimes.iloc[:,:-1].melt(var_name='Number of Features', \n",
    "                                     value_name='Time (milliseconds)')\n"
   ]
  },
  {
   "cell_type": "code",
   "execution_count": 199,
   "id": "3796cbf7",
   "metadata": {},
   "outputs": [
    {
     "data": {
      "image/png": "[encoded data removed]",
      "text/plain": [
       "<Figure size 216x216 with 1 Axes>"
      ]
     },
     "metadata": {},
     "output_type": "display_data"
    },
    {
     "data": {
      "image/png": "[encoded data removed]",
      "text/plain": [
       "<Figure size 216x216 with 1 Axes>"
      ]
     },
     "metadata": {},
     "output_type": "display_data"
    }
   ],
   "source": [
    "# boxplot of time vs number of features\n",
    "plt.figure(figsize=(3,3))\n",
    "sns.boxplot(data=canberra_featuretimes, \n",
    "            x='Number of Features', \n",
    "            y='Time (milliseconds)', color=\"SteelBlue\")\n",
    "\n",
    "plt.title(\"Canberra - 100 samples\")\n",
    "plt.gca().set_box_aspect(1)\n",
    "plt.gca().yaxis.set_major_formatter(FuncFormatter(format_func))\n",
    "\n",
    "ax.grid(False)\n",
    "\n",
    "plt.savefig(os.path.join(\"results\",\"timingboxplotfeatures_canberra.pdf\"), bbox_inches=\"tight\")\n",
    "\n",
    "\n",
    "plt.show()\n",
    "plt.figure(figsize=(3,3))\n",
    "\n",
    "sns.boxplot(data=clark_featuretimes, \n",
    "            x='Number of Features', \n",
    "            y='Time (milliseconds)', color=\"SteelBlue\")\n",
    "\n",
    "plt.title(\"Clark - 100 samples\")\n",
    "plt.gca().set_box_aspect(1)\n",
    "plt.gca().yaxis.set_major_formatter(FuncFormatter(format_func))\n",
    "\n",
    "ax.grid(False)\n",
    "plt.savefig(os.path.join(\"results\",\"timingboxplotfeatures_clark.pdf\"), bbox_inches=\"tight\")\n"
   ]
  },
  {
   "cell_type": "markdown",
   "id": "644df70c-9853-47d9-9289-cc9f2ba04501",
   "metadata": {},
   "source": [
    "### 2. Compare all distance metrics, but one loop for largest dataset/feats and description only"
   ]
  },
  {
   "cell_type": "code",
   "execution_count": null,
   "id": "e01de0c5-63a7-4077-b47d-bcce0f284f1a",
   "metadata": {
    "execution": {
     "iopub.execute_input": "2023-09-29T22:27:58.579750Z",
     "iopub.status.busy": "2023-09-29T22:27:58.579078Z",
     "iopub.status.idle": "2023-09-29T22:27:58.590280Z",
     "shell.execute_reply": "2023-09-29T22:27:58.589160Z",
     "shell.execute_reply.started": "2023-09-29T22:27:58.579716Z"
    },
    "tags": []
   },
   "outputs": [],
   "source": [
    "all_metrics = [\n",
    "    cd.clark,\n",
    "    \"canberra\",\n",
    "    \"braycurtis\",\n",
    "    \"euclidean\",\n",
    "    \"cityblock\",\n",
    "    \"chebyshev\",\n",
    "    # Scipy ones:\n",
    "    \"correlation\",\n",
    "    \"cosine\",\n",
    "    # Custom ones:\n",
    "    cd.soergel,\n",
    "    cd.kulczynski,\n",
    "    cd.motyka,\n",
    "    cd.wave_hedges,\n",
    "    cd.jaccard,\n",
    "    cd.lorentzian,\n",
    "    cd.meehl,\n",
    "    cd.hellinger,\n",
    "    cd.add_chisq,\n",
    "    cd.marylandbridge,\n",
    "]"
   ]
  },
  {
   "cell_type": "code",
   "execution_count": 178,
   "id": "166b95ef-90b2-4b63-9fa3-220929074605",
   "metadata": {
    "execution": {
     "iopub.execute_input": "2023-09-29T22:27:58.886292Z",
     "iopub.status.busy": "2023-09-29T22:27:58.885733Z",
     "iopub.status.idle": "2023-09-29T22:27:58.892823Z",
     "shell.execute_reply": "2023-09-29T22:27:58.891979Z",
     "shell.execute_reply.started": "2023-09-29T22:27:58.886251Z"
    },
    "tags": []
   },
   "outputs": [],
   "source": [
    "import warnings\n",
    "\n",
    "# Ignore the specific RuntimeWarning\n",
    "warnings.filterwarnings(\n",
    "    \"ignore\", category=RuntimeWarning, message=\"invalid value encountered in sqrt\"\n",
    ")"
   ]
  },
  {
   "cell_type": "code",
   "execution_count": null,
   "id": "1e605227-ad6d-458d-8830-2c738b3a8dde",
   "metadata": {
    "execution": {
     "iopub.execute_input": "2023-09-29T22:27:59.450435Z",
     "iopub.status.busy": "2023-09-29T22:27:59.449131Z",
     "iopub.status.idle": "2023-09-29T22:28:08.105099Z",
     "shell.execute_reply": "2023-09-29T22:28:08.104776Z",
     "shell.execute_reply.started": "2023-09-29T22:27:59.450397Z"
    },
    "tags": []
   },
   "outputs": [],
   "source": [
    "print(f\"Dataset Size: 10000, Feature Dimensions: 500\")\n",
    "X, y = make_classification(n_samples=10000, n_features=500, random_state=42)\n",
    "X_train, X_test, y_train, y_test = train_test_split(\n",
    "    X, y, test_size=0.3, random_state=42\n",
    ")\n",
    "\n",
    "for metric in tqdm(all_metrics, leave=False):\n",
    "    metric_str = utils.get_metric_name(metric)\n",
    "    lcdc = dcpy.DistanceMetricClassifier(\n",
    "        metric=metric, scale_std=True, calculate_kde=False, calculate_1d_dist=False\n",
    "    )\n",
    "\n",
    "    temp_times = []\n",
    "\n",
    "    for i in range(5):\n",
    "        start_time = time.process_time()\n",
    "        lcdc.fit(X_train, y_train)\n",
    "        lcdc_pred = lcdc.predict(X_test)\n",
    "        lcdc_time = time.process_time() - start_time\n",
    "        temp_times.append(lcdc_time)\n",
    "\n",
    "    print(\n",
    "        f\"{metric_str.title().ljust(10)}\\t\\t: {np.mean(temp_times):.4f} ± {np.std(temp_times):.4f} seconds\"\n",
    "    )"
   ]
  }
 ],
 "metadata": {
  "kernelspec": {
   "display_name": "Python 3 (ipykernel)",
   "language": "python",
   "name": "python3"
  },
  "language_info": {
   "codemirror_mode": {
    "name": "ipython",
    "version": 3
   },
   "file_extension": ".py",
   "mimetype": "text/x-python",
   "name": "python",
   "nbconvert_exporter": "python",
   "pygments_lexer": "ipython3",
   "version": "3.12.2"
  }
 },
 "nbformat": 4,
 "nbformat_minor": 5
}
