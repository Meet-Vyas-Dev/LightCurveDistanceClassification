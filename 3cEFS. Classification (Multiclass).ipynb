{
 "cells": [
  {
   "cell_type": "code",
   "execution_count": 1,
   "id": "6fd60258-b88d-42bc-adc8-7d760c50cb58",
   "metadata": {
    "execution": {
     "iopub.execute_input": "2024-03-02T12:27:09.785378Z",
     "iopub.status.busy": "2024-03-02T12:27:09.784892Z",
     "iopub.status.idle": "2024-03-02T12:27:10.934712Z",
     "shell.execute_reply": "2024-03-02T12:27:10.934418Z",
     "shell.execute_reply.started": "2024-03-02T12:27:09.785284Z"
    }
   },
   "outputs": [],
   "source": [
    "import numpy as np\n",
    "import pandas as pd\n",
    "from tqdm.auto import tqdm\n",
    "import matplotlib.pyplot as plt\n",
    "import seaborn as sns\n",
    "from sklearn.feature_selection import RFE\n",
    "from mlxtend.evaluate import feature_importance_permutation\n",
    "from mlxtend.plotting import plot_sequential_feature_selection as plot_sfs\n",
    "from sklearn.utils.estimator_checks import check_estimator\n",
    "from sklearn.model_selection import cross_val_predict, train_test_split\n",
    "from sklearn.metrics import accuracy_score, f1_score, matthews_corrcoef\n",
    "import matplotlib.ticker as ticker\n",
    "import os\n",
    "from pathlib import Path\n",
    "import json\n",
    "\n",
    "import sys\n",
    "\n",
    "sys.path.append(\"scripts\")\n",
    "\n",
    "import utils\n",
    "import distclassipy as dcpy\n",
    "\n",
    "cd = dcpy.Distance()"
   ]
  },
  {
   "cell_type": "code",
   "execution_count": 2,
   "id": "6a6ba512-bafa-481b-8bb5-5e6971dd8f2a",
   "metadata": {
    "execution": {
     "iopub.execute_input": "2024-03-02T12:27:10.935228Z",
     "iopub.status.busy": "2024-03-02T12:27:10.935103Z",
     "iopub.status.idle": "2024-03-02T12:27:10.938057Z",
     "shell.execute_reply": "2024-03-02T12:27:10.937829Z",
     "shell.execute_reply.started": "2024-03-02T12:27:10.935219Z"
    }
   },
   "outputs": [],
   "source": [
    "with open(\"settings.txt\") as f:\n",
    "    settings_dict = json.load(f)\n",
    "np.random.seed(settings_dict[\"seed_choice\"])\n",
    "\n",
    "classification_letter = \"c\"\n",
    "classification_problem = settings_dict[\"classification_problem\"][classification_letter]\n",
    "classes_to_keep = settings_dict[\"classes_to_keep\"][classification_letter]\n",
    "results_subfolder = f\"{classification_letter}. {classification_problem}\"\n",
    "sns_dict = settings_dict[\"sns_dict\"]\n",
    "\n",
    "sns.set_theme(**sns_dict)"
   ]
  },
  {
   "cell_type": "code",
   "execution_count": 3,
   "id": "b275eea2-c714-46b2-bf9b-00817164bf7a",
   "metadata": {
    "execution": {
     "iopub.execute_input": "2024-03-02T12:27:10.938443Z",
     "iopub.status.busy": "2024-03-02T12:27:10.938361Z",
     "iopub.status.idle": "2024-03-02T12:27:11.068231Z",
     "shell.execute_reply": "2024-03-02T12:27:11.067892Z",
     "shell.execute_reply.started": "2024-03-02T12:27:10.938435Z"
    }
   },
   "outputs": [],
   "source": [
    "check_estimator(dcpy.DistanceMetricClassifier())  # passes"
   ]
  },
  {
   "cell_type": "code",
   "execution_count": 4,
   "id": "65a31dae-a482-479c-bcdf-1ca4d95badfc",
   "metadata": {
    "execution": {
     "iopub.execute_input": "2024-03-02T12:27:11.068808Z",
     "iopub.status.busy": "2024-03-02T12:27:11.068722Z",
     "iopub.status.idle": "2024-03-02T12:27:11.147162Z",
     "shell.execute_reply": "2024-03-02T12:27:11.146829Z",
     "shell.execute_reply.started": "2024-03-02T12:27:11.068800Z"
    }
   },
   "outputs": [],
   "source": [
    "# Load Data\n",
    "X_df_FULL = pd.read_csv(\"data/X_df.csv\", index_col=0)\n",
    "y_df_FULL = pd.read_csv(\"data/y_df.csv\", index_col=0)"
   ]
  },
  {
   "cell_type": "code",
   "execution_count": 5,
   "id": "ee43538c-8f9d-4bbb-953b-c4295407c846",
   "metadata": {
    "execution": {
     "iopub.execute_input": "2024-03-02T12:27:11.147732Z",
     "iopub.status.busy": "2024-03-02T12:27:11.147639Z",
     "iopub.status.idle": "2024-03-02T12:27:11.156366Z",
     "shell.execute_reply": "2024-03-02T12:27:11.155312Z",
     "shell.execute_reply.started": "2024-03-02T12:27:11.147723Z"
    }
   },
   "outputs": [
    {
     "data": {
      "text/plain": [
       "class\n",
       "SR       558\n",
       "DSCT     558\n",
       "CEP      558\n",
       "EW       558\n",
       "RR       558\n",
       "RSCVN    558\n",
       "BYDra    558\n",
       "RRc      558\n",
       "Mira     558\n",
       "EA       558\n",
       "Name: count, dtype: int64"
      ]
     },
     "execution_count": 5,
     "metadata": {},
     "output_type": "execute_result"
    }
   ],
   "source": [
    "y_df_FULL[\"class\"].value_counts()"
   ]
  },
  {
   "cell_type": "code",
   "execution_count": 6,
   "id": "f67c5d91-5e1b-4d79-aa35-49b58f7d1db9",
   "metadata": {
    "execution": {
     "iopub.execute_input": "2024-03-02T12:27:11.168881Z",
     "iopub.status.busy": "2024-03-02T12:27:11.166782Z",
     "iopub.status.idle": "2024-03-02T12:27:11.176080Z",
     "shell.execute_reply": "2024-03-02T12:27:11.175020Z",
     "shell.execute_reply.started": "2024-03-02T12:27:11.168856Z"
    }
   },
   "outputs": [
    {
     "name": "stdout",
     "output_type": "stream",
     "text": [
      "31\n"
     ]
    }
   ],
   "source": [
    "# Remove manually selected 'bad' features\n",
    "with open(os.path.join(\"results\", results_subfolder, \"drop_features.txt\")) as f:\n",
    "    bad_features = json.load(f)  # manually selected\n",
    "\n",
    "X_df_FULL = X_df_FULL.drop(bad_features, axis=1)\n",
    "\n",
    "print(X_df_FULL.shape[1])"
   ]
  },
  {
   "cell_type": "code",
   "execution_count": 7,
   "id": "fa5d12e6-d9a6-49fc-824e-99211c3476e8",
   "metadata": {
    "execution": {
     "iopub.execute_input": "2024-03-02T12:27:11.180069Z",
     "iopub.status.busy": "2024-03-02T12:27:11.178407Z",
     "iopub.status.idle": "2024-03-02T12:27:11.190323Z",
     "shell.execute_reply": "2024-03-02T12:27:11.189628Z",
     "shell.execute_reply.started": "2024-03-02T12:27:11.180048Z"
    }
   },
   "outputs": [],
   "source": [
    "# Keep only current classes\n",
    "cl_keep_str = \"_\".join(classes_to_keep)\n",
    "\n",
    "y_df = y_df_FULL[y_df_FULL[\"class\"].isin(classes_to_keep)]\n",
    "X_df = X_df_FULL.loc[y_df.index]\n",
    "X = X_df.to_numpy()\n",
    "y = y_df.to_numpy().ravel()"
   ]
  },
  {
   "cell_type": "code",
   "execution_count": 8,
   "id": "3c663feb-b106-498d-b118-09752e7ce818",
   "metadata": {
    "execution": {
     "iopub.execute_input": "2024-03-02T12:27:11.191080Z",
     "iopub.status.busy": "2024-03-02T12:27:11.190979Z",
     "iopub.status.idle": "2024-03-02T12:27:11.192857Z",
     "shell.execute_reply": "2024-03-02T12:27:11.192548Z",
     "shell.execute_reply.started": "2024-03-02T12:27:11.191070Z"
    }
   },
   "outputs": [],
   "source": [
    "feats_top_plot = 15\n",
    "### For plotting only - how many features to plot in relative importance"
   ]
  },
  {
   "cell_type": "markdown",
   "id": "2d8f111e-0df8-4fa3-a52f-5c6d40514794",
   "metadata": {},
   "source": [
    "### Distance Based"
   ]
  },
  {
   "cell_type": "code",
   "execution_count": 9,
   "id": "ea616efe-d234-40b0-880e-526d4f17d779",
   "metadata": {
    "execution": {
     "iopub.execute_input": "2024-03-02T12:27:11.194623Z",
     "iopub.status.busy": "2024-03-02T12:27:11.194518Z",
     "iopub.status.idle": "2024-03-02T12:27:11.196643Z",
     "shell.execute_reply": "2024-03-02T12:27:11.196319Z",
     "shell.execute_reply.started": "2024-03-02T12:27:11.194614Z"
    }
   },
   "outputs": [],
   "source": [
    "all_metrics = [\n",
    "    \"euclidean\",\n",
    "    \"braycurtis\",\n",
    "    \"canberra\",\n",
    "    \"cityblock\",\n",
    "    \"chebyshev\",\n",
    "    cd.clark,\n",
    "    \"correlation\",\n",
    "    \"cosine\",\n",
    "    cd.hellinger,\n",
    "    cd.jaccard,\n",
    "    cd.lorentzian,\n",
    "    cd.marylandbridge,\n",
    "    cd.meehl,\n",
    "    cd.motyka,\n",
    "    cd.soergel,\n",
    "    cd.wave_hedges,\n",
    "    cd.kulczynski,\n",
    "    cd.add_chisq,\n",
    "]\n",
    "\n",
    "scoring = \"f1_macro\"\n",
    "feats_to_keep = X_df_FULL.columns"
   ]
  },
  {
   "cell_type": "code",
   "execution_count": 10,
   "id": "45f6822e-403a-41fd-9320-7c843d45fd62",
   "metadata": {
    "execution": {
     "iopub.execute_input": "2024-03-02T12:27:11.197280Z",
     "iopub.status.busy": "2024-03-02T12:27:11.197193Z",
     "iopub.status.idle": "2024-03-02T12:27:11.198985Z",
     "shell.execute_reply": "2024-03-02T12:27:11.198654Z",
     "shell.execute_reply.started": "2024-03-02T12:27:11.197271Z"
    }
   },
   "outputs": [],
   "source": [
    "allns = []\n",
    "all_selected_scores = []\n",
    "all_metric_strs = []"
   ]
  },
  {
   "cell_type": "code",
   "execution_count": 11,
   "id": "b3885a12-8586-4874-9acf-573948ddf246",
   "metadata": {
    "execution": {
     "iopub.execute_input": "2024-03-02T12:27:45.278223Z",
     "iopub.status.busy": "2024-03-02T12:27:45.277631Z",
     "iopub.status.idle": "2024-03-02T12:27:46.286323Z",
     "shell.execute_reply": "2024-03-02T12:27:46.285810Z",
     "shell.execute_reply.started": "2024-03-02T12:27:45.278179Z"
    },
    "scrolled": true
   },
   "outputs": [
    {
     "data": {
      "application/vnd.jupyter.widget-view+json": {
       "model_id": "7f2e3fb3e3b74fa0812fa47df8615aac",
       "version_major": 2,
       "version_minor": 0
      },
      "text/plain": [
       "Metric:   0%|          | 0/2 [00:00<?, ?it/s]"
      ]
     },
     "metadata": {},
     "output_type": "display_data"
    },
    {
     "name": "stdout",
     "output_type": "stream",
     "text": [
      "******************** Euclidean ********************\n"
     ]
    },
    {
     "data": {
      "image/png": "[encoded data removed]",
      "text/plain": [
       "<Figure size 640x480 with 1 Axes>"
      ]
     },
     "metadata": {},
     "output_type": "display_data"
    },
    {
     "ename": "ValueError",
     "evalue": "when `importance_getter=='auto'`, the underlying estimator DistanceMetricClassifier should have `coef_` or `feature_importances_` attribute. Either pass a fitted estimator to feature selector or call fit before calling transform.",
     "output_type": "error",
     "traceback": [
      "\u001b[0;31m---------------------------------------------------------------------------\u001b[0m",
      "\u001b[0;31mValueError\u001b[0m                                Traceback (most recent call last)",
      "Cell \u001b[0;32mIn[11], line 68\u001b[0m\n\u001b[1;32m     56\u001b[0m lcdc \u001b[38;5;241m=\u001b[39m dcpy\u001b[38;5;241m.\u001b[39mDistanceMetricClassifier(\n\u001b[1;32m     57\u001b[0m     metric\u001b[38;5;241m=\u001b[39mmetric, scale_std\u001b[38;5;241m=\u001b[39m\u001b[38;5;28;01mTrue\u001b[39;00m, calculate_kde\u001b[38;5;241m=\u001b[39m\u001b[38;5;28;01mFalse\u001b[39;00m, calculate_1d_dist\u001b[38;5;241m=\u001b[39m\u001b[38;5;28;01mFalse\u001b[39;00m\n\u001b[1;32m     58\u001b[0m )\n\u001b[1;32m     61\u001b[0m n_features_to_select \u001b[38;5;241m=\u001b[39m \u001b[38;5;241m10\u001b[39m\n\u001b[1;32m     63\u001b[0m rfe \u001b[38;5;241m=\u001b[39m \u001b[43mRFE\u001b[49m\u001b[43m(\u001b[49m\n\u001b[1;32m     64\u001b[0m \u001b[43m    \u001b[49m\u001b[43mestimator\u001b[49m\u001b[38;5;241;43m=\u001b[39;49m\u001b[43mlcdc\u001b[49m\u001b[43m,\u001b[49m\n\u001b[1;32m     65\u001b[0m \u001b[43m    \u001b[49m\u001b[43mn_features_to_select\u001b[49m\u001b[38;5;241;43m=\u001b[39;49m\u001b[43mn_features_to_select\u001b[49m\u001b[43m,\u001b[49m\n\u001b[1;32m     66\u001b[0m \u001b[43m    \u001b[49m\u001b[43mstep\u001b[49m\u001b[38;5;241;43m=\u001b[39;49m\u001b[38;5;241;43m1\u001b[39;49m\u001b[43m,\u001b[49m\n\u001b[1;32m     67\u001b[0m \u001b[43m    \u001b[49m\u001b[43mverbose\u001b[49m\u001b[38;5;241;43m=\u001b[39;49m\u001b[38;5;241;43m0\u001b[39;49m\u001b[43m,\u001b[49m\n\u001b[0;32m---> 68\u001b[0m \u001b[43m\u001b[49m\u001b[43m)\u001b[49m\u001b[38;5;241;43m.\u001b[39;49m\u001b[43mfit\u001b[49m\u001b[43m(\u001b[49m\u001b[43mX_df\u001b[49m\u001b[38;5;241;43m.\u001b[39;49m\u001b[43mloc\u001b[49m\u001b[43m[\u001b[49m\u001b[43m:\u001b[49m\u001b[43m,\u001b[49m\u001b[43m \u001b[49m\u001b[43mfeats_to_keep\u001b[49m\u001b[43m]\u001b[49m\u001b[43m,\u001b[49m\u001b[43m \u001b[49m\u001b[43my\u001b[49m\u001b[43m)\u001b[49m\n\u001b[1;32m     70\u001b[0m \u001b[38;5;66;03m# Generating a mask of selected features\u001b[39;00m\n\u001b[1;32m     71\u001b[0m selected_features_mask \u001b[38;5;241m=\u001b[39m rfe\u001b[38;5;241m.\u001b[39msupport_\n",
      "File \u001b[0;32m~/miniconda3/lib/python3.12/site-packages/sklearn/base.py:1474\u001b[0m, in \u001b[0;36m_fit_context.<locals>.decorator.<locals>.wrapper\u001b[0;34m(estimator, *args, **kwargs)\u001b[0m\n\u001b[1;32m   1467\u001b[0m     estimator\u001b[38;5;241m.\u001b[39m_validate_params()\n\u001b[1;32m   1469\u001b[0m \u001b[38;5;28;01mwith\u001b[39;00m config_context(\n\u001b[1;32m   1470\u001b[0m     skip_parameter_validation\u001b[38;5;241m=\u001b[39m(\n\u001b[1;32m   1471\u001b[0m         prefer_skip_nested_validation \u001b[38;5;129;01mor\u001b[39;00m global_skip_validation\n\u001b[1;32m   1472\u001b[0m     )\n\u001b[1;32m   1473\u001b[0m ):\n\u001b[0;32m-> 1474\u001b[0m     \u001b[38;5;28;01mreturn\u001b[39;00m \u001b[43mfit_method\u001b[49m\u001b[43m(\u001b[49m\u001b[43mestimator\u001b[49m\u001b[43m,\u001b[49m\u001b[43m \u001b[49m\u001b[38;5;241;43m*\u001b[39;49m\u001b[43margs\u001b[49m\u001b[43m,\u001b[49m\u001b[43m \u001b[49m\u001b[38;5;241;43m*\u001b[39;49m\u001b[38;5;241;43m*\u001b[39;49m\u001b[43mkwargs\u001b[49m\u001b[43m)\u001b[49m\n",
      "File \u001b[0;32m~/miniconda3/lib/python3.12/site-packages/sklearn/feature_selection/_rfe.py:264\u001b[0m, in \u001b[0;36mRFE.fit\u001b[0;34m(self, X, y, **fit_params)\u001b[0m\n\u001b[1;32m    244\u001b[0m \u001b[38;5;250m\u001b[39m\u001b[38;5;124;03m\"\"\"Fit the RFE model and then the underlying estimator on the selected features.\u001b[39;00m\n\u001b[1;32m    245\u001b[0m \n\u001b[1;32m    246\u001b[0m \u001b[38;5;124;03mParameters\u001b[39;00m\n\u001b[0;32m   (...)\u001b[0m\n\u001b[1;32m    261\u001b[0m \u001b[38;5;124;03m    Fitted estimator.\u001b[39;00m\n\u001b[1;32m    262\u001b[0m \u001b[38;5;124;03m\"\"\"\u001b[39;00m\n\u001b[1;32m    263\u001b[0m _raise_for_unsupported_routing(\u001b[38;5;28mself\u001b[39m, \u001b[38;5;124m\"\u001b[39m\u001b[38;5;124mfit\u001b[39m\u001b[38;5;124m\"\u001b[39m, \u001b[38;5;241m*\u001b[39m\u001b[38;5;241m*\u001b[39mfit_params)\n\u001b[0;32m--> 264\u001b[0m \u001b[38;5;28;01mreturn\u001b[39;00m \u001b[38;5;28;43mself\u001b[39;49m\u001b[38;5;241;43m.\u001b[39;49m\u001b[43m_fit\u001b[49m\u001b[43m(\u001b[49m\u001b[43mX\u001b[49m\u001b[43m,\u001b[49m\u001b[43m \u001b[49m\u001b[43my\u001b[49m\u001b[43m,\u001b[49m\u001b[43m \u001b[49m\u001b[38;5;241;43m*\u001b[39;49m\u001b[38;5;241;43m*\u001b[39;49m\u001b[43mfit_params\u001b[49m\u001b[43m)\u001b[49m\n",
      "File \u001b[0;32m~/miniconda3/lib/python3.12/site-packages/sklearn/feature_selection/_rfe.py:314\u001b[0m, in \u001b[0;36mRFE._fit\u001b[0;34m(self, X, y, step_score, **fit_params)\u001b[0m\n\u001b[1;32m    311\u001b[0m estimator\u001b[38;5;241m.\u001b[39mfit(X[:, features], y, \u001b[38;5;241m*\u001b[39m\u001b[38;5;241m*\u001b[39mfit_params)\n\u001b[1;32m    313\u001b[0m \u001b[38;5;66;03m# Get importance and rank them\u001b[39;00m\n\u001b[0;32m--> 314\u001b[0m importances \u001b[38;5;241m=\u001b[39m \u001b[43m_get_feature_importances\u001b[49m\u001b[43m(\u001b[49m\n\u001b[1;32m    315\u001b[0m \u001b[43m    \u001b[49m\u001b[43mestimator\u001b[49m\u001b[43m,\u001b[49m\n\u001b[1;32m    316\u001b[0m \u001b[43m    \u001b[49m\u001b[38;5;28;43mself\u001b[39;49m\u001b[38;5;241;43m.\u001b[39;49m\u001b[43mimportance_getter\u001b[49m\u001b[43m,\u001b[49m\n\u001b[1;32m    317\u001b[0m \u001b[43m    \u001b[49m\u001b[43mtransform_func\u001b[49m\u001b[38;5;241;43m=\u001b[39;49m\u001b[38;5;124;43m\"\u001b[39;49m\u001b[38;5;124;43msquare\u001b[39;49m\u001b[38;5;124;43m\"\u001b[39;49m\u001b[43m,\u001b[49m\n\u001b[1;32m    318\u001b[0m \u001b[43m\u001b[49m\u001b[43m)\u001b[49m\n\u001b[1;32m    319\u001b[0m ranks \u001b[38;5;241m=\u001b[39m np\u001b[38;5;241m.\u001b[39margsort(importances)\n\u001b[1;32m    321\u001b[0m \u001b[38;5;66;03m# for sparse case ranks is matrix\u001b[39;00m\n",
      "File \u001b[0;32m~/miniconda3/lib/python3.12/site-packages/sklearn/feature_selection/_base.py:233\u001b[0m, in \u001b[0;36m_get_feature_importances\u001b[0;34m(estimator, getter, transform_func, norm_order)\u001b[0m\n\u001b[1;32m    231\u001b[0m         getter \u001b[38;5;241m=\u001b[39m attrgetter(\u001b[38;5;124m\"\u001b[39m\u001b[38;5;124mfeature_importances_\u001b[39m\u001b[38;5;124m\"\u001b[39m)\n\u001b[1;32m    232\u001b[0m     \u001b[38;5;28;01melse\u001b[39;00m:\n\u001b[0;32m--> 233\u001b[0m         \u001b[38;5;28;01mraise\u001b[39;00m \u001b[38;5;167;01mValueError\u001b[39;00m(\n\u001b[1;32m    234\u001b[0m             \u001b[38;5;124m\"\u001b[39m\u001b[38;5;124mwhen `importance_getter==\u001b[39m\u001b[38;5;124m'\u001b[39m\u001b[38;5;124mauto\u001b[39m\u001b[38;5;124m'\u001b[39m\u001b[38;5;124m`, the underlying \u001b[39m\u001b[38;5;124m\"\u001b[39m\n\u001b[1;32m    235\u001b[0m             \u001b[38;5;124mf\u001b[39m\u001b[38;5;124m\"\u001b[39m\u001b[38;5;124mestimator \u001b[39m\u001b[38;5;132;01m{\u001b[39;00mestimator\u001b[38;5;241m.\u001b[39m\u001b[38;5;18m__class__\u001b[39m\u001b[38;5;241m.\u001b[39m\u001b[38;5;18m__name__\u001b[39m\u001b[38;5;132;01m}\u001b[39;00m\u001b[38;5;124m should have \u001b[39m\u001b[38;5;124m\"\u001b[39m\n\u001b[1;32m    236\u001b[0m             \u001b[38;5;124m\"\u001b[39m\u001b[38;5;124m`coef_` or `feature_importances_` attribute. Either \u001b[39m\u001b[38;5;124m\"\u001b[39m\n\u001b[1;32m    237\u001b[0m             \u001b[38;5;124m\"\u001b[39m\u001b[38;5;124mpass a fitted estimator to feature selector or call fit \u001b[39m\u001b[38;5;124m\"\u001b[39m\n\u001b[1;32m    238\u001b[0m             \u001b[38;5;124m\"\u001b[39m\u001b[38;5;124mbefore calling transform.\u001b[39m\u001b[38;5;124m\"\u001b[39m\n\u001b[1;32m    239\u001b[0m         )\n\u001b[1;32m    240\u001b[0m \u001b[38;5;28;01melse\u001b[39;00m:\n\u001b[1;32m    241\u001b[0m     getter \u001b[38;5;241m=\u001b[39m attrgetter(getter)\n",
      "\u001b[0;31mValueError\u001b[0m: when `importance_getter=='auto'`, the underlying estimator DistanceMetricClassifier should have `coef_` or `feature_importances_` attribute. Either pass a fitted estimator to feature selector or call fit before calling transform."
     ]
    },
    {
     "name": "stdout",
     "output_type": "stream",
     "text": [
      "F1 = 91.88 %\n",
      "Accuracy = 91.85 %\n",
      "Matthew's Coefficient = 89.14 %\n"
     ]
    }
   ],
   "source": [
    "for metric in tqdm(all_metrics[:2], desc=\"Metric\", leave=True):\n",
    "    metric_str = utils.get_metric_name(metric)\n",
    "    locpath = os.path.join(\"results\", results_subfolder, \"distclassipy\", metric_str)\n",
    "    print(\"*\" * 20, metric_str, \"*\" * 20)\n",
    "    Path(locpath).mkdir(parents=True, exist_ok=True)\n",
    "\n",
    "    # Feature Importance via Feature Permutation\n",
    "\n",
    "    X_train, X_test, y_train, y_test = train_test_split(\n",
    "        X, y, test_size=0.33, stratify=y\n",
    "    )\n",
    "\n",
    "    lcdc = dcpy.DistanceMetricClassifier(\n",
    "        metric=metric, scale_std=True, calculate_kde=False, calculate_1d_dist=False\n",
    "    )\n",
    "    lcdc.fit(X_train, y_train)\n",
    "\n",
    "    imp_vals, imp_all = feature_importance_permutation(\n",
    "        predict_method=lcdc.predict,\n",
    "        X=X_test,\n",
    "        y=y_test,\n",
    "        metric=\"accuracy\",\n",
    "        num_rounds=10,\n",
    "        seed=settings_dict[\"seed_choice\"],\n",
    "    )\n",
    "\n",
    "    std = np.std(imp_all, axis=1)\n",
    "    indices = np.argsort(imp_vals)[::-1]\n",
    "\n",
    "    x_ax = range(X.shape[1])\n",
    "    y_ax = imp_vals[indices]\n",
    "    yerr = std[indices]\n",
    "    featnames = X_df.columns[indices]\n",
    "\n",
    "    fig, ax = plt.subplots()\n",
    "    ax.bar(x_ax[:feats_top_plot], y_ax[:feats_top_plot], yerr=yerr[:feats_top_plot])\n",
    "    ax.set_title(\n",
    "        f\"Top {feats_top_plot} features for distance classifier - {metric_str.title()} metric\"\n",
    "    )\n",
    "    ax.set_xticks(x_ax[:feats_top_plot], featnames[:feats_top_plot], rotation=90)\n",
    "    ax.set_xlabel(\"Feature Name\")\n",
    "    ax.set_ylabel(\"Relative Importance\")\n",
    "\n",
    "    # ax.set_xlim([-1, X.shape[1]])\n",
    "    # plt.savefig(f\"{locpath}/feature_importance.pdf\", bbox_inches=\"tight\")\n",
    "    plt.show()\n",
    "\n",
    "    featimp_df = pd.DataFrame(\n",
    "        data=y_ax, index=featnames, columns=[\"Relative Importance\"]\n",
    "    )\n",
    "    featimp_df.index.name = \"Feature Name\"\n",
    "    # featimp_df.to_csv(f\"{locpath}/feature_importance.csv\")\n",
    "\n",
    "    # Sequential Feature Selection 1-31 features\n",
    "\n",
    "    lcdc = dcpy.DistanceMetricClassifier(\n",
    "        metric=metric, scale_std=True, calculate_kde=False, calculate_1d_dist=False\n",
    "    )\n",
    "\n",
    "\n",
    "    n_features_to_select = 10\n",
    "\n",
    "    rfe = RFE(\n",
    "        estimator=lcdc,\n",
    "        n_features_to_select=n_features_to_select,\n",
    "        step=1,\n",
    "        verbose=0,\n",
    "    ).fit(X_df.loc[:, feats_to_keep], y)\n",
    "\n",
    "    # Generating a mask of selected features\n",
    "    selected_features_mask = rfe.support_\n",
    "    selected_features = X_df.columns[selected_features_mask]\n",
    "\n",
    "    # Creating a DataFrame to display selected features and their rankings\n",
    "    selected_features_df = pd.DataFrame(\n",
    "        {\n",
    "            \"Feature Name\": X_df.columns,\n",
    "            \"Selected\": selected_features_mask,\n",
    "            \"Ranking\": rfe.ranking_,\n",
    "        }\n",
    "    )\n",
    "    selected_features_df = selected_features_df.sort_values(by=\"Ranking\")\n",
    "    selected_features_df.to_csv(f\"{locpath}/rfe_selected_features.csv\")\n",
    "\n",
    "    # Plotting the selected features (if needed, adjust or remove plotting as per requirements)\n",
    "    fig, ax = plt.subplots()\n",
    "    selected_features_df[selected_features_df[\"Selected\"]].plot(\n",
    "        kind=\"barh\", x=\"Feature Name\", y=\"Ranking\", ax=ax, color=sns.color_palette()[0]\n",
    "    )\n",
    "    ax.set_title(\"Selected Features by RFE\")\n",
    "    plt.savefig(f\"{locpath}/rfe_selected_features_plot.pdf\", bbox_inches=\"tight\")\n",
    "    plt.show()\n",
    "\n",
    "    # # Reloading to\n",
    "    # sfs_df = pd.read_csv(f\"{locpath}/sfs_allfeatures.csv\", index_col=0)\n",
    "    # feats_idx, feats = utils.load_best_features(sfs_df)\n",
    "\n",
    "    # print(f\"{metric_str}: Selected {len(feats)} features: {feats}\")\n",
    "    # plt.axvline(x=len(feats), color=sns.color_palette()[3], label=\"Selected features\")\n",
    "    # # plt.legend()\n",
    "    # plt.savefig(f\"{locpath}/sfs_allfeatures_plot_marked.pdf\", bbox_inches=\"tight\")\n",
    "    # plt.show()\n",
    "\n",
    "    # # Using the Selected Feature Subset For Making New Predictions\n",
    "\n",
    "    # # Cross validation\n",
    "    # lcdc = dcpy.DistanceMetricClassifier(\n",
    "    #     metric=metric, scale_std=True, calculate_kde=False, calculate_1d_dist=False\n",
    "    # )\n",
    "    # X_sfs = X[:, feats_idx]\n",
    "    # y_pred = cross_val_predict(lcdc, X_sfs, y, cv=5, n_jobs=-1)\n",
    "\n",
    "    # acc = accuracy_score(y, y_pred)\n",
    "    # f1score = f1_score(y, y_pred, average=\"macro\")\n",
    "    # matthew_coef = matthews_corrcoef(y, y_pred)\n",
    "\n",
    "    # ax = utils.plot_cm(y_true=y, y_pred=y_pred)\n",
    "    # ax.set_title(f\"{metric_str.title()} metric\")\n",
    "    # plt.savefig(f\"{locpath}/sfs_best_confusion_matrix.pdf\", bbox_inches=\"tight\")\n",
    "    # plt.show()\n",
    "\n",
    "    # dat = np.hstack([y_pred.reshape(-1, 1), y.reshape(-1, 1)])\n",
    "    # objs = X_df.index\n",
    "    # preds_best_df = pd.DataFrame(data=dat, columns=[\"y_pred\", \"y_true\"], index=objs)\n",
    "    # preds_best_df.to_csv(f\"{locpath}/preds_best.csv\")\n",
    "\n",
    "    # print(\n",
    "    #     f\"F1 = {f1score*100:.2f} %\\nAccuracy = {acc*100:.2f} %\\nMatthew's Coefficient = {matthew_coef*100:.2f} %\"\n",
    "    # )\n",
    "\n",
    "    # ## new\n",
    "    # allns.append(len(feats))\n",
    "    # all_selected_scores.append(f1score)\n",
    "    # all_metric_strs.append(metric_str)\n",
    "\n",
    "    # # Confidence calculation\n",
    "\n",
    "    # lcdc = dcpy.DistanceMetricClassifier(\n",
    "    #     metric=metric, scale_std=True, calculate_kde=True, calculate_1d_dist=True\n",
    "    # )\n",
    "\n",
    "    # X_train, X_test, y_train, y_test = train_test_split(\n",
    "    #     X_sfs, y, test_size=0.33, random_state=settings_dict[\"seed_choice\"]\n",
    "    # )\n",
    "\n",
    "    # lcdc.fit(X_train, y_train)\n",
    "\n",
    "    # y_pred_test = lcdc.predict_and_analyse(X_test)\n",
    "    # y_testdf = pd.DataFrame(data=y_test, columns=[\"class\"])\n",
    "    # y_testdf[\"pred\"] = y_pred_test\n",
    "    # y_testdf.to_csv(f\"{locpath}/testpreds_class.csv\")\n",
    "\n",
    "    # lcdc.df_canonical_.to_csv(f\"{locpath}/df_canonical.csv\")\n",
    "    # lcdc.canonical_dist_df_.to_csv(f\"{locpath}/canonical_dist_df.csv\")\n",
    "    # lcdc.df_std_.to_csv(f\"{locpath}/df_std.csv\")\n",
    "\n",
    "    # lcdc.calculate_confidence(method=\"distance_inverse\")\n",
    "    # lcdc.confidence_df_.to_csv(f\"{locpath}/distance_inverse_confidence.csv\")\n",
    "\n",
    "    # lcdc.calculate_confidence(method=\"kde_likelihood\")\n",
    "    # lcdc.confidence_df_.to_csv(f\"{locpath}/kde_likelihood_confidence.csv\")\n",
    "\n",
    "    # lcdc.calculate_confidence(method=\"1d_distance_inverse\")\n",
    "    # lcdc.confidence_df_.to_csv(f\"{locpath}/1d_distance_inverse_confidence.csv\")"
   ]
  },
  {
   "cell_type": "code",
   "execution_count": 12,
   "id": "ca416f72-fb02-4190-a6c3-11f9df7e39d2",
   "metadata": {
    "execution": {
     "iopub.execute_input": "2024-02-29T08:59:30.752974Z",
     "iopub.status.busy": "2024-02-29T08:59:30.752850Z",
     "iopub.status.idle": "2024-02-29T08:59:30.760958Z",
     "shell.execute_reply": "2024-02-29T08:59:30.760600Z",
     "shell.execute_reply.started": "2024-02-29T08:59:30.752964Z"
    }
   },
   "outputs": [
    {
     "data": {
      "text/html": [
       "<div>\n",
       "<style scoped>\n",
       "    .dataframe tbody tr th:only-of-type {\n",
       "        vertical-align: middle;\n",
       "    }\n",
       "\n",
       "    .dataframe tbody tr th {\n",
       "        vertical-align: top;\n",
       "    }\n",
       "\n",
       "    .dataframe thead th {\n",
       "        text-align: right;\n",
       "    }\n",
       "</style>\n",
       "<table border=\"1\" class=\"dataframe\">\n",
       "  <thead>\n",
       "    <tr style=\"text-align: right;\">\n",
       "      <th></th>\n",
       "      <th>Number of selected features</th>\n",
       "      <th>Selected F1 Score</th>\n",
       "    </tr>\n",
       "  </thead>\n",
       "  <tbody>\n",
       "    <tr>\n",
       "      <th>Euclidean</th>\n",
       "      <td>4.0</td>\n",
       "      <td>0.800426</td>\n",
       "    </tr>\n",
       "    <tr>\n",
       "      <th>Braycurtis</th>\n",
       "      <td>4.0</td>\n",
       "      <td>0.904295</td>\n",
       "    </tr>\n",
       "    <tr>\n",
       "      <th>Canberra</th>\n",
       "      <td>3.0</td>\n",
       "      <td>0.912266</td>\n",
       "    </tr>\n",
       "    <tr>\n",
       "      <th>Cityblock</th>\n",
       "      <td>4.0</td>\n",
       "      <td>0.849936</td>\n",
       "    </tr>\n",
       "    <tr>\n",
       "      <th>Chebyshev</th>\n",
       "      <td>4.0</td>\n",
       "      <td>0.764234</td>\n",
       "    </tr>\n",
       "    <tr>\n",
       "      <th>Clark</th>\n",
       "      <td>6.0</td>\n",
       "      <td>0.919913</td>\n",
       "    </tr>\n",
       "    <tr>\n",
       "      <th>Correlation</th>\n",
       "      <td>20.0</td>\n",
       "      <td>0.809610</td>\n",
       "    </tr>\n",
       "    <tr>\n",
       "      <th>Cosine</th>\n",
       "      <td>10.0</td>\n",
       "      <td>0.840039</td>\n",
       "    </tr>\n",
       "    <tr>\n",
       "      <th>Hellinger</th>\n",
       "      <td>2.0</td>\n",
       "      <td>0.917967</td>\n",
       "    </tr>\n",
       "    <tr>\n",
       "      <th>Jaccard</th>\n",
       "      <td>1.0</td>\n",
       "      <td>0.889726</td>\n",
       "    </tr>\n",
       "    <tr>\n",
       "      <th>Lorentzian</th>\n",
       "      <td>4.0</td>\n",
       "      <td>0.868607</td>\n",
       "    </tr>\n",
       "    <tr>\n",
       "      <th>Marylandbridge</th>\n",
       "      <td>16.0</td>\n",
       "      <td>0.746742</td>\n",
       "    </tr>\n",
       "    <tr>\n",
       "      <th>Meehl</th>\n",
       "      <td>7.0</td>\n",
       "      <td>0.796899</td>\n",
       "    </tr>\n",
       "    <tr>\n",
       "      <th>Motyka</th>\n",
       "      <td>4.0</td>\n",
       "      <td>0.904295</td>\n",
       "    </tr>\n",
       "    <tr>\n",
       "      <th>Soergel</th>\n",
       "      <td>4.0</td>\n",
       "      <td>0.904295</td>\n",
       "    </tr>\n",
       "    <tr>\n",
       "      <th>Wave_Hedges</th>\n",
       "      <td>7.0</td>\n",
       "      <td>0.906828</td>\n",
       "    </tr>\n",
       "    <tr>\n",
       "      <th>Kulczynski</th>\n",
       "      <td>4.0</td>\n",
       "      <td>0.904295</td>\n",
       "    </tr>\n",
       "    <tr>\n",
       "      <th>Add_Chisq</th>\n",
       "      <td>2.0</td>\n",
       "      <td>0.918794</td>\n",
       "    </tr>\n",
       "  </tbody>\n",
       "</table>\n",
       "</div>"
      ],
      "text/plain": [
       "                Number of selected features  Selected F1 Score\n",
       "Euclidean                               4.0           0.800426\n",
       "Braycurtis                              4.0           0.904295\n",
       "Canberra                                3.0           0.912266\n",
       "Cityblock                               4.0           0.849936\n",
       "Chebyshev                               4.0           0.764234\n",
       "Clark                                   6.0           0.919913\n",
       "Correlation                            20.0           0.809610\n",
       "Cosine                                 10.0           0.840039\n",
       "Hellinger                               2.0           0.917967\n",
       "Jaccard                                 1.0           0.889726\n",
       "Lorentzian                              4.0           0.868607\n",
       "Marylandbridge                         16.0           0.746742\n",
       "Meehl                                   7.0           0.796899\n",
       "Motyka                                  4.0           0.904295\n",
       "Soergel                                 4.0           0.904295\n",
       "Wave_Hedges                             7.0           0.906828\n",
       "Kulczynski                              4.0           0.904295\n",
       "Add_Chisq                               2.0           0.918794"
      ]
     },
     "execution_count": 12,
     "metadata": {},
     "output_type": "execute_result"
    }
   ],
   "source": [
    "summaryqdf = pd.DataFrame(\n",
    "    data=np.array([allns, all_selected_scores]).T,\n",
    "    index=all_metric_strs,\n",
    "    columns=[\"Number of selected features\", \"Selected F1 Score\"],\n",
    ")\n",
    "summaryqdf.to_csv(\n",
    "    os.path.join(\n",
    "        \"results\", results_subfolder, \"distclassipy\", \"summary_scores_q1q5.csv\"\n",
    "    )\n",
    ")\n",
    "summaryqdf"
   ]
  },
  {
   "cell_type": "code",
   "execution_count": 13,
   "id": "9111e5c6-6ecb-4a6a-9c31-9604f92e21ac",
   "metadata": {
    "execution": {
     "iopub.execute_input": "2024-02-29T08:59:30.762663Z",
     "iopub.status.busy": "2024-02-29T08:59:30.761648Z",
     "iopub.status.idle": "2024-02-29T08:59:30.844238Z",
     "shell.execute_reply": "2024-02-29T08:59:30.840756Z",
     "shell.execute_reply.started": "2024-02-29T08:59:30.762384Z"
    }
   },
   "outputs": [
    {
     "data": {
      "text/html": [
       "<div>\n",
       "<style scoped>\n",
       "    .dataframe tbody tr th:only-of-type {\n",
       "        vertical-align: middle;\n",
       "    }\n",
       "\n",
       "    .dataframe tbody tr th {\n",
       "        vertical-align: top;\n",
       "    }\n",
       "\n",
       "    .dataframe thead th {\n",
       "        text-align: right;\n",
       "    }\n",
       "</style>\n",
       "<table border=\"1\" class=\"dataframe\">\n",
       "  <thead>\n",
       "    <tr style=\"text-align: right;\">\n",
       "      <th></th>\n",
       "      <th>Number of selected features</th>\n",
       "      <th>Selected F1 Score</th>\n",
       "    </tr>\n",
       "  </thead>\n",
       "  <tbody>\n",
       "    <tr>\n",
       "      <th>count</th>\n",
       "      <td>18.000000</td>\n",
       "      <td>18.000000</td>\n",
       "    </tr>\n",
       "    <tr>\n",
       "      <th>mean</th>\n",
       "      <td>5.888889</td>\n",
       "      <td>0.864398</td>\n",
       "    </tr>\n",
       "    <tr>\n",
       "      <th>std</th>\n",
       "      <td>4.921608</td>\n",
       "      <td>0.057577</td>\n",
       "    </tr>\n",
       "    <tr>\n",
       "      <th>min</th>\n",
       "      <td>1.000000</td>\n",
       "      <td>0.746742</td>\n",
       "    </tr>\n",
       "    <tr>\n",
       "      <th>25%</th>\n",
       "      <td>4.000000</td>\n",
       "      <td>0.817218</td>\n",
       "    </tr>\n",
       "    <tr>\n",
       "      <th>50%</th>\n",
       "      <td>4.000000</td>\n",
       "      <td>0.897011</td>\n",
       "    </tr>\n",
       "    <tr>\n",
       "      <th>75%</th>\n",
       "      <td>6.750000</td>\n",
       "      <td>0.906195</td>\n",
       "    </tr>\n",
       "    <tr>\n",
       "      <th>max</th>\n",
       "      <td>20.000000</td>\n",
       "      <td>0.919913</td>\n",
       "    </tr>\n",
       "  </tbody>\n",
       "</table>\n",
       "</div>"
      ],
      "text/plain": [
       "       Number of selected features  Selected F1 Score\n",
       "count                    18.000000          18.000000\n",
       "mean                      5.888889           0.864398\n",
       "std                       4.921608           0.057577\n",
       "min                       1.000000           0.746742\n",
       "25%                       4.000000           0.817218\n",
       "50%                       4.000000           0.897011\n",
       "75%                       6.750000           0.906195\n",
       "max                      20.000000           0.919913"
      ]
     },
     "execution_count": 13,
     "metadata": {},
     "output_type": "execute_result"
    }
   ],
   "source": [
    "summaryqdf.describe()"
   ]
  }
 ],
 "metadata": {
  "kernelspec": {
   "display_name": "Python 3 (ipykernel)",
   "language": "python",
   "name": "python3"
  },
  "language_info": {
   "codemirror_mode": {
    "name": "ipython",
    "version": 3
   },
   "file_extension": ".py",
   "mimetype": "text/x-python",
   "name": "python",
   "nbconvert_exporter": "python",
   "pygments_lexer": "ipython3",
   "version": "3.12.1"
  }
 },
 "nbformat": 4,
 "nbformat_minor": 5
}
