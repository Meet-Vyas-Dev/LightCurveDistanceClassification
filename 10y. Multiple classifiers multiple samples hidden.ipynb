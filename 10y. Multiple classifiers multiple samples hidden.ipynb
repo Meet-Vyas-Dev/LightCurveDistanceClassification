{
 "cells": [
  {
   "cell_type": "markdown",
   "id": "00d1b80c-d904-4986-91e2-123eee7a2ad6",
   "metadata": {},
   "source": [
    "### 0. Prereqs"
   ]
  },
  {
   "cell_type": "code",
   "execution_count": 1,
   "id": "6fd60258-b88d-42bc-adc8-7d760c50cb58",
   "metadata": {
    "execution": {
     "iopub.execute_input": "2024-03-05T16:43:06.697925Z",
     "iopub.status.busy": "2024-03-05T16:43:06.697812Z",
     "iopub.status.idle": "2024-03-05T16:43:08.718949Z",
     "shell.execute_reply": "2024-03-05T16:43:08.716376Z",
     "shell.execute_reply.started": "2024-03-05T16:43:06.697914Z"
    }
   },
   "outputs": [],
   "source": [
    "import numpy as np\n",
    "import pandas as pd\n",
    "from tqdm.auto import tqdm\n",
    "import matplotlib.pyplot as plt\n",
    "import seaborn as sns\n",
    "from mlxtend.feature_selection import (\n",
    "    SequentialFeatureSelector,\n",
    ")\n",
    "from mlxtend.evaluate import feature_importance_permutation\n",
    "from mlxtend.plotting import plot_sequential_feature_selection as plot_sfs\n",
    "from sklearn.utils.estimator_checks import check_estimator\n",
    "from sklearn.ensemble import RandomForestClassifier\n",
    "from sklearn.model_selection import cross_val_predict, train_test_split\n",
    "from sklearn.metrics import accuracy_score, f1_score, matthews_corrcoef\n",
    "import matplotlib.ticker as ticker\n",
    "import os\n",
    "from pathlib import Path\n",
    "import json\n",
    "\n",
    "import sys\n",
    "\n",
    "sys.path.append(\"scripts\")\n",
    "\n",
    "import utils\n",
    "import distclassipy as dcpy\n",
    "\n",
    "cd = dcpy.Distance()"
   ]
  },
  {
   "cell_type": "code",
   "execution_count": 2,
   "id": "6a6ba512-bafa-481b-8bb5-5e6971dd8f2a",
   "metadata": {
    "execution": {
     "iopub.execute_input": "2024-03-05T16:43:08.727280Z",
     "iopub.status.busy": "2024-03-05T16:43:08.725758Z",
     "iopub.status.idle": "2024-03-05T16:43:08.734287Z",
     "shell.execute_reply": "2024-03-05T16:43:08.733872Z",
     "shell.execute_reply.started": "2024-03-05T16:43:08.727259Z"
    }
   },
   "outputs": [],
   "source": [
    "with open(\"settings.txt\") as f:\n",
    "    settings_dict = json.load(f)\n",
    "np.random.seed(settings_dict[\"seed_choice\"])\n",
    "\n",
    "classification_letter = \"c\"\n",
    "classification_problem = settings_dict[\"classification_problem\"][classification_letter]\n",
    "classes_to_keep = settings_dict[\"classes_to_keep\"][classification_letter]\n",
    "results_subfolder = f\"{classification_letter}. {classification_problem}\"\n",
    "sns_dict = settings_dict[\"sns_dict\"]\n",
    "\n",
    "sns.set_theme(**sns_dict)"
   ]
  },
  {
   "cell_type": "code",
   "execution_count": 3,
   "id": "65a31dae-a482-479c-bcdf-1ca4d95badfc",
   "metadata": {
    "execution": {
     "iopub.execute_input": "2024-03-05T16:43:08.735042Z",
     "iopub.status.busy": "2024-03-05T16:43:08.734891Z",
     "iopub.status.idle": "2024-03-05T16:43:08.851644Z",
     "shell.execute_reply": "2024-03-05T16:43:08.850978Z",
     "shell.execute_reply.started": "2024-03-05T16:43:08.735024Z"
    }
   },
   "outputs": [],
   "source": [
    "# Load Data\n",
    "X_df_FULL = pd.read_csv(\"data/X_df.csv\", index_col=0)\n",
    "y_df_FULL = pd.read_csv(\"data/y_df.csv\", index_col=0)"
   ]
  },
  {
   "cell_type": "code",
   "execution_count": 4,
   "id": "71011c80-68da-400a-bbad-f610706a972f",
   "metadata": {
    "execution": {
     "iopub.execute_input": "2024-03-05T16:43:08.856844Z",
     "iopub.status.busy": "2024-03-05T16:43:08.854568Z",
     "iopub.status.idle": "2024-03-05T16:43:08.862301Z",
     "shell.execute_reply": "2024-03-05T16:43:08.861999Z",
     "shell.execute_reply.started": "2024-03-05T16:43:08.856827Z"
    }
   },
   "outputs": [
    {
     "name": "stdout",
     "output_type": "stream",
     "text": [
      "31\n"
     ]
    }
   ],
   "source": [
    "# Remove features to be dropped from previous notebook\n",
    "with open(os.path.join(\"results\", results_subfolder, \"drop_features.txt\")) as f:\n",
    "    bad_features = json.load(f)  # manually selected\n",
    "\n",
    "X_df_FULL = X_df_FULL.drop(bad_features, axis=1)\n",
    "\n",
    "print(X_df_FULL.shape[1])"
   ]
  },
  {
   "cell_type": "code",
   "execution_count": 5,
   "id": "fa5d12e6-d9a6-49fc-824e-99211c3476e8",
   "metadata": {
    "execution": {
     "iopub.execute_input": "2024-03-05T16:43:08.877087Z",
     "iopub.status.busy": "2024-03-05T16:43:08.872232Z",
     "iopub.status.idle": "2024-03-05T16:43:08.885060Z",
     "shell.execute_reply": "2024-03-05T16:43:08.884219Z",
     "shell.execute_reply.started": "2024-03-05T16:43:08.877065Z"
    }
   },
   "outputs": [],
   "source": [
    "# Keep only current classes\n",
    "cl_keep_str = \"_\".join(classes_to_keep)\n",
    "\n",
    "y_df = y_df_FULL[y_df_FULL[\"class\"].isin(classes_to_keep)]\n",
    "X_df = X_df_FULL.loc[y_df.index]\n",
    "X = X_df.to_numpy()\n",
    "y = y_df.to_numpy().ravel()"
   ]
  },
  {
   "cell_type": "code",
   "execution_count": 6,
   "id": "309cbd3f-e837-4d62-80f2-82b85e08e09d",
   "metadata": {
    "execution": {
     "iopub.execute_input": "2024-03-05T16:43:08.888412Z",
     "iopub.status.busy": "2024-03-05T16:43:08.888176Z",
     "iopub.status.idle": "2024-03-05T16:43:08.891931Z",
     "shell.execute_reply": "2024-03-05T16:43:08.891622Z",
     "shell.execute_reply.started": "2024-03-05T16:43:08.888397Z"
    },
    "tags": []
   },
   "outputs": [],
   "source": [
    "with open(os.path.join(\"results\", results_subfolder, \"best_common_features.txt\")) as f:\n",
    "    best_common_features = json.load(f)"
   ]
  },
  {
   "cell_type": "code",
   "execution_count": 7,
   "id": "dcd8202f-f2ce-4e10-9fc9-6118f70b9d51",
   "metadata": {
    "execution": {
     "iopub.execute_input": "2024-03-05T16:43:08.892660Z",
     "iopub.status.busy": "2024-03-05T16:43:08.892567Z",
     "iopub.status.idle": "2024-03-05T16:43:08.894979Z",
     "shell.execute_reply": "2024-03-05T16:43:08.894606Z",
     "shell.execute_reply.started": "2024-03-05T16:43:08.892650Z"
    },
    "tags": []
   },
   "outputs": [],
   "source": [
    "all_metrics = [\n",
    "    \"euclidean\",\n",
    "    \"braycurtis\",\n",
    "    \"canberra\",\n",
    "    \"cityblock\",\n",
    "    \"chebyshev\",\n",
    "    cd.clark,\n",
    "    \"correlation\",\n",
    "    \"cosine\",\n",
    "    cd.hellinger,\n",
    "    cd.jaccard,\n",
    "    cd.lorentzian,\n",
    "    cd.marylandbridge,\n",
    "    cd.meehl,\n",
    "    cd.motyka,\n",
    "    cd.soergel,\n",
    "    cd.wave_hedges,\n",
    "    cd.kulczynski,\n",
    "    cd.add_chisq,\n",
    "]"
   ]
  },
  {
   "cell_type": "markdown",
   "id": "339b4ae4-bcf0-497e-97b1-12bea10418bb",
   "metadata": {},
   "source": [
    "---\n",
    "### TEMP\n",
    "---\n"
   ]
  },
  {
   "cell_type": "code",
   "execution_count": 8,
   "id": "0af5e33f-0935-49c7-a1f4-5f723d1c3210",
   "metadata": {
    "execution": {
     "iopub.execute_input": "2024-03-05T16:43:08.895601Z",
     "iopub.status.busy": "2024-03-05T16:43:08.895505Z",
     "iopub.status.idle": "2024-03-05T16:43:08.898199Z",
     "shell.execute_reply": "2024-03-05T16:43:08.897842Z",
     "shell.execute_reply.started": "2024-03-05T16:43:08.895592Z"
    }
   },
   "outputs": [],
   "source": [
    "metric = \"canberra\""
   ]
  },
  {
   "cell_type": "code",
   "execution_count": 9,
   "id": "53e2910b-4b98-4b7c-917d-df46e3f21b26",
   "metadata": {
    "execution": {
     "iopub.execute_input": "2024-03-05T16:43:08.899146Z",
     "iopub.status.busy": "2024-03-05T16:43:08.898981Z",
     "iopub.status.idle": "2024-03-05T16:43:08.901187Z",
     "shell.execute_reply": "2024-03-05T16:43:08.900832Z",
     "shell.execute_reply.started": "2024-03-05T16:43:08.899129Z"
    }
   },
   "outputs": [
    {
     "name": "stdout",
     "output_type": "stream",
     "text": [
      "******************** Canberra ********************\n"
     ]
    }
   ],
   "source": [
    "metric_str = utils.get_metric_name(metric)\n",
    "print(\"*\" * 20, metric_str, \"*\" * 20)"
   ]
  },
  {
   "cell_type": "code",
   "execution_count": 10,
   "id": "3e8098cb-60ea-489e-a86e-0187fcbcd75b",
   "metadata": {
    "execution": {
     "iopub.execute_input": "2024-03-05T16:43:08.901837Z",
     "iopub.status.busy": "2024-03-05T16:43:08.901697Z",
     "iopub.status.idle": "2024-03-05T16:43:08.904686Z",
     "shell.execute_reply": "2024-03-05T16:43:08.904090Z",
     "shell.execute_reply.started": "2024-03-05T16:43:08.901822Z"
    }
   },
   "outputs": [],
   "source": [
    "lcdc1 = dcpy.DistanceMetricClassifier(\n",
    "    metric=metric, scale=True, \n",
    "    central_stat=settings_dict[\"central_stat\"], \n",
    "    dispersion_stat=settings_dict[\"dispersion_stat\"],\n",
    "    calculate_kde=False, calculate_1d_dist=False\n",
    ")\n",
    "\n",
    "lcdc2 = dcpy.DistanceMetricClassifier(\n",
    "    metric=metric, scale=True, \n",
    "    central_stat=settings_dict[\"central_stat\"], \n",
    "    dispersion_stat=settings_dict[\"dispersion_stat\"],\n",
    "    calculate_kde=False, calculate_1d_dist=False\n",
    ")\n"
   ]
  },
  {
   "cell_type": "code",
   "execution_count": 11,
   "id": "25b31e35-d399-44fd-a7d9-72802f622891",
   "metadata": {
    "execution": {
     "iopub.execute_input": "2024-03-05T16:43:08.905456Z",
     "iopub.status.busy": "2024-03-05T16:43:08.905367Z",
     "iopub.status.idle": "2024-03-05T16:43:08.912268Z",
     "shell.execute_reply": "2024-03-05T16:43:08.910496Z",
     "shell.execute_reply.started": "2024-03-05T16:43:08.905447Z"
    }
   },
   "outputs": [],
   "source": [
    "X1, X2, y1, y2 = train_test_split(\n",
    "        X_df, y_df, test_size=0.5, stratify=y, random_state=settings_dict[\"seed_choice\"]\n",
    "    )"
   ]
  },
  {
   "cell_type": "code",
   "execution_count": 12,
   "id": "fd9c4c22-b51b-4b46-92a8-6e71436f68a5",
   "metadata": {
    "execution": {
     "iopub.execute_input": "2024-03-05T16:43:08.915093Z",
     "iopub.status.busy": "2024-03-05T16:43:08.913776Z",
     "iopub.status.idle": "2024-03-05T16:43:26.935679Z",
     "shell.execute_reply": "2024-03-05T16:43:26.933030Z",
     "shell.execute_reply.started": "2024-03-05T16:43:08.915075Z"
    },
    "scrolled": true
   },
   "outputs": [],
   "source": [
    "scoring = \"f1_macro\"\n",
    "\n",
    "# Sequential Feature Selection first classifier\n",
    "feat_selector1 = SequentialFeatureSelector(\n",
    "    lcdc1,\n",
    "    k_features=X1.shape[1],\n",
    "    scoring=scoring,\n",
    "    forward=True,\n",
    "    n_jobs=-1,\n",
    "    verbose=0,\n",
    ").fit(X1, y1)\n",
    "\n",
    "# Sequential Feature Selection second classifier\n",
    "feat_selector2 = SequentialFeatureSelector(\n",
    "    lcdc2,\n",
    "    k_features=X2.shape[1],\n",
    "    scoring=scoring,\n",
    "    forward=True,\n",
    "    n_jobs=-1,\n",
    "    verbose=0,\n",
    ").fit(X2, y2)\n"
   ]
  },
  {
   "cell_type": "code",
   "execution_count": 13,
   "id": "dabf0d30-075c-413b-b29c-e9e04bb04ef2",
   "metadata": {
    "execution": {
     "iopub.execute_input": "2024-03-05T16:43:26.940229Z",
     "iopub.status.busy": "2024-03-05T16:43:26.939771Z",
     "iopub.status.idle": "2024-03-05T16:43:26.986042Z",
     "shell.execute_reply": "2024-03-05T16:43:26.985684Z",
     "shell.execute_reply.started": "2024-03-05T16:43:26.940210Z"
    }
   },
   "outputs": [],
   "source": [
    "res_df1 = pd.DataFrame.from_dict(feat_selector1.get_metric_dict()).T\n",
    "res_df1.index.name = \"num_feats\"\n",
    "res_df1[\"avg_score\"] = res_df1[\"avg_score\"].astype(\"float\")\n",
    "res_df1 = res_df1.sort_values(by=\"avg_score\", ascending=False)\n",
    "res_df1.to_csv(\".tempres_df1.csv\")\n",
    "\n",
    "res_df2 = pd.DataFrame.from_dict(feat_selector2.get_metric_dict()).T\n",
    "res_df2.index.name = \"num_feats\"\n",
    "res_df2[\"avg_score\"] = res_df2[\"avg_score\"].astype(\"float\")\n",
    "res_df2 = res_df2.sort_values(by=\"avg_score\", ascending=False)\n",
    "res_df2.to_csv(\".tempres_df2.csv\")"
   ]
  },
  {
   "cell_type": "code",
   "execution_count": 14,
   "id": "65764781-aeae-48f4-9384-49905763fcf1",
   "metadata": {
    "execution": {
     "iopub.execute_input": "2024-03-05T16:43:26.987581Z",
     "iopub.status.busy": "2024-03-05T16:43:26.987485Z",
     "iopub.status.idle": "2024-03-05T16:43:26.999223Z",
     "shell.execute_reply": "2024-03-05T16:43:26.997922Z",
     "shell.execute_reply.started": "2024-03-05T16:43:26.987573Z"
    }
   },
   "outputs": [
    {
     "name": "stdout",
     "output_type": "stream",
     "text": [
      "Canberra LCDC 1: Selected 2 features: ['Period_band_r', 'Harmonics_phase_2_r']\n",
      "Canberra LCDC 2: Selected 2 features: ['Period_band_r', 'Harmonics_phase_2_r']\n"
     ]
    }
   ],
   "source": [
    "# Reloading to\n",
    "sfs_df1 = pd.read_csv(\".tempres_df1.csv\", index_col=0)\n",
    "feats_idx1, feats1 = utils.load_best_features(sfs_df1)\n",
    "print(f\"{metric_str} LCDC 1: Selected {len(feats1)} features: {feats1}\")\n",
    "\n",
    "sfs_df2 = pd.read_csv(\".tempres_df1.csv\", index_col=0)\n",
    "feats_idx2, feats2 = utils.load_best_features(sfs_df2)\n",
    "print(f\"{metric_str} LCDC 2: Selected {len(feats2)} features: {feats2}\")"
   ]
  },
  {
   "cell_type": "code",
   "execution_count": 15,
   "id": "972576dd-7664-406f-8298-c4ba2473e02e",
   "metadata": {
    "execution": {
     "iopub.execute_input": "2024-03-05T16:43:27.001618Z",
     "iopub.status.busy": "2024-03-05T16:43:27.001475Z",
     "iopub.status.idle": "2024-03-05T16:43:27.006835Z",
     "shell.execute_reply": "2024-03-05T16:43:27.005794Z",
     "shell.execute_reply.started": "2024-03-05T16:43:27.001609Z"
    }
   },
   "outputs": [],
   "source": [
    "# results_dict[metric_str][1][\"selected_feats\"] = feats1\n",
    "# results_dict[metric_str][2][\"selected_feats\"] = feats2\n",
    "\n",
    "# results_dict[metric_str][1][\"num_feats\"] = len(feats1)\n",
    "# results_dict[metric_str][2][\"num_feats\"] = len(feats2)"
   ]
  },
  {
   "cell_type": "code",
   "execution_count": 16,
   "id": "b76bca0e-9221-4834-93ff-c9d492fdbcd6",
   "metadata": {
    "execution": {
     "iopub.execute_input": "2024-03-05T16:43:27.010802Z",
     "iopub.status.busy": "2024-03-05T16:43:27.009928Z",
     "iopub.status.idle": "2024-03-05T16:43:27.019372Z",
     "shell.execute_reply": "2024-03-05T16:43:27.017636Z",
     "shell.execute_reply.started": "2024-03-05T16:43:27.010643Z"
    }
   },
   "outputs": [],
   "source": [
    "def custom_plot_sfs(feat_selector, feats, title=\"\"):\n",
    "    fig = plot_sfs(\n",
    "        feat_selector.get_metric_dict(),\n",
    "        kind=\"std_dev\",\n",
    "        # color=sns.color_palette(\"Paired\")[1],\n",
    "        # bcolor=sns.color_palette(\"Paired\")[0],\n",
    "        color=sns.color_palette()[0],\n",
    "        bcolor=\"#93aad0\",\n",
    "        ylabel=\"F1 Score (%)\",  # scoring\n",
    "    )\n",
    "    fig[1].set_title(title) #Set 1 (first half)\n",
    "\n",
    "    tick_freq = 5\n",
    "    fig[1].set_xticks(\n",
    "        [x for x in list(feat_selector.get_metric_dict().keys()) if x % tick_freq == 0]\n",
    "    )\n",
    "\n",
    "    # Temp fix to get % instead of 0-1 values\n",
    "    fig[1].yaxis.set_major_formatter(\n",
    "        ticker.FuncFormatter(lambda x, pos: \"{0:g}\".format(x * 100))\n",
    "    )\n",
    "\n",
    "    plt.locator_params(axis=\"y\", nbins=6)\n",
    "    plt.axvline(x=len(feats), color=sns.color_palette()[3], label=\"Selected features\")"
   ]
  },
  {
   "cell_type": "code",
   "execution_count": 17,
   "id": "95c41be4-8f9d-4ebc-afa4-c4ec5e45764c",
   "metadata": {
    "execution": {
     "iopub.execute_input": "2024-03-05T16:43:27.020669Z",
     "iopub.status.busy": "2024-03-05T16:43:27.020435Z",
     "iopub.status.idle": "2024-03-05T16:43:27.662824Z",
     "shell.execute_reply": "2024-03-05T16:43:27.659604Z",
     "shell.execute_reply.started": "2024-03-05T16:43:27.020647Z"
    }
   },
   "outputs": [
    {
     "data": {
      "image/png": "[encoded data removed]",
      "text/plain": [
       "<Figure size 640x480 with 1 Axes>"
      ]
     },
     "metadata": {},
     "output_type": "display_data"
    },
    {
     "data": {
      "image/png": "[encoded data removed]",
      "text/plain": [
       "<Figure size 640x480 with 1 Axes>"
      ]
     },
     "metadata": {},
     "output_type": "display_data"
    }
   ],
   "source": [
    "custom_plot_sfs(feat_selector1, feats1,\"Set 1 (first half)\")\n",
    "\n",
    "custom_plot_sfs(feat_selector2, feats2,\"Set 2 (first half)\")"
   ]
  },
  {
   "cell_type": "code",
   "execution_count": 18,
   "id": "23a34fd0-11b7-4c14-a3ae-dab197f49661",
   "metadata": {
    "execution": {
     "iopub.execute_input": "2024-03-05T16:43:27.664850Z",
     "iopub.status.busy": "2024-03-05T16:43:27.664291Z",
     "iopub.status.idle": "2024-03-05T16:43:27.734676Z",
     "shell.execute_reply": "2024-03-05T16:43:27.733697Z",
     "shell.execute_reply.started": "2024-03-05T16:43:27.664821Z"
    }
   },
   "outputs": [],
   "source": [
    "HIDDENy_df = pd.read_csv(\"data/HIDDENy_df_multiclass.csv\", index_col=0)\n",
    "HIDDENX_df = pd.read_csv(\"data/HIDDENX_df_multiclass.csv\", index_col=0)"
   ]
  },
  {
   "cell_type": "code",
   "execution_count": 19,
   "id": "ab365f9e-414b-4a90-8453-0490b8d21ad8",
   "metadata": {
    "execution": {
     "iopub.execute_input": "2024-03-05T16:43:27.745612Z",
     "iopub.status.busy": "2024-03-05T16:43:27.743917Z",
     "iopub.status.idle": "2024-03-05T16:43:27.770997Z",
     "shell.execute_reply": "2024-03-05T16:43:27.769122Z",
     "shell.execute_reply.started": "2024-03-05T16:43:27.745595Z"
    }
   },
   "outputs": [],
   "source": [
    "HIDDENX_df1 = HIDDENX_df.loc[:, feats1]\n",
    "HIDDENX_df1 = HIDDENX_df1.dropna()\n",
    "HIDDENy_df1 = HIDDENy_df.loc[HIDDENX_df1.index]\n",
    "HIDDENX1 = HIDDENX_df1.to_numpy()\n",
    "HIDDENy1 = HIDDENy_df1.to_numpy().ravel()\n",
    "\n",
    "HIDDENX_df2 = HIDDENX_df.loc[:, feats2]\n",
    "HIDDENX_df2 = HIDDENX_df2.dropna()\n",
    "HIDDENy_df2 = HIDDENy_df.loc[HIDDENX_df2.index]\n",
    "HIDDENX2 = HIDDENX_df2.to_numpy()\n",
    "HIDDENy2 = HIDDENy_df2.to_numpy().ravel()\n",
    "\n",
    "# assert (HIDDENX2 == HIDDENX2).all()"
   ]
  },
  {
   "cell_type": "code",
   "execution_count": 20,
   "id": "64d257d1-84db-4f4c-8e60-5e0bd7d5db1a",
   "metadata": {
    "execution": {
     "iopub.execute_input": "2024-03-05T16:43:27.774358Z",
     "iopub.status.busy": "2024-03-05T16:43:27.773365Z",
     "iopub.status.idle": "2024-03-05T16:43:28.458673Z",
     "shell.execute_reply": "2024-03-05T16:43:28.450741Z",
     "shell.execute_reply.started": "2024-03-05T16:43:27.774289Z"
    }
   },
   "outputs": [
    {
     "ename": "NotFittedError",
     "evalue": "This DistanceMetricClassifier instance is not fitted yet. Call 'fit' with appropriate arguments before using this estimator.",
     "output_type": "error",
     "traceback": [
      "\u001b[0;31m---------------------------------------------------------------------------\u001b[0m",
      "\u001b[0;31mNotFittedError\u001b[0m                            Traceback (most recent call last)",
      "Cell \u001b[0;32mIn[20], line 1\u001b[0m\n\u001b[0;32m----> 1\u001b[0m HIDDENypred1 \u001b[38;5;241m=\u001b[39m \u001b[43mlcdc1\u001b[49m\u001b[38;5;241;43m.\u001b[39;49m\u001b[43mpredict\u001b[49m\u001b[43m(\u001b[49m\u001b[43mHIDDENX1\u001b[49m\u001b[43m)\u001b[49m\n\u001b[1;32m      2\u001b[0m HIDDENypred2 \u001b[38;5;241m=\u001b[39m lcdc2\u001b[38;5;241m.\u001b[39mpredict(HIDDENX2)\n",
      "File \u001b[0;32m~/Research/DistClassiPy/distclassipy/classifier.py:145\u001b[0m, in \u001b[0;36mDistanceMetricClassifier.predict\u001b[0;34m(self, X)\u001b[0m\n\u001b[1;32m    135\u001b[0m \u001b[38;5;28;01mdef\u001b[39;00m \u001b[38;5;21mpredict\u001b[39m(\u001b[38;5;28mself\u001b[39m, X: np\u001b[38;5;241m.\u001b[39marray):\n\u001b[1;32m    136\u001b[0m \u001b[38;5;250m    \u001b[39m\u001b[38;5;124;03m\"\"\"Predict the class labels for the provided data.\u001b[39;00m\n\u001b[1;32m    137\u001b[0m \n\u001b[1;32m    138\u001b[0m \u001b[38;5;124;03m    The prediction is based on the distance of each data point to the training template.\u001b[39;00m\n\u001b[0;32m   (...)\u001b[0m\n\u001b[1;32m    143\u001b[0m \u001b[38;5;124;03m        The input samples.\u001b[39;00m\n\u001b[1;32m    144\u001b[0m \u001b[38;5;124;03m    \"\"\"\u001b[39;00m\n\u001b[0;32m--> 145\u001b[0m     \u001b[43mcheck_is_fitted\u001b[49m\u001b[43m(\u001b[49m\u001b[38;5;28;43mself\u001b[39;49m\u001b[43m,\u001b[49m\u001b[43m \u001b[49m\u001b[38;5;124;43m\"\u001b[39;49m\u001b[38;5;124;43mis_fitted_\u001b[39;49m\u001b[38;5;124;43m\"\u001b[39;49m\u001b[43m)\u001b[49m\n\u001b[1;32m    146\u001b[0m     X \u001b[38;5;241m=\u001b[39m check_array(X)\n\u001b[1;32m    148\u001b[0m     \u001b[38;5;28;01mif\u001b[39;00m \u001b[38;5;129;01mnot\u001b[39;00m \u001b[38;5;28mself\u001b[39m\u001b[38;5;241m.\u001b[39mscale:\n",
      "File \u001b[0;32m~/miniconda3/lib/python3.12/site-packages/sklearn/utils/validation.py:1622\u001b[0m, in \u001b[0;36mcheck_is_fitted\u001b[0;34m(estimator, attributes, msg, all_or_any)\u001b[0m\n\u001b[1;32m   1619\u001b[0m     \u001b[38;5;28;01mraise\u001b[39;00m \u001b[38;5;167;01mTypeError\u001b[39;00m(\u001b[38;5;124m\"\u001b[39m\u001b[38;5;132;01m%s\u001b[39;00m\u001b[38;5;124m is not an estimator instance.\u001b[39m\u001b[38;5;124m\"\u001b[39m \u001b[38;5;241m%\u001b[39m (estimator))\n\u001b[1;32m   1621\u001b[0m \u001b[38;5;28;01mif\u001b[39;00m \u001b[38;5;129;01mnot\u001b[39;00m _is_fitted(estimator, attributes, all_or_any):\n\u001b[0;32m-> 1622\u001b[0m     \u001b[38;5;28;01mraise\u001b[39;00m NotFittedError(msg \u001b[38;5;241m%\u001b[39m {\u001b[38;5;124m\"\u001b[39m\u001b[38;5;124mname\u001b[39m\u001b[38;5;124m\"\u001b[39m: \u001b[38;5;28mtype\u001b[39m(estimator)\u001b[38;5;241m.\u001b[39m\u001b[38;5;18m__name__\u001b[39m})\n",
      "\u001b[0;31mNotFittedError\u001b[0m: This DistanceMetricClassifier instance is not fitted yet. Call 'fit' with appropriate arguments before using this estimator."
     ]
    }
   ],
   "source": [
    "HIDDENypred1 = lcdc1.predict(HIDDENX1)\n",
    "HIDDENypred2 = lcdc2.predict(HIDDENX2)"
   ]
  },
  {
   "cell_type": "code",
   "execution_count": null,
   "id": "d0a86ff2-b423-4fc5-a6fd-7cdc055c4af3",
   "metadata": {
    "execution": {
     "iopub.status.busy": "2024-03-05T16:43:28.461065Z",
     "iopub.status.idle": "2024-03-05T16:43:28.461830Z",
     "shell.execute_reply": "2024-03-05T16:43:28.461647Z",
     "shell.execute_reply.started": "2024-03-05T16:43:28.461636Z"
    }
   },
   "outputs": [],
   "source": [
    "\n",
    "\n",
    "\n",
    "\n",
    "\n",
    "\n",
    "    results_dict[metric_str] = {}\n",
    "    choose_objs = 50\n",
    "\n",
    "    for run_num in tqdm(range(1, 11), desc=\"Run Number\", leave=False):\n",
    "\n",
    "        print(\"*\" * 10, f\"Run {run_num}\", \"*\" * 10)\n",
    "\n",
    "        #### NEW - choose 100 from each class\n",
    "        cury_df = HIDDENy_df.groupby(\"class\").sample(n=choose_objs).sample(frac=1) # Last sample for shuffling\n",
    "        curX_df = HIDDENX_df.loc[cury_df.index]\n",
    "        curX = curX_df.to_numpy()\n",
    "        cury = cury_df.to_numpy().ravel()\n",
    "        assert curX.shape[0]==cury.shape[0]\n",
    "        \n",
    "        results_dict[metric_str][run_num] = {}\n",
    "\n",
    "        cury_pred = lcdc.predict_and_analyse(curX)\n",
    "        \n",
    "        acc = accuracy_score(y_true=cury, y_pred=cury_pred)\n",
    "        f1score = f1_score(y_true=cury, y_pred=cury_pred, average=\"macro\")\n",
    "        matthew_coef = matthews_corrcoef(y_true=cury, y_pred=cury_pred)\n",
    "\n",
    "\n",
    "        results_dict[metric_str][run_num][\"acc\"] = acc\n",
    "        results_dict[metric_str][run_num][\"f1score\"] = f1score\n",
    "        results_dict[metric_str][run_num][\"matthew_coef\"] = matthew_coef\n",
    "        results_dict[metric_str][run_num][\"features\"] = feats\n",
    "        results_dict[metric_str][run_num][\"choose_objs\"] = choose_objs\n",
    "\n",
    "    \n",
    "        print(\"\\tExpected Score from training:\")\n",
    "        print(\n",
    "            f\"\\t\\tF1 = {sfs_df.loc[len(feats)]['avg_score']*100:.2f} ± {sfs_df.loc[len(feats)]['std_dev']*100:.2f}%\"\n",
    "        )\n",
    "        print(\"\\tActual score on hidden set:\")\n",
    "        # print(f\"\\tAcc = {100*acc:.2f} %\")\n",
    "        print(f\"\\t\\tF1 = {100*f1score:.2f} %\")\n",
    "    \n",
    "        ax = utils.plot_cm(y_true=cury, y_pred=cury_pred)\n",
    "        plt.title(f\"{metric_str.title()} metric (hidden set)\")\n",
    "        # plt.savefig(os.path.join(locpath, \"hidden_cm.pdf\"), bbox_inches=\"tight\")\n",
    "        # plt.savefig(f\"hidden_cm/{metric_str}.pdf\",bbox_inches = 'tight')\n",
    "        plt.show()"
   ]
  },
  {
   "cell_type": "markdown",
   "id": "d0e0ea3e-a419-4cfa-a31b-e84dd6235c81",
   "metadata": {},
   "source": [
    "---\n",
    "---"
   ]
  },
  {
   "cell_type": "code",
   "execution_count": null,
   "id": "e9a346a0-836d-4061-93d8-c906ed3a89c3",
   "metadata": {
    "execution": {
     "iopub.status.busy": "2024-03-05T16:43:28.463199Z",
     "iopub.status.idle": "2024-03-05T16:43:28.463769Z",
     "shell.execute_reply": "2024-03-05T16:43:28.463464Z",
     "shell.execute_reply.started": "2024-03-05T16:43:28.463440Z"
    }
   },
   "outputs": [],
   "source": [
    "# results_dict = {}\n",
    "# for metric in tqdm(all_metrics, desc=\"Metric\", leave=True):\n",
    "#     metric_str = utils.get_metric_name(metric)\n",
    "#     locpath = os.path.join(\"results\", results_subfolder, \"distclassipy\", metric_str)\n",
    "#     print(\"*\" * 20, metric_str, \"*\" * 20)\n",
    "\n",
    "#     sfs_df = pd.read_csv(os.path.join(locpath, \"sfs_allfeatures.csv\"), index_col=0)\n",
    "#     feats_idx, feats = utils.load_best_features(sfs_df)\n",
    "\n",
    "#     lcdc1 = dcpy.DistanceMetricClassifier(\n",
    "#         metric=metric, scale=True, \n",
    "#         central_stat=settings_dict[\"central_stat\"], \n",
    "#         dispersion_stat=settings_dict[\"dispersion_stat\"],\n",
    "#         calculate_kde=False, calculate_1d_dist=False\n",
    "#     )\n",
    "\n",
    "#     lcdc2 = dcpy.DistanceMetricClassifier(\n",
    "#         metric=metric, scale=True, \n",
    "#         central_stat=settings_dict[\"central_stat\"], \n",
    "#         dispersion_stat=settings_dict[\"dispersion_stat\"],\n",
    "#         calculate_kde=False, calculate_1d_dist=False\n",
    "#     )\n",
    "\n",
    "#     X_df = X_df_FULL.loc[y_df.index]\n",
    "\n",
    "#     X_df = X_df.loc[:, feats]\n",
    "\n",
    "#     X = X_df.to_numpy()\n",
    "#     y = y_df.to_numpy().ravel()\n",
    "\n",
    "#     lcdc.fit(X, y)\n",
    "\n",
    "#     HIDDENy_df = pd.read_csv(\"data/HIDDENy_df_multiclass.csv\", index_col=0)\n",
    "#     HIDDENX_df = pd.read_csv(\"data/HIDDENX_df_multiclass.csv\", index_col=0)\n",
    "\n",
    "#     HIDDENX_df = HIDDENX_df.loc[:, feats]\n",
    "#     HIDDENX_df = HIDDENX_df.dropna()\n",
    "#     HIDDENy_df = HIDDENy_df.loc[HIDDENX_df.index]\n",
    "\n",
    "#     # HIDDENX = HIDDENX_df.to_numpy()\n",
    "#     # HIDDENy = HIDDENy_df.to_numpy().ravel()\n",
    "\n",
    "#     results_dict[metric_str] = {}\n",
    "#     choose_objs = 50\n",
    "\n",
    "#     for run_num in tqdm(range(1, 11), desc=\"Run Number\", leave=False):\n",
    "\n",
    "#         print(\"*\" * 10, f\"Run {run_num}\", \"*\" * 10)\n",
    "\n",
    "#         #### NEW - choose 100 from each class\n",
    "#         cury_df = HIDDENy_df.groupby(\"class\").sample(n=choose_objs).sample(frac=1) # Last sample for shuffling\n",
    "#         curX_df = HIDDENX_df.loc[cury_df.index]\n",
    "#         curX = curX_df.to_numpy()\n",
    "#         cury = cury_df.to_numpy().ravel()\n",
    "#         assert curX.shape[0]==cury.shape[0]\n",
    "        \n",
    "#         results_dict[metric_str][run_num] = {}\n",
    "\n",
    "#         cury_pred = lcdc.predict_and_analyse(curX)\n",
    "        \n",
    "#         acc = accuracy_score(y_true=cury, y_pred=cury_pred)\n",
    "#         f1score = f1_score(y_true=cury, y_pred=cury_pred, average=\"macro\")\n",
    "#         matthew_coef = matthews_corrcoef(y_true=cury, y_pred=cury_pred)\n",
    "\n",
    "\n",
    "#         results_dict[metric_str][run_num][\"acc\"] = acc\n",
    "#         results_dict[metric_str][run_num][\"f1score\"] = f1score\n",
    "#         results_dict[metric_str][run_num][\"matthew_coef\"] = matthew_coef\n",
    "#         results_dict[metric_str][run_num][\"features\"] = feats\n",
    "#         results_dict[metric_str][run_num][\"choose_objs\"] = choose_objs\n",
    "\n",
    "    \n",
    "#         print(\"\\tExpected Score from training:\")\n",
    "#         print(\n",
    "#             f\"\\t\\tF1 = {sfs_df.loc[len(feats)]['avg_score']*100:.2f} ± {sfs_df.loc[len(feats)]['std_dev']*100:.2f}%\"\n",
    "#         )\n",
    "#         print(\"\\tActual score on hidden set:\")\n",
    "#         # print(f\"\\tAcc = {100*acc:.2f} %\")\n",
    "#         print(f\"\\t\\tF1 = {100*f1score:.2f} %\")\n",
    "    \n",
    "#         ax = utils.plot_cm(y_true=cury, y_pred=cury_pred)\n",
    "#         plt.title(f\"{metric_str.title()} metric (hidden set)\")\n",
    "#         # plt.savefig(os.path.join(locpath, \"hidden_cm.pdf\"), bbox_inches=\"tight\")\n",
    "#         # plt.savefig(f\"hidden_cm/{metric_str}.pdf\",bbox_inches = 'tight')\n",
    "#         plt.show()"
   ]
  },
  {
   "cell_type": "code",
   "execution_count": null,
   "id": "386b7250-5d65-407d-99d8-e396e08ea076",
   "metadata": {
    "execution": {
     "iopub.status.busy": "2024-03-05T16:43:28.464811Z",
     "iopub.status.idle": "2024-03-05T16:43:28.465656Z",
     "shell.execute_reply": "2024-03-05T16:43:28.465442Z",
     "shell.execute_reply.started": "2024-03-05T16:43:28.465436Z"
    }
   },
   "outputs": [],
   "source": [
    "# # Flatten the dictionary\n",
    "# data = []\n",
    "# for method, values in results_dict.items():\n",
    "#     for key, val in values.items():\n",
    "#         val['metric'] = method\n",
    "#         val['run'] = key\n",
    "#         data.append(val)\n",
    "\n",
    "# # Convert to DataFrame\n",
    "# df = pd.DataFrame(data)\n",
    "# df = df.loc[:,['metric', 'run', 'f1score', 'acc', 'features', 'matthew_coef', 'choose_objs']]"
   ]
  },
  {
   "cell_type": "code",
   "execution_count": null,
   "id": "5e8d244b-9d73-4bc4-a357-a02cba94f765",
   "metadata": {
    "execution": {
     "iopub.status.busy": "2024-03-05T16:43:28.466821Z",
     "iopub.status.idle": "2024-03-05T16:43:28.466962Z",
     "shell.execute_reply": "2024-03-05T16:43:28.466892Z",
     "shell.execute_reply.started": "2024-03-05T16:43:28.466887Z"
    }
   },
   "outputs": [],
   "source": [
    "# print(\"Mean\")\n",
    "# df.drop([\"run\"],axis=1).groupby(\"metric\").mean(numeric_only=True)"
   ]
  },
  {
   "cell_type": "code",
   "execution_count": null,
   "id": "de5581f8-9095-4b34-89d8-c5e4f5c371a0",
   "metadata": {
    "execution": {
     "iopub.status.busy": "2024-03-05T16:43:28.467878Z",
     "iopub.status.idle": "2024-03-05T16:43:28.468119Z",
     "shell.execute_reply": "2024-03-05T16:43:28.468044Z",
     "shell.execute_reply.started": "2024-03-05T16:43:28.468036Z"
    }
   },
   "outputs": [],
   "source": [
    "# print(\"Mean\")\n",
    "# df.drop([\"run\"],axis=1).groupby(\"metric\").mean(numeric_only=True)"
   ]
  },
  {
   "cell_type": "code",
   "execution_count": null,
   "id": "fcb28913-abc0-4eae-a1ba-7b1663a1c887",
   "metadata": {
    "execution": {
     "iopub.status.busy": "2024-03-05T16:43:28.469273Z",
     "iopub.status.idle": "2024-03-05T16:43:28.469673Z",
     "shell.execute_reply": "2024-03-05T16:43:28.469380Z",
     "shell.execute_reply.started": "2024-03-05T16:43:28.469372Z"
    }
   },
   "outputs": [],
   "source": [
    "# print(\"Std deviation\")\n",
    "# df.drop([\"run\"],axis=1).groupby(\"metric\").std(numeric_only=True)"
   ]
  },
  {
   "cell_type": "code",
   "execution_count": null,
   "id": "b73c68ed-6fb3-4468-a10d-bac710677f1b",
   "metadata": {
    "execution": {
     "iopub.status.busy": "2024-03-05T16:43:28.470366Z",
     "iopub.status.idle": "2024-03-05T16:43:28.470703Z",
     "shell.execute_reply": "2024-03-05T16:43:28.470510Z",
     "shell.execute_reply.started": "2024-03-05T16:43:28.470487Z"
    }
   },
   "outputs": [],
   "source": [
    "# df.drop([\"run\"],axis=1).groupby(\"metric\").describe().loc[:,[\n",
    "#     ('f1score', 'count'),\n",
    "#     ('f1score',  'mean'),\n",
    "#     ('f1score',   'std'),\n",
    "#     ('choose_objs', 'mean')\n",
    "    \n",
    "#     # ('f1score',   'min'),\n",
    "#     # ('f1score',   '25%'),\n",
    "#     # ('f1score',   '50%'),\n",
    "#     # ('f1score',   '75%'),\n",
    "#     # ('f1score',   'max'),\n",
    "#     # ('selected_feats', 'count'),\n",
    "#     # ('selected_feats',  'mean'),\n",
    "#     # ('selected_feats',   'std'),\n",
    "#     # ('selected_feats',   'min'),\n",
    "#     # ('selected_feats',   '25%'),\n",
    "#     # ('selected_feats',   '50%'),\n",
    "#     # ('selected_feats',   '75%'),\n",
    "#     # ('selected_feats',   'max'),\n",
    "\n",
    "# ]].round(3)"
   ]
  },
  {
   "cell_type": "code",
   "execution_count": null,
   "id": "f15ab55a-4c50-4b2b-90af-fc6db15b578f",
   "metadata": {},
   "outputs": [],
   "source": []
  }
 ],
 "metadata": {
  "kernelspec": {
   "display_name": "Python 3 (ipykernel)",
   "language": "python",
   "name": "python3"
  },
  "language_info": {
   "codemirror_mode": {
    "name": "ipython",
    "version": 3
   },
   "file_extension": ".py",
   "mimetype": "text/x-python",
   "name": "python",
   "nbconvert_exporter": "python",
   "pygments_lexer": "ipython3",
   "version": "3.12.2"
  }
 },
 "nbformat": 4,
 "nbformat_minor": 5
}
